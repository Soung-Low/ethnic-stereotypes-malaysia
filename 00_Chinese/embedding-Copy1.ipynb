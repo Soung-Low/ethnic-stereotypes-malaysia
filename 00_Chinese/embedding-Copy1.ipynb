{
 "cells": [
  {
   "cell_type": "code",
   "execution_count": 1,
   "id": "92549559-4533-4ae6-bd4a-9452f93bd993",
   "metadata": {},
   "outputs": [
    {
     "name": "stdout",
     "output_type": "stream",
     "text": [
      "Pretty printing has been turned OFF\n"
     ]
    }
   ],
   "source": [
    "import pickle\n",
    "import pandas as pd\n",
    "import jieba\n",
    "import time\n",
    "\n",
    "from gensim.models import Word2Vec\n",
    "%pprint # turn pretty printing off "
   ]
  },
  {
   "cell_type": "code",
   "execution_count": 2,
   "id": "c2046c43-63bd-4540-a30d-161251165bd2",
   "metadata": {},
   "outputs": [
    {
     "data": {
      "text/html": [
       "<div>\n",
       "<style scoped>\n",
       "    .dataframe tbody tr th:only-of-type {\n",
       "        vertical-align: middle;\n",
       "    }\n",
       "\n",
       "    .dataframe tbody tr th {\n",
       "        vertical-align: top;\n",
       "    }\n",
       "\n",
       "    .dataframe thead th {\n",
       "        text-align: right;\n",
       "    }\n",
       "</style>\n",
       "<table border=\"1\" class=\"dataframe\">\n",
       "  <thead>\n",
       "    <tr style=\"text-align: right;\">\n",
       "      <th></th>\n",
       "      <th>title</th>\n",
       "      <th>link</th>\n",
       "      <th>date</th>\n",
       "      <th>view</th>\n",
       "      <th>article</th>\n",
       "      <th>len</th>\n",
       "      <th>loc_date</th>\n",
       "      <th>clean_len</th>\n",
       "      <th>tokens</th>\n",
       "    </tr>\n",
       "  </thead>\n",
       "  <tbody>\n",
       "    <tr>\n",
       "      <th>0</th>\n",
       "      <td>◤头条抢鲜看◢ 2021年7月8日</td>\n",
       "      <td>https://www.chinapress.com.my/20210707/%e2%97%...</td>\n",
       "      <td>2021-07-07</td>\n",
       "      <td>11512</td>\n",
       "      <td>巫统撤回支持 敦促首相下台 慕尤丁宣布依斯迈任副揆 希山升高级部长 ◤新冠又一年◢ 病患满到...</td>\n",
       "      <td>326</td>\n",
       "      <td>None</td>\n",
       "      <td>126</td>\n",
       "      <td>[巫统, 撤回, 支持,  , 敦促, 首相, 下台,  , 慕尤丁, 宣布, 依斯迈, 任...</td>\n",
       "    </tr>\n",
       "    <tr>\n",
       "      <th>1</th>\n",
       "      <td>◤新冠又一年◢ 女子引爆霹雪跨州感染群 验61人 34人确诊</td>\n",
       "      <td>https://www.chinapress.com.my/20210707/%e2%97%...</td>\n",
       "      <td>2021-07-07</td>\n",
       "      <td>28478</td>\n",
       "      <td>国内今日新增1个横跨霹雳和雪兰莪的社区新冠肺炎感染群，首发患者是1名拥有跨州记录的大马公民！...</td>\n",
       "      <td>152</td>\n",
       "      <td>（吉隆坡7日讯）</td>\n",
       "      <td>144</td>\n",
       "      <td>[国内, 今日, 新增, 1, 个, 横跨, 霹雳, 和, 雪兰莪, 的, 社区, 新冠, ...</td>\n",
       "    </tr>\n",
       "    <tr>\n",
       "      <th>2</th>\n",
       "      <td>纳兹里：委任依斯迈及希山 能稳定国内政局</td>\n",
       "      <td>https://www.chinapress.com.my/20210707/%e7%ba%...</td>\n",
       "      <td>2021-07-07</td>\n",
       "      <td>16502</td>\n",
       "      <td>巫统硝山国会议员拿督斯里纳兹里指出，委任拿督斯里依斯迈沙比里担任副首相和让拿督斯里希山慕丁担...</td>\n",
       "      <td>233</td>\n",
       "      <td>（吉隆坡7日讯）</td>\n",
       "      <td>225</td>\n",
       "      <td>[巫统, 硝山, 国会议员, 拿督斯里, 纳兹里, 指出, ，, 委任, 拿督斯里, 依斯迈...</td>\n",
       "    </tr>\n",
       "    <tr>\n",
       "      <th>3</th>\n",
       "      <td>敦马致函议长 要求尽早开国会</td>\n",
       "      <td>https://www.chinapress.com.my/20210707/%e6%95%...</td>\n",
       "      <td>2021-07-07</td>\n",
       "      <td>9832</td>\n",
       "      <td>前首相敦马哈迪说，他已致函向国会下议院议长拿督阿兹哈阿兹占提呈动议，要求尽早召开国会，而不是...</td>\n",
       "      <td>299</td>\n",
       "      <td>（吉隆坡7日讯）</td>\n",
       "      <td>291</td>\n",
       "      <td>[前首相, 敦马哈迪, 说, ，, 他, 已, 致函, 向, 国会, 下议院, 议长, 拿督...</td>\n",
       "    </tr>\n",
       "    <tr>\n",
       "      <th>4</th>\n",
       "      <td>◤雪州EMCO◢ MITI：雪EMCO区 更多领域可开了</td>\n",
       "      <td>https://www.chinapress.com.my/20210707/%e2%97%...</td>\n",
       "      <td>2021-07-07</td>\n",
       "      <td>183974</td>\n",
       "      <td>国际贸易与工业部宣布，雪州强化行动管制令地区的电气与电子（E&amp;E）行业及其供应链、航空领域（...</td>\n",
       "      <td>279</td>\n",
       "      <td>（吉隆坡7日讯）</td>\n",
       "      <td>271</td>\n",
       "      <td>[国际贸易, 与, 工业部, 宣布, ，, 雪州, 强化, 行动, 管制, 令, 地区, 的...</td>\n",
       "    </tr>\n",
       "  </tbody>\n",
       "</table>\n",
       "</div>"
      ],
      "text/plain": [
       "                            title  \\\n",
       "0               ◤头条抢鲜看◢ 2021年7月8日   \n",
       "1  ◤新冠又一年◢ 女子引爆霹雪跨州感染群 验61人 34人确诊   \n",
       "2            纳兹里：委任依斯迈及希山 能稳定国内政局   \n",
       "3                  敦马致函议长 要求尽早开国会   \n",
       "4    ◤雪州EMCO◢ MITI：雪EMCO区 更多领域可开了   \n",
       "\n",
       "                                                link       date    view  \\\n",
       "0  https://www.chinapress.com.my/20210707/%e2%97%... 2021-07-07   11512   \n",
       "1  https://www.chinapress.com.my/20210707/%e2%97%... 2021-07-07   28478   \n",
       "2  https://www.chinapress.com.my/20210707/%e7%ba%... 2021-07-07   16502   \n",
       "3  https://www.chinapress.com.my/20210707/%e6%95%... 2021-07-07    9832   \n",
       "4  https://www.chinapress.com.my/20210707/%e2%97%... 2021-07-07  183974   \n",
       "\n",
       "                                             article  len  loc_date  \\\n",
       "0  巫统撤回支持 敦促首相下台 慕尤丁宣布依斯迈任副揆 希山升高级部长 ◤新冠又一年◢ 病患满到...  326      None   \n",
       "1  国内今日新增1个横跨霹雳和雪兰莪的社区新冠肺炎感染群，首发患者是1名拥有跨州记录的大马公民！...  152  （吉隆坡7日讯）   \n",
       "2  巫统硝山国会议员拿督斯里纳兹里指出，委任拿督斯里依斯迈沙比里担任副首相和让拿督斯里希山慕丁担...  233  （吉隆坡7日讯）   \n",
       "3  前首相敦马哈迪说，他已致函向国会下议院议长拿督阿兹哈阿兹占提呈动议，要求尽早召开国会，而不是...  299  （吉隆坡7日讯）   \n",
       "4  国际贸易与工业部宣布，雪州强化行动管制令地区的电气与电子（E&E）行业及其供应链、航空领域（...  279  （吉隆坡7日讯）   \n",
       "\n",
       "   clean_len                                             tokens  \n",
       "0        126  [巫统, 撤回, 支持,  , 敦促, 首相, 下台,  , 慕尤丁, 宣布, 依斯迈, 任...  \n",
       "1        144  [国内, 今日, 新增, 1, 个, 横跨, 霹雳, 和, 雪兰莪, 的, 社区, 新冠, ...  \n",
       "2        225  [巫统, 硝山, 国会议员, 拿督斯里, 纳兹里, 指出, ，, 委任, 拿督斯里, 依斯迈...  \n",
       "3        291  [前首相, 敦马哈迪, 说, ，, 他, 已, 致函, 向, 国会, 下议院, 议长, 拿督...  \n",
       "4        271  [国际贸易, 与, 工业部, 宣布, ，, 雪州, 强化, 行动, 管制, 令, 地区, 的...  "
      ]
     },
     "execution_count": 2,
     "metadata": {},
     "output_type": "execute_result"
    }
   ],
   "source": [
    "df = pickle.load(open('data/data_时事_clean', 'rb'))\n",
    "df.head()"
   ]
  },
  {
   "cell_type": "markdown",
   "id": "0b17b189-1f7f-4e40-bd41-d0905f3ea367",
   "metadata": {
    "tags": [],
    "toc-hr-collapsed": true
   },
   "source": [
    "# Train word embeddings model"
   ]
  },
  {
   "cell_type": "code",
   "execution_count": 3,
   "id": "636913ad-5152-4051-a1fb-5b6378623738",
   "metadata": {},
   "outputs": [],
   "source": [
    "def train_word2vec(texts):\n",
    "    '''Train word embeddings given a list of texts'''    \n",
    "    # Train the model \n",
    "    model = Word2Vec(sentences=text, size=50, window=5, \n",
    "                     min_count=5, workers=3, sg=1,\n",
    "                     hs=0, negative=5, iter=10)\n",
    "    return model"
   ]
  },
  {
   "cell_type": "code",
   "execution_count": 4,
   "id": "799d0c06-8fa2-4e1e-8378-ad944a6a17ca",
   "metadata": {},
   "outputs": [
    {
     "ename": "KeyboardInterrupt",
     "evalue": "",
     "output_type": "error",
     "traceback": [
      "\u001b[1;31m---------------------------------------------------------------------------\u001b[0m",
      "\u001b[1;31mKeyboardInterrupt\u001b[0m                         Traceback (most recent call last)",
      "\u001b[1;32m<ipython-input-4-a7d51038f1ad>\u001b[0m in \u001b[0;36m<module>\u001b[1;34m\u001b[0m\n\u001b[0;32m      1\u001b[0m \u001b[0mtexts\u001b[0m \u001b[1;33m=\u001b[0m \u001b[0mdf\u001b[0m\u001b[1;33m.\u001b[0m\u001b[0mtokens\u001b[0m\u001b[1;33m\u001b[0m\u001b[1;33m\u001b[0m\u001b[0m\n\u001b[0;32m      2\u001b[0m \u001b[1;33m\u001b[0m\u001b[0m\n\u001b[1;32m----> 3\u001b[1;33m model = Word2Vec(sentences=texts, size=50, window=5, \n\u001b[0m\u001b[0;32m      4\u001b[0m                  \u001b[0mmin_count\u001b[0m\u001b[1;33m=\u001b[0m\u001b[1;36m5\u001b[0m\u001b[1;33m,\u001b[0m \u001b[0mworkers\u001b[0m\u001b[1;33m=\u001b[0m\u001b[1;36m3\u001b[0m\u001b[1;33m,\u001b[0m \u001b[0msg\u001b[0m\u001b[1;33m=\u001b[0m\u001b[1;36m1\u001b[0m\u001b[1;33m,\u001b[0m\u001b[1;33m\u001b[0m\u001b[1;33m\u001b[0m\u001b[0m\n\u001b[0;32m      5\u001b[0m                  hs=0, negative=5, iter=10)\n",
      "\u001b[1;32mD:\\Anaconda\\lib\\site-packages\\gensim\\models\\word2vec.py\u001b[0m in \u001b[0;36m__init__\u001b[1;34m(self, sentences, corpus_file, size, alpha, window, min_count, max_vocab_size, sample, seed, workers, min_alpha, sg, hs, negative, ns_exponent, cbow_mean, hashfxn, iter, null_word, trim_rule, sorted_vocab, batch_words, compute_loss, callbacks, max_final_vocab)\u001b[0m\n\u001b[0;32m    777\u001b[0m         \u001b[0mself\u001b[0m\u001b[1;33m.\u001b[0m\u001b[0mtrainables\u001b[0m \u001b[1;33m=\u001b[0m \u001b[0mWord2VecTrainables\u001b[0m\u001b[1;33m(\u001b[0m\u001b[0mseed\u001b[0m\u001b[1;33m=\u001b[0m\u001b[0mseed\u001b[0m\u001b[1;33m,\u001b[0m \u001b[0mvector_size\u001b[0m\u001b[1;33m=\u001b[0m\u001b[0msize\u001b[0m\u001b[1;33m,\u001b[0m \u001b[0mhashfxn\u001b[0m\u001b[1;33m=\u001b[0m\u001b[0mhashfxn\u001b[0m\u001b[1;33m)\u001b[0m\u001b[1;33m\u001b[0m\u001b[1;33m\u001b[0m\u001b[0m\n\u001b[0;32m    778\u001b[0m \u001b[1;33m\u001b[0m\u001b[0m\n\u001b[1;32m--> 779\u001b[1;33m         super(Word2Vec, self).__init__(\n\u001b[0m\u001b[0;32m    780\u001b[0m             \u001b[0msentences\u001b[0m\u001b[1;33m=\u001b[0m\u001b[0msentences\u001b[0m\u001b[1;33m,\u001b[0m \u001b[0mcorpus_file\u001b[0m\u001b[1;33m=\u001b[0m\u001b[0mcorpus_file\u001b[0m\u001b[1;33m,\u001b[0m \u001b[0mworkers\u001b[0m\u001b[1;33m=\u001b[0m\u001b[0mworkers\u001b[0m\u001b[1;33m,\u001b[0m \u001b[0mvector_size\u001b[0m\u001b[1;33m=\u001b[0m\u001b[0msize\u001b[0m\u001b[1;33m,\u001b[0m \u001b[0mepochs\u001b[0m\u001b[1;33m=\u001b[0m\u001b[0miter\u001b[0m\u001b[1;33m,\u001b[0m\u001b[1;33m\u001b[0m\u001b[1;33m\u001b[0m\u001b[0m\n\u001b[0;32m    781\u001b[0m             \u001b[0mcallbacks\u001b[0m\u001b[1;33m=\u001b[0m\u001b[0mcallbacks\u001b[0m\u001b[1;33m,\u001b[0m \u001b[0mbatch_words\u001b[0m\u001b[1;33m=\u001b[0m\u001b[0mbatch_words\u001b[0m\u001b[1;33m,\u001b[0m \u001b[0mtrim_rule\u001b[0m\u001b[1;33m=\u001b[0m\u001b[0mtrim_rule\u001b[0m\u001b[1;33m,\u001b[0m \u001b[0msg\u001b[0m\u001b[1;33m=\u001b[0m\u001b[0msg\u001b[0m\u001b[1;33m,\u001b[0m \u001b[0malpha\u001b[0m\u001b[1;33m=\u001b[0m\u001b[0malpha\u001b[0m\u001b[1;33m,\u001b[0m \u001b[0mwindow\u001b[0m\u001b[1;33m=\u001b[0m\u001b[0mwindow\u001b[0m\u001b[1;33m,\u001b[0m\u001b[1;33m\u001b[0m\u001b[1;33m\u001b[0m\u001b[0m\n",
      "\u001b[1;32mD:\\Anaconda\\lib\\site-packages\\gensim\\models\\base_any2vec.py\u001b[0m in \u001b[0;36m__init__\u001b[1;34m(self, sentences, corpus_file, workers, vector_size, epochs, callbacks, batch_words, trim_rule, sg, alpha, window, seed, hs, negative, ns_exponent, cbow_mean, min_alpha, compute_loss, fast_version, **kwargs)\u001b[0m\n\u001b[0;32m    758\u001b[0m \u001b[1;33m\u001b[0m\u001b[0m\n\u001b[0;32m    759\u001b[0m             \u001b[0mself\u001b[0m\u001b[1;33m.\u001b[0m\u001b[0mbuild_vocab\u001b[0m\u001b[1;33m(\u001b[0m\u001b[0msentences\u001b[0m\u001b[1;33m=\u001b[0m\u001b[0msentences\u001b[0m\u001b[1;33m,\u001b[0m \u001b[0mcorpus_file\u001b[0m\u001b[1;33m=\u001b[0m\u001b[0mcorpus_file\u001b[0m\u001b[1;33m,\u001b[0m \u001b[0mtrim_rule\u001b[0m\u001b[1;33m=\u001b[0m\u001b[0mtrim_rule\u001b[0m\u001b[1;33m)\u001b[0m\u001b[1;33m\u001b[0m\u001b[1;33m\u001b[0m\u001b[0m\n\u001b[1;32m--> 760\u001b[1;33m             self.train(\n\u001b[0m\u001b[0;32m    761\u001b[0m                 \u001b[0msentences\u001b[0m\u001b[1;33m=\u001b[0m\u001b[0msentences\u001b[0m\u001b[1;33m,\u001b[0m \u001b[0mcorpus_file\u001b[0m\u001b[1;33m=\u001b[0m\u001b[0mcorpus_file\u001b[0m\u001b[1;33m,\u001b[0m \u001b[0mtotal_examples\u001b[0m\u001b[1;33m=\u001b[0m\u001b[0mself\u001b[0m\u001b[1;33m.\u001b[0m\u001b[0mcorpus_count\u001b[0m\u001b[1;33m,\u001b[0m\u001b[1;33m\u001b[0m\u001b[1;33m\u001b[0m\u001b[0m\n\u001b[0;32m    762\u001b[0m                 \u001b[0mtotal_words\u001b[0m\u001b[1;33m=\u001b[0m\u001b[0mself\u001b[0m\u001b[1;33m.\u001b[0m\u001b[0mcorpus_total_words\u001b[0m\u001b[1;33m,\u001b[0m \u001b[0mepochs\u001b[0m\u001b[1;33m=\u001b[0m\u001b[0mself\u001b[0m\u001b[1;33m.\u001b[0m\u001b[0mepochs\u001b[0m\u001b[1;33m,\u001b[0m \u001b[0mstart_alpha\u001b[0m\u001b[1;33m=\u001b[0m\u001b[0mself\u001b[0m\u001b[1;33m.\u001b[0m\u001b[0malpha\u001b[0m\u001b[1;33m,\u001b[0m\u001b[1;33m\u001b[0m\u001b[1;33m\u001b[0m\u001b[0m\n",
      "\u001b[1;32mD:\\Anaconda\\lib\\site-packages\\gensim\\models\\word2vec.py\u001b[0m in \u001b[0;36mtrain\u001b[1;34m(self, sentences, corpus_file, total_examples, total_words, epochs, start_alpha, end_alpha, word_count, queue_factor, report_delay, compute_loss, callbacks)\u001b[0m\n\u001b[0;32m    905\u001b[0m \u001b[1;33m\u001b[0m\u001b[0m\n\u001b[0;32m    906\u001b[0m         \"\"\"\n\u001b[1;32m--> 907\u001b[1;33m         return super(Word2Vec, self).train(\n\u001b[0m\u001b[0;32m    908\u001b[0m             \u001b[0msentences\u001b[0m\u001b[1;33m=\u001b[0m\u001b[0msentences\u001b[0m\u001b[1;33m,\u001b[0m \u001b[0mcorpus_file\u001b[0m\u001b[1;33m=\u001b[0m\u001b[0mcorpus_file\u001b[0m\u001b[1;33m,\u001b[0m \u001b[0mtotal_examples\u001b[0m\u001b[1;33m=\u001b[0m\u001b[0mtotal_examples\u001b[0m\u001b[1;33m,\u001b[0m \u001b[0mtotal_words\u001b[0m\u001b[1;33m=\u001b[0m\u001b[0mtotal_words\u001b[0m\u001b[1;33m,\u001b[0m\u001b[1;33m\u001b[0m\u001b[1;33m\u001b[0m\u001b[0m\n\u001b[0;32m    909\u001b[0m             \u001b[0mepochs\u001b[0m\u001b[1;33m=\u001b[0m\u001b[0mepochs\u001b[0m\u001b[1;33m,\u001b[0m \u001b[0mstart_alpha\u001b[0m\u001b[1;33m=\u001b[0m\u001b[0mstart_alpha\u001b[0m\u001b[1;33m,\u001b[0m \u001b[0mend_alpha\u001b[0m\u001b[1;33m=\u001b[0m\u001b[0mend_alpha\u001b[0m\u001b[1;33m,\u001b[0m \u001b[0mword_count\u001b[0m\u001b[1;33m=\u001b[0m\u001b[0mword_count\u001b[0m\u001b[1;33m,\u001b[0m\u001b[1;33m\u001b[0m\u001b[1;33m\u001b[0m\u001b[0m\n",
      "\u001b[1;32mD:\\Anaconda\\lib\\site-packages\\gensim\\models\\base_any2vec.py\u001b[0m in \u001b[0;36mtrain\u001b[1;34m(self, sentences, corpus_file, total_examples, total_words, epochs, start_alpha, end_alpha, word_count, queue_factor, report_delay, compute_loss, callbacks, **kwargs)\u001b[0m\n\u001b[0;32m   1075\u001b[0m         \u001b[0mself\u001b[0m\u001b[1;33m.\u001b[0m\u001b[0mcompute_loss\u001b[0m \u001b[1;33m=\u001b[0m \u001b[0mcompute_loss\u001b[0m\u001b[1;33m\u001b[0m\u001b[1;33m\u001b[0m\u001b[0m\n\u001b[0;32m   1076\u001b[0m         \u001b[0mself\u001b[0m\u001b[1;33m.\u001b[0m\u001b[0mrunning_training_loss\u001b[0m \u001b[1;33m=\u001b[0m \u001b[1;36m0.0\u001b[0m\u001b[1;33m\u001b[0m\u001b[1;33m\u001b[0m\u001b[0m\n\u001b[1;32m-> 1077\u001b[1;33m         return super(BaseWordEmbeddingsModel, self).train(\n\u001b[0m\u001b[0;32m   1078\u001b[0m             \u001b[0mdata_iterable\u001b[0m\u001b[1;33m=\u001b[0m\u001b[0msentences\u001b[0m\u001b[1;33m,\u001b[0m \u001b[0mcorpus_file\u001b[0m\u001b[1;33m=\u001b[0m\u001b[0mcorpus_file\u001b[0m\u001b[1;33m,\u001b[0m \u001b[0mtotal_examples\u001b[0m\u001b[1;33m=\u001b[0m\u001b[0mtotal_examples\u001b[0m\u001b[1;33m,\u001b[0m\u001b[1;33m\u001b[0m\u001b[1;33m\u001b[0m\u001b[0m\n\u001b[0;32m   1079\u001b[0m             \u001b[0mtotal_words\u001b[0m\u001b[1;33m=\u001b[0m\u001b[0mtotal_words\u001b[0m\u001b[1;33m,\u001b[0m \u001b[0mepochs\u001b[0m\u001b[1;33m=\u001b[0m\u001b[0mepochs\u001b[0m\u001b[1;33m,\u001b[0m \u001b[0mstart_alpha\u001b[0m\u001b[1;33m=\u001b[0m\u001b[0mstart_alpha\u001b[0m\u001b[1;33m,\u001b[0m \u001b[0mend_alpha\u001b[0m\u001b[1;33m=\u001b[0m\u001b[0mend_alpha\u001b[0m\u001b[1;33m,\u001b[0m \u001b[0mword_count\u001b[0m\u001b[1;33m=\u001b[0m\u001b[0mword_count\u001b[0m\u001b[1;33m,\u001b[0m\u001b[1;33m\u001b[0m\u001b[1;33m\u001b[0m\u001b[0m\n",
      "\u001b[1;32mD:\\Anaconda\\lib\\site-packages\\gensim\\models\\base_any2vec.py\u001b[0m in \u001b[0;36mtrain\u001b[1;34m(self, data_iterable, corpus_file, epochs, total_examples, total_words, queue_factor, report_delay, callbacks, **kwargs)\u001b[0m\n\u001b[0;32m    549\u001b[0m \u001b[1;33m\u001b[0m\u001b[0m\n\u001b[0;32m    550\u001b[0m             \u001b[1;32mif\u001b[0m \u001b[0mdata_iterable\u001b[0m \u001b[1;32mis\u001b[0m \u001b[1;32mnot\u001b[0m \u001b[1;32mNone\u001b[0m\u001b[1;33m:\u001b[0m\u001b[1;33m\u001b[0m\u001b[1;33m\u001b[0m\u001b[0m\n\u001b[1;32m--> 551\u001b[1;33m                 trained_word_count_epoch, raw_word_count_epoch, job_tally_epoch = self._train_epoch(\n\u001b[0m\u001b[0;32m    552\u001b[0m                     \u001b[0mdata_iterable\u001b[0m\u001b[1;33m,\u001b[0m \u001b[0mcur_epoch\u001b[0m\u001b[1;33m=\u001b[0m\u001b[0mcur_epoch\u001b[0m\u001b[1;33m,\u001b[0m \u001b[0mtotal_examples\u001b[0m\u001b[1;33m=\u001b[0m\u001b[0mtotal_examples\u001b[0m\u001b[1;33m,\u001b[0m\u001b[1;33m\u001b[0m\u001b[1;33m\u001b[0m\u001b[0m\n\u001b[0;32m    553\u001b[0m                     total_words=total_words, queue_factor=queue_factor, report_delay=report_delay)\n",
      "\u001b[1;32mD:\\Anaconda\\lib\\site-packages\\gensim\\models\\base_any2vec.py\u001b[0m in \u001b[0;36m_train_epoch\u001b[1;34m(self, data_iterable, cur_epoch, total_examples, total_words, queue_factor, report_delay)\u001b[0m\n\u001b[0;32m    485\u001b[0m             \u001b[0mthread\u001b[0m\u001b[1;33m.\u001b[0m\u001b[0mstart\u001b[0m\u001b[1;33m(\u001b[0m\u001b[1;33m)\u001b[0m\u001b[1;33m\u001b[0m\u001b[1;33m\u001b[0m\u001b[0m\n\u001b[0;32m    486\u001b[0m \u001b[1;33m\u001b[0m\u001b[0m\n\u001b[1;32m--> 487\u001b[1;33m         trained_word_count, raw_word_count, job_tally = self._log_epoch_progress(\n\u001b[0m\u001b[0;32m    488\u001b[0m             \u001b[0mprogress_queue\u001b[0m\u001b[1;33m,\u001b[0m \u001b[0mjob_queue\u001b[0m\u001b[1;33m,\u001b[0m \u001b[0mcur_epoch\u001b[0m\u001b[1;33m=\u001b[0m\u001b[0mcur_epoch\u001b[0m\u001b[1;33m,\u001b[0m \u001b[0mtotal_examples\u001b[0m\u001b[1;33m=\u001b[0m\u001b[0mtotal_examples\u001b[0m\u001b[1;33m,\u001b[0m \u001b[0mtotal_words\u001b[0m\u001b[1;33m=\u001b[0m\u001b[0mtotal_words\u001b[0m\u001b[1;33m,\u001b[0m\u001b[1;33m\u001b[0m\u001b[1;33m\u001b[0m\u001b[0m\n\u001b[0;32m    489\u001b[0m             report_delay=report_delay, is_corpus_file_mode=False)\n",
      "\u001b[1;32mD:\\Anaconda\\lib\\site-packages\\gensim\\models\\base_any2vec.py\u001b[0m in \u001b[0;36m_log_epoch_progress\u001b[1;34m(self, progress_queue, job_queue, cur_epoch, total_examples, total_words, report_delay, is_corpus_file_mode)\u001b[0m\n\u001b[0;32m    344\u001b[0m \u001b[1;33m\u001b[0m\u001b[0m\n\u001b[0;32m    345\u001b[0m         \u001b[1;32mwhile\u001b[0m \u001b[0munfinished_worker_count\u001b[0m \u001b[1;33m>\u001b[0m \u001b[1;36m0\u001b[0m\u001b[1;33m:\u001b[0m\u001b[1;33m\u001b[0m\u001b[1;33m\u001b[0m\u001b[0m\n\u001b[1;32m--> 346\u001b[1;33m             \u001b[0mreport\u001b[0m \u001b[1;33m=\u001b[0m \u001b[0mprogress_queue\u001b[0m\u001b[1;33m.\u001b[0m\u001b[0mget\u001b[0m\u001b[1;33m(\u001b[0m\u001b[1;33m)\u001b[0m  \u001b[1;31m# blocks if workers too slow\u001b[0m\u001b[1;33m\u001b[0m\u001b[1;33m\u001b[0m\u001b[0m\n\u001b[0m\u001b[0;32m    347\u001b[0m             \u001b[1;32mif\u001b[0m \u001b[0mreport\u001b[0m \u001b[1;32mis\u001b[0m \u001b[1;32mNone\u001b[0m\u001b[1;33m:\u001b[0m  \u001b[1;31m# a thread reporting that it finished\u001b[0m\u001b[1;33m\u001b[0m\u001b[1;33m\u001b[0m\u001b[0m\n\u001b[0;32m    348\u001b[0m                 \u001b[0munfinished_worker_count\u001b[0m \u001b[1;33m-=\u001b[0m \u001b[1;36m1\u001b[0m\u001b[1;33m\u001b[0m\u001b[1;33m\u001b[0m\u001b[0m\n",
      "\u001b[1;32mD:\\Anaconda\\lib\\queue.py\u001b[0m in \u001b[0;36mget\u001b[1;34m(self, block, timeout)\u001b[0m\n\u001b[0;32m    168\u001b[0m             \u001b[1;32melif\u001b[0m \u001b[0mtimeout\u001b[0m \u001b[1;32mis\u001b[0m \u001b[1;32mNone\u001b[0m\u001b[1;33m:\u001b[0m\u001b[1;33m\u001b[0m\u001b[1;33m\u001b[0m\u001b[0m\n\u001b[0;32m    169\u001b[0m                 \u001b[1;32mwhile\u001b[0m \u001b[1;32mnot\u001b[0m \u001b[0mself\u001b[0m\u001b[1;33m.\u001b[0m\u001b[0m_qsize\u001b[0m\u001b[1;33m(\u001b[0m\u001b[1;33m)\u001b[0m\u001b[1;33m:\u001b[0m\u001b[1;33m\u001b[0m\u001b[1;33m\u001b[0m\u001b[0m\n\u001b[1;32m--> 170\u001b[1;33m                     \u001b[0mself\u001b[0m\u001b[1;33m.\u001b[0m\u001b[0mnot_empty\u001b[0m\u001b[1;33m.\u001b[0m\u001b[0mwait\u001b[0m\u001b[1;33m(\u001b[0m\u001b[1;33m)\u001b[0m\u001b[1;33m\u001b[0m\u001b[1;33m\u001b[0m\u001b[0m\n\u001b[0m\u001b[0;32m    171\u001b[0m             \u001b[1;32melif\u001b[0m \u001b[0mtimeout\u001b[0m \u001b[1;33m<\u001b[0m \u001b[1;36m0\u001b[0m\u001b[1;33m:\u001b[0m\u001b[1;33m\u001b[0m\u001b[1;33m\u001b[0m\u001b[0m\n\u001b[0;32m    172\u001b[0m                 \u001b[1;32mraise\u001b[0m \u001b[0mValueError\u001b[0m\u001b[1;33m(\u001b[0m\u001b[1;34m\"'timeout' must be a non-negative number\"\u001b[0m\u001b[1;33m)\u001b[0m\u001b[1;33m\u001b[0m\u001b[1;33m\u001b[0m\u001b[0m\n",
      "\u001b[1;32mD:\\Anaconda\\lib\\threading.py\u001b[0m in \u001b[0;36mwait\u001b[1;34m(self, timeout)\u001b[0m\n\u001b[0;32m    300\u001b[0m         \u001b[1;32mtry\u001b[0m\u001b[1;33m:\u001b[0m    \u001b[1;31m# restore state no matter what (e.g., KeyboardInterrupt)\u001b[0m\u001b[1;33m\u001b[0m\u001b[1;33m\u001b[0m\u001b[0m\n\u001b[0;32m    301\u001b[0m             \u001b[1;32mif\u001b[0m \u001b[0mtimeout\u001b[0m \u001b[1;32mis\u001b[0m \u001b[1;32mNone\u001b[0m\u001b[1;33m:\u001b[0m\u001b[1;33m\u001b[0m\u001b[1;33m\u001b[0m\u001b[0m\n\u001b[1;32m--> 302\u001b[1;33m                 \u001b[0mwaiter\u001b[0m\u001b[1;33m.\u001b[0m\u001b[0macquire\u001b[0m\u001b[1;33m(\u001b[0m\u001b[1;33m)\u001b[0m\u001b[1;33m\u001b[0m\u001b[1;33m\u001b[0m\u001b[0m\n\u001b[0m\u001b[0;32m    303\u001b[0m                 \u001b[0mgotit\u001b[0m \u001b[1;33m=\u001b[0m \u001b[1;32mTrue\u001b[0m\u001b[1;33m\u001b[0m\u001b[1;33m\u001b[0m\u001b[0m\n\u001b[0;32m    304\u001b[0m             \u001b[1;32melse\u001b[0m\u001b[1;33m:\u001b[0m\u001b[1;33m\u001b[0m\u001b[1;33m\u001b[0m\u001b[0m\n",
      "\u001b[1;31mKeyboardInterrupt\u001b[0m: "
     ]
    }
   ],
   "source": [
    "texts = df.tokens\n",
    "\n",
    "model = Word2Vec(sentences=texts, size=50, window=5, \n",
    "                 min_count=5, workers=3, sg=1,\n",
    "                 hs=0, negative=5, iter=10)"
   ]
  },
  {
   "cell_type": "code",
   "execution_count": 7,
   "id": "be298023-e6bc-402b-90be-369d70062f47",
   "metadata": {},
   "outputs": [
    {
     "name": "stdout",
     "output_type": "stream",
     "text": [
      "53562\n",
      "(72312, 50)\n"
     ]
    }
   ],
   "source": [
    "print(model.corpus_count)\n",
    "print(model.wv.vectors.shape)"
   ]
  },
  {
   "cell_type": "code",
   "execution_count": 8,
   "id": "bd19b36d-9319-4b3c-b979-ecd370bc9f48",
   "metadata": {},
   "outputs": [
    {
     "data": {
      "text/plain": [
       "[('足迹', 0.8116218447685242),\n",
       " ('薪火相传', 0.8082126975059509),\n",
       " ('蒙难', 0.807182252407074),\n",
       " ('总碑', 0.8063207864761353),\n",
       " ('护法', 0.8004118800163269),\n",
       " ('承先启后', 0.798793613910675),\n",
       " ('高桩', 0.7928462624549866),\n",
       " ('辉煌', 0.7898422479629517),\n",
       " ('种树', 0.7884760499000549),\n",
       " ('中华民族', 0.7878496646881104)]"
      ]
     },
     "execution_count": 8,
     "metadata": {},
     "output_type": "execute_result"
    }
   ],
   "source": [
    "model.wv.most_similar(\"华族\")"
   ]
  },
  {
   "cell_type": "code",
   "execution_count": 10,
   "id": "e1c94278-499c-4ea0-a70a-291d801d0739",
   "metadata": {},
   "outputs": [
    {
     "data": {
      "text/plain": [
       "[('族群', 0.7775485515594482),\n",
       " ('贫富悬殊', 0.7657915949821472),\n",
       " ('极端', 0.7605834603309631),\n",
       " ('种族', 0.7588917016983032),\n",
       " ('边缘', 0.752611517906189),\n",
       " ('隔阂', 0.7407626509666443),\n",
       " ('宗族', 0.7399609088897705),\n",
       " ('为据', 0.7365772128105164),\n",
       " ('各族', 0.7358281016349792),\n",
       " ('占多数', 0.7304153442382812)]"
      ]
     },
     "execution_count": 10,
     "metadata": {},
     "output_type": "execute_result"
    }
   ],
   "source": [
    "model.wv.most_similar(\"马来族\")"
   ]
  },
  {
   "cell_type": "code",
   "execution_count": 13,
   "id": "a816ad14-d7c2-472a-b278-2eb6d74d9e5f",
   "metadata": {},
   "outputs": [
    {
     "data": {
      "text/plain": [
       "[('尊严', 0.8466200232505798),\n",
       " ('迁徙', 0.8065314888954163),\n",
       " ('少数民族', 0.7973129749298096),\n",
       " ('无异于', 0.7959693074226379),\n",
       " ('正当性', 0.7910130023956299),\n",
       " ('大团结', 0.7882499098777771),\n",
       " ('敌视', 0.7840601205825806),\n",
       " ('种族主义者', 0.7838595509529114),\n",
       " ('种族', 0.7827112674713135),\n",
       " ('主义者', 0.7823423147201538)]"
      ]
     },
     "execution_count": 13,
     "metadata": {},
     "output_type": "execute_result"
    }
   ],
   "source": [
    "model.wv.most_similar(\"马来人\")"
   ]
  },
  {
   "cell_type": "code",
   "execution_count": 12,
   "id": "8ef36a93-cd9b-4eef-ae8f-f320302f4774",
   "metadata": {},
   "outputs": [
    {
     "data": {
      "text/plain": [
       "[('伊班人', 0.7858210206031799),\n",
       " ('旧客', 0.7632827162742615),\n",
       " ('少数民族', 0.7397639155387878),\n",
       " ('印裔', 0.7158877849578857),\n",
       " ('华人', 0.7151668667793274),\n",
       " ('興都教', 0.7141311764717102),\n",
       " ('卡达', 0.7081798315048218),\n",
       " ('同胞', 0.6983742713928223),\n",
       " ('沙文主义', 0.6872135400772095),\n",
       " ('马来人', 0.6828672289848328)]"
      ]
     },
     "execution_count": 12,
     "metadata": {},
     "output_type": "execute_result"
    }
   ],
   "source": [
    "model.wv.most_similar(\"印度人\")"
   ]
  },
  {
   "cell_type": "code",
   "execution_count": 9,
   "id": "2491e7fa-17a0-44ba-b518-cd58a44ee4cc",
   "metadata": {},
   "outputs": [
    {
     "data": {
      "text/plain": [
       "array([ 0.33209825, -0.27706248, -0.08594448, -0.4682745 ,  0.09495074,\n",
       "        0.6716172 ,  0.0136402 , -0.49932465,  0.2523936 ,  0.1762843 ,\n",
       "        0.12829764, -0.10483027,  0.5688085 ,  0.49884984,  0.12240179,\n",
       "       -0.46916008,  0.39301488, -0.15636405, -0.60941464, -0.40481287,\n",
       "       -0.00330136,  0.13531916,  0.39127502,  0.7844362 , -0.5031742 ,\n",
       "       -0.38769847, -0.20708086, -0.5620289 , -0.69483256,  0.59622526,\n",
       "        0.14092772,  0.34670034,  0.08132641, -0.14409776,  0.6319361 ,\n",
       "        0.23764642,  0.24214   ,  0.7920855 , -0.26665568, -0.00202074,\n",
       "       -0.43083867,  0.74933666, -0.2799488 ,  0.5015139 , -0.25118315,\n",
       "        0.3840046 , -0.14045513, -0.19792429, -0.76110184, -0.1525131 ],\n",
       "      dtype=float32)"
      ]
     },
     "execution_count": 9,
     "metadata": {},
     "output_type": "execute_result"
    }
   ],
   "source": [
    "model.wv['华族']"
   ]
  },
  {
   "cell_type": "code",
   "execution_count": null,
   "id": "075f0370-8b38-4581-9e8a-053a720c0de7",
   "metadata": {},
   "outputs": [],
   "source": [
    "pickle.dump(word2vec_dict_by_year, open('models/word2vec_china_press', 'wb'))"
   ]
  },
  {
   "cell_type": "code",
   "execution_count": null,
   "id": "2430d657-49fe-4121-a52a-35360520bf0e",
   "metadata": {},
   "outputs": [],
   "source": [
    "# Load trained models\n",
    "word2vec_dict = pickle.load(open('../../models/word2vec_dict_simple', 'rb'))\n",
    "word2vec_dict_by_year = pickle.load(open('../../models/word2vec_dict_by_year_simple', 'rb'))\n",
    "word2vec_dict"
   ]
  },
  {
   "cell_type": "markdown",
   "id": "9df79e68-b660-4d86-9554-a06dd6dc55f9",
   "metadata": {},
   "source": [
    "# Identify representative group vectors"
   ]
  },
  {
   "cell_type": "markdown",
   "id": "96fc1a85-6bd9-4069-96cb-358f76be1039",
   "metadata": {},
   "source": [
    "- Malays:  `'马来人', '马来族', '马来民族', '巫裔', '土著'`\n",
    "- Indians: `'印度人', '印度族', ‘印度民族', '印裔', '印度裔'`\n",
    "- Chinese: `'华人', '华族', '华裔'`"
   ]
  },
  {
   "cell_type": "code",
   "execution_count": null,
   "id": "81b4547e-22e6-41f3-b3fb-ba78d6df89ca",
   "metadata": {},
   "outputs": [],
   "source": []
  },
  {
   "cell_type": "markdown",
   "id": "cea97011-4d43-4641-ab58-636ce5b70deb",
   "metadata": {},
   "source": [
    "# Identify stereotypes vectors"
   ]
  },
  {
   "cell_type": "markdown",
   "id": "f418b146-da5b-4e8a-a28c-ab83308cf89c",
   "metadata": {},
   "source": [
    "- physical appearances, personal traits, economic status, and occupations."
   ]
  },
  {
   "cell_type": "code",
   "execution_count": 3,
   "id": "22a69e30-4b1c-477c-9738-450d1f9d0b89",
   "metadata": {},
   "outputs": [
    {
     "name": "stderr",
     "output_type": "stream",
     "text": [
      "Paddle enabled successfully......\n"
     ]
    }
   ],
   "source": [
    "import jieba.posseg as pseg\n",
    "\n",
    "import paddle\n",
    "paddle.enable_static()\n",
    "\n",
    "jieba.enable_paddle() "
   ]
  },
  {
   "cell_type": "code",
   "execution_count": 4,
   "id": "8abcd2aa-29ae-4ed8-93d9-2119dec4195b",
   "metadata": {},
   "outputs": [
    {
     "name": "stderr",
     "output_type": "stream",
     "text": [
      "D:\\Anaconda\\lib\\site-packages\\ipykernel\\ipkernel.py:287: DeprecationWarning: `should_run_async` will not call `transform_cell` automatically in the future. Please pass the result to `transformed_cell` argument and any exception that happen during thetransform in `preprocessing_exc_tuple` in IPython 7.17 and above.\n",
      "  and should_run_async(code)\n"
     ]
    }
   ],
   "source": [
    "def get_word_by_pos(text, tag, paddle=False):\n",
    "    tokens = pseg.cut(text, use_paddle=paddle)\n",
    "    words = [token for token, flag in tokens if flag == tag ]\n",
    "    return words "
   ]
  },
  {
   "cell_type": "code",
   "execution_count": 7,
   "id": "62199662-7fdc-402d-9619-38246e9cadb8",
   "metadata": {},
   "outputs": [],
   "source": [
    "from multiprocessing import Pool\n",
    "import time\n",
    "#pool = Pool()"
   ]
  },
  {
   "cell_type": "code",
   "execution_count": 8,
   "id": "d802c341-6c8b-4ed7-a7ac-d4b66faccabd",
   "metadata": {},
   "outputs": [],
   "source": [
    "def driver_func():\n",
    "    with Pool() as pool:\n",
    "        import jieba.posseg as pseg\n",
    "        \n",
    "        results = pool.starmap(get_word_by_pos, [(df.article[0], 'a')])\n",
    "        print(results)"
   ]
  },
  {
   "cell_type": "code",
   "execution_count": null,
   "id": "c220ed94-7dfd-47df-be19-4464fe6a510e",
   "metadata": {},
   "outputs": [],
   "source": [
    "driver_func()"
   ]
  },
  {
   "cell_type": "code",
   "execution_count": null,
   "id": "26f75f58-a05d-4097-bced-dad82ef8d56d",
   "metadata": {},
   "outputs": [],
   "source": [
    "start = time.time()\n",
    "\n",
    "adjs = [adj for text in df.article for adj in get_word_by_pos(text, 'a')]\n",
    "print(len(adjs))\n",
    "\n",
    "print(time.time()-start)"
   ]
  },
  {
   "cell_type": "code",
   "execution_count": 33,
   "id": "a6990be1-a565-4475-acea-c4bba949f6dd",
   "metadata": {},
   "outputs": [
    {
     "data": {
      "text/plain": [
       "['高级', '满', '新', '女', '高级', '困苦', '诚恳', '现有', '新', '危急', '重要', '主要', '所有', '强', '优美', '新', '优美', '高', '上述', '高级', '繁荣', '平均', '新', '单', '上述', '最高', '最高', '同样', '繁荣', '重大', '卓越', '正当', '严峻', '重大', '和谐']"
      ]
     },
     "execution_count": 33,
     "metadata": {},
     "output_type": "execute_result"
    }
   ],
   "source": [
    "adjs_paddle = [adj for text in df.article[0:10] for adj in get_word_by_pos(text, 'a', True) ]\n",
    "len(adjs_paddle)"
   ]
  },
  {
   "cell_type": "code",
   "execution_count": 12,
   "id": "316f47b0-ddb4-46c6-bb22-14240cf0e1a9",
   "metadata": {},
   "outputs": [
    {
     "name": "stdout",
     "output_type": "stream",
     "text": [
      "巫统主席拿督斯里阿末扎希劝告民众，不要因为疫情冲击导致生活面对困难，而做出自寻短见等极端行为。他指出，民众失业、没有收入和生意惨淡，加上遭银行追债对未来不知如何是好，使他们倍感压力，这些情况都是人人皆知的。“有些人则因政府不积极的实施行动管制令，迟迟未能和家乡的父母、妻子和子女团聚，加上未能消退的疫情，使他们感到烦躁。“穆斯林需坚信，上苍赋予考验，不会超出他们极限，不要轻易放弃，至于非穆斯林则需保持耐心，因为所发生的事情远超我们的控制，毕竟不是我们主导经济和防疫政策，因此要珍惜生命，想想自己的家人。”阿末扎希今日透过面子书，回应许多民众被指因受到疫情困扰，想自寻短见的报导时，如是指出。他也不忘批评国盟政府不积极防疫，并指连著名企业家，迈丁（Mydin）超市执行董事阿米尔阿里迈丁都感叹生意艰难，并 发表巫裔零售领域将灭绝的言论。“财政部是说已要求银行提供暂缓缴付贷款措施，但实际上申请手续繁杂，这就是为什么我们要求当局认真的实施封锁措施，因为这么做将使多数行业停止运作，银行将被迫提供暂缓缴付贷款，以履行社会责任。“相反地，政府不认真实施行动管制令，导致许多行业必须运作，银行才会有藉口要求企业缴付费用。”\n",
      "烦躁 a\n",
      "极限 a\n",
      "轻易 a\n",
      "耐心 a\n",
      "远 a\n",
      "珍惜 a\n",
      "著名 a\n",
      "艰难 a\n",
      "繁杂 a\n"
     ]
    }
   ],
   "source": [
    "text = df.article[709]\n",
    "print(text)\n",
    "words = pseg.cut(text)\n",
    "#list(words)\n",
    "for word, flag in words:\n",
    "    if flag == 'a':\n",
    "        print('%s %s' % (word, flag))"
   ]
  },
  {
   "cell_type": "code",
   "execution_count": 13,
   "id": "113614b6-dc69-45cd-a0a7-e5a1f41bdd6e",
   "metadata": {},
   "outputs": [
    {
     "name": "stdout",
     "output_type": "stream",
     "text": [
      "巫统主席拿督斯里阿末扎希劝告民众，不要因为疫情冲击导致生活面对困难，而做出自寻短见等极端行为。他指出，民众失业、没有收入和生意惨淡，加上遭银行追债对未来不知如何是好，使他们倍感压力，这些情况都是人人皆知的。“有些人则因政府不积极的实施行动管制令，迟迟未能和家乡的父母、妻子和子女团聚，加上未能消退的疫情，使他们感到烦躁。“穆斯林需坚信，上苍赋予考验，不会超出他们极限，不要轻易放弃，至于非穆斯林则需保持耐心，因为所发生的事情远超我们的控制，毕竟不是我们主导经济和防疫政策，因此要珍惜生命，想想自己的家人。”阿末扎希今日透过面子书，回应许多民众被指因受到疫情困扰，想自寻短见的报导时，如是指出。他也不忘批评国盟政府不积极防疫，并指连著名企业家，迈丁（Mydin）超市执行董事阿米尔阿里迈丁都感叹生意艰难，并 发表巫裔零售领域将灭绝的言论。“财政部是说已要求银行提供暂缓缴付贷款措施，但实际上申请手续繁杂，这就是为什么我们要求当局认真的实施封锁措施，因为这么做将使多数行业停止运作，银行将被迫提供暂缓缴付贷款，以履行社会责任。“相反地，政府不认真实施行动管制令，导致许多行业必须运作，银行才会有藉口要求企业缴付费用。”\n",
      "惨淡 a\n",
      "积极 a\n",
      "积极 a\n",
      "著名 a\n",
      "繁杂 a\n",
      "认真 a\n"
     ]
    }
   ],
   "source": [
    "# text = df.article[709]\n",
    "# print(text)\n",
    "# words = pseg.cut(text, use_paddle=True)\n",
    "# #list(words)\n",
    "# for word, flag in words:\n",
    "#     if flag == 'a':\n",
    "#         print('%s %s' % (word, flag))"
   ]
  },
  {
   "cell_type": "code",
   "execution_count": 39,
   "id": "abfd36a6-400f-468f-8e82-5fa98959044e",
   "metadata": {},
   "outputs": [
    {
     "data": {
      "text/html": [
       "<div>\n",
       "<style scoped>\n",
       "    .dataframe tbody tr th:only-of-type {\n",
       "        vertical-align: middle;\n",
       "    }\n",
       "\n",
       "    .dataframe tbody tr th {\n",
       "        vertical-align: top;\n",
       "    }\n",
       "\n",
       "    .dataframe thead th {\n",
       "        text-align: right;\n",
       "    }\n",
       "</style>\n",
       "<table border=\"1\" class=\"dataframe\">\n",
       "  <thead>\n",
       "    <tr style=\"text-align: right;\">\n",
       "      <th></th>\n",
       "      <th>title</th>\n",
       "      <th>link</th>\n",
       "      <th>date</th>\n",
       "      <th>view</th>\n",
       "      <th>article</th>\n",
       "      <th>len</th>\n",
       "      <th>loc_date</th>\n",
       "      <th>clean_len</th>\n",
       "      <th>tokens</th>\n",
       "    </tr>\n",
       "  </thead>\n",
       "  <tbody>\n",
       "    <tr>\n",
       "      <th>709</th>\n",
       "      <td>◤新冠又一年◢要有耐心 珍惜生命 扎希吁勿因疫情寻短</td>\n",
       "      <td>https://www.chinapress.com.my/20210625/%e2%97%...</td>\n",
       "      <td>2021-06-25</td>\n",
       "      <td>4102</td>\n",
       "      <td>巫统主席拿督斯里阿末扎希劝告民众，不要因为疫情冲击导致生活面对困难，而做出自寻短见等极端行为...</td>\n",
       "      <td>516</td>\n",
       "      <td>（吉隆坡25日讯）</td>\n",
       "      <td>507</td>\n",
       "      <td>[巫统, 主席, 拿督斯里, 阿末扎希, 劝告, 民众, ，, 不要, 因为, 疫情, 冲击...</td>\n",
       "    </tr>\n",
       "    <tr>\n",
       "      <th>959</th>\n",
       "      <td>林冠英： 国盟政府内部四分五裂</td>\n",
       "      <td>https://www.chinapress.com.my/20210620/%e6%9e%...</td>\n",
       "      <td>2021-06-20</td>\n",
       "      <td>8252</td>\n",
       "      <td>行动党秘书长林冠英说，国会上议院主席莱士雅丁及伊斯兰党主席哈迪阿旺针对开国会课题发表的声明，...</td>\n",
       "      <td>455</td>\n",
       "      <td>（槟城20日讯）</td>\n",
       "      <td>447</td>\n",
       "      <td>[行动党, 秘书长, 林冠英, 说, ，, 国会, 上议院, 主席, 莱士, 雅丁及, 伊斯...</td>\n",
       "    </tr>\n",
       "    <tr>\n",
       "      <th>993</th>\n",
       "      <td>教总：制止极端主义 免华教成攻击目标</td>\n",
       "      <td>https://www.chinapress.com.my/20210619/%e6%95%...</td>\n",
       "      <td>2021-06-19</td>\n",
       "      <td>3945</td>\n",
       "      <td>教总主席谢立意促请政府采取坚决行动，制止极端种族和宗教主义蔓延。他说，近年来国内种族和宗教极...</td>\n",
       "      <td>398</td>\n",
       "      <td>（吉隆坡19日讯）</td>\n",
       "      <td>389</td>\n",
       "      <td>[教总, 主席, 谢, 立意, 促请, 政府, 采取, 坚决, 行动, ，, 制止, 极端,...</td>\n",
       "    </tr>\n",
       "    <tr>\n",
       "      <th>1339</th>\n",
       "      <td>◤封面新闻◢ 2020年11月23日</td>\n",
       "      <td>https://www.chinapress.com.my/20201122/%e2%97%...</td>\n",
       "      <td>2020-11-22</td>\n",
       "      <td>5979</td>\n",
       "      <td>疫情来袭 当无可当 赝品当真品典当 一马公司是最极端例子！ 纳西尔赞同党政经分家 罕见！ 轻...</td>\n",
       "      <td>235</td>\n",
       "      <td>None</td>\n",
       "      <td>75</td>\n",
       "      <td>[疫情, 来袭,  , 当, 无可, 当,  , 赝品, 当真, 品, 典当,  , 一马,...</td>\n",
       "    </tr>\n",
       "    <tr>\n",
       "      <th>1352</th>\n",
       "      <td>一马公司是最极端例子！ 纳西尔赞同党政经分家</td>\n",
       "      <td>https://www.chinapress.com.my/20201122/%e4%b8%...</td>\n",
       "      <td>2020-11-22</td>\n",
       "      <td>20840</td>\n",
       "      <td>前首相拿督斯里纳吉胞弟兼联昌集团（CIMB）前主席拿督斯里纳西尔指出，若我国要迈向成功之路，...</td>\n",
       "      <td>509</td>\n",
       "      <td>（吉隆坡22日讯）</td>\n",
       "      <td>500</td>\n",
       "      <td>[前首相, 拿督斯里, 纳吉, 胞弟, 兼联昌, 集团, （, CIMB, ）, 前, 主席...</td>\n",
       "    </tr>\n",
       "    <tr>\n",
       "      <th>...</th>\n",
       "      <td>...</td>\n",
       "      <td>...</td>\n",
       "      <td>...</td>\n",
       "      <td>...</td>\n",
       "      <td>...</td>\n",
       "      <td>...</td>\n",
       "      <td>...</td>\n",
       "      <td>...</td>\n",
       "      <td>...</td>\n",
       "    </tr>\n",
       "    <tr>\n",
       "      <th>48894</th>\n",
       "      <td>外长促速设东协新冠应对基金 助成员国部署及采购疫苗</td>\n",
       "      <td>https://www.chinapress.com.my/20210121/%e5%a4%...</td>\n",
       "      <td>2021-01-21</td>\n",
       "      <td>5260</td>\n",
       "      <td>外交部长拿督斯里希山慕丁认为，汶莱应尽快制定和加速成立东协新冠肺炎应对基金的建议，以协助东协...</td>\n",
       "      <td>429</td>\n",
       "      <td>（吉隆坡21日讯）</td>\n",
       "      <td>420</td>\n",
       "      <td>[外交部长, 拿督斯里, 希山慕丁, 认为, ，, 汶莱应, 尽快, 制定, 和, 加速, ...</td>\n",
       "    </tr>\n",
       "    <tr>\n",
       "      <th>49344</th>\n",
       "      <td>名列全球20极端主义者 敦马：因敢批评西方</td>\n",
       "      <td>https://www.chinapress.com.my/20210111/%e5%90%...</td>\n",
       "      <td>2021-01-11</td>\n",
       "      <td>10407</td>\n",
       "      <td>前首相敦马哈迪认为，任何敢于批评西方国家的人，都有可能被西方网站列为极端分子。他说，即使是说...</td>\n",
       "      <td>539</td>\n",
       "      <td>（吉隆坡11日讯）</td>\n",
       "      <td>530</td>\n",
       "      <td>[前首相, 敦马哈迪, 认为, ，, 任何, 敢于, 批评, 西方, 国家, 的, 人, ，...</td>\n",
       "    </tr>\n",
       "    <tr>\n",
       "      <th>49924</th>\n",
       "      <td>限制陈列节庆贺语产品开倒车 郭素沁促首相介入维护各族权益</td>\n",
       "      <td>https://www.chinapress.com.my/20201226/%e9%99%...</td>\n",
       "      <td>2020-12-26</td>\n",
       "      <td>7786</td>\n",
       "      <td>行动党士布爹国会议员郭素沁抨击，大马伊斯兰发展局（JAKIM）指有节庆祝贺语产品不能在清真认...</td>\n",
       "      <td>600</td>\n",
       "      <td>（吉隆坡26日讯）</td>\n",
       "      <td>591</td>\n",
       "      <td>[行动党, 士布爹, 国会议员, 郭素沁, 抨击, ，, 大马, 伊斯兰, 发展局, （, ...</td>\n",
       "    </tr>\n",
       "    <tr>\n",
       "      <th>50116</th>\n",
       "      <td>全球抗疫者当选《亚洲周刊》风云人物 赞扬诺希山 福奇 钟南山 坚守岗位</td>\n",
       "      <td>https://www.chinapress.com.my/20201221/%e5%85%...</td>\n",
       "      <td>2020-12-21</td>\n",
       "      <td>8435</td>\n",
       "      <td>《亚洲周刊》最新一期封面专题揭晓了2020年该刊评选的年度风云人物，这一荣誉属于全球抗疫者。...</td>\n",
       "      <td>1658</td>\n",
       "      <td>（香港21日综合电）</td>\n",
       "      <td>1648</td>\n",
       "      <td>[《, 亚洲, 周刊, 》, 最新, 一期, 封面, 专题, 揭晓, 了, 2020, 年,...</td>\n",
       "    </tr>\n",
       "    <tr>\n",
       "      <th>50141</th>\n",
       "      <td>“年内承认统考 说得太快” 张念群向支持者道歉</td>\n",
       "      <td>https://www.chinapress.com.my/20201220/%e7%9b%...</td>\n",
       "      <td>2020-12-20</td>\n",
       "      <td>9602</td>\n",
       "      <td>教育部前副部长张念群坦言，她在希盟执政初期，觉得政府能在一年内承认独中统考的言论，的确说得太...</td>\n",
       "      <td>620</td>\n",
       "      <td>（吉隆坡20日讯）</td>\n",
       "      <td>611</td>\n",
       "      <td>[教育部, 前, 副, 部长, 张念群, 坦言, ，, 她, 在, 希盟, 执政, 初期, ...</td>\n",
       "    </tr>\n",
       "  </tbody>\n",
       "</table>\n",
       "<p>333 rows × 9 columns</p>\n",
       "</div>"
      ],
      "text/plain": [
       "                                     title  \\\n",
       "709             ◤新冠又一年◢要有耐心 珍惜生命 扎希吁勿因疫情寻短   \n",
       "959                        林冠英： 国盟政府内部四分五裂   \n",
       "993                     教总：制止极端主义 免华教成攻击目标   \n",
       "1339                    ◤封面新闻◢ 2020年11月23日   \n",
       "1352                一马公司是最极端例子！ 纳西尔赞同党政经分家   \n",
       "...                                    ...   \n",
       "48894            外长促速设东协新冠应对基金 助成员国部署及采购疫苗   \n",
       "49344                名列全球20极端主义者 敦马：因敢批评西方   \n",
       "49924         限制陈列节庆贺语产品开倒车 郭素沁促首相介入维护各族权益   \n",
       "50116  全球抗疫者当选《亚洲周刊》风云人物 赞扬诺希山 福奇 钟南山 坚守岗位   \n",
       "50141              “年内承认统考 说得太快” 张念群向支持者道歉   \n",
       "\n",
       "                                                    link       date   view  \\\n",
       "709    https://www.chinapress.com.my/20210625/%e2%97%... 2021-06-25   4102   \n",
       "959    https://www.chinapress.com.my/20210620/%e6%9e%... 2021-06-20   8252   \n",
       "993    https://www.chinapress.com.my/20210619/%e6%95%... 2021-06-19   3945   \n",
       "1339   https://www.chinapress.com.my/20201122/%e2%97%... 2020-11-22   5979   \n",
       "1352   https://www.chinapress.com.my/20201122/%e4%b8%... 2020-11-22  20840   \n",
       "...                                                  ...        ...    ...   \n",
       "48894  https://www.chinapress.com.my/20210121/%e5%a4%... 2021-01-21   5260   \n",
       "49344  https://www.chinapress.com.my/20210111/%e5%90%... 2021-01-11  10407   \n",
       "49924  https://www.chinapress.com.my/20201226/%e9%99%... 2020-12-26   7786   \n",
       "50116  https://www.chinapress.com.my/20201221/%e5%85%... 2020-12-21   8435   \n",
       "50141  https://www.chinapress.com.my/20201220/%e7%9b%... 2020-12-20   9602   \n",
       "\n",
       "                                                 article   len    loc_date  \\\n",
       "709    巫统主席拿督斯里阿末扎希劝告民众，不要因为疫情冲击导致生活面对困难，而做出自寻短见等极端行为...   516   （吉隆坡25日讯）   \n",
       "959    行动党秘书长林冠英说，国会上议院主席莱士雅丁及伊斯兰党主席哈迪阿旺针对开国会课题发表的声明，...   455    （槟城20日讯）   \n",
       "993    教总主席谢立意促请政府采取坚决行动，制止极端种族和宗教主义蔓延。他说，近年来国内种族和宗教极...   398   （吉隆坡19日讯）   \n",
       "1339   疫情来袭 当无可当 赝品当真品典当 一马公司是最极端例子！ 纳西尔赞同党政经分家 罕见！ 轻...   235        None   \n",
       "1352   前首相拿督斯里纳吉胞弟兼联昌集团（CIMB）前主席拿督斯里纳西尔指出，若我国要迈向成功之路，...   509   （吉隆坡22日讯）   \n",
       "...                                                  ...   ...         ...   \n",
       "48894  外交部长拿督斯里希山慕丁认为，汶莱应尽快制定和加速成立东协新冠肺炎应对基金的建议，以协助东协...   429   （吉隆坡21日讯）   \n",
       "49344  前首相敦马哈迪认为，任何敢于批评西方国家的人，都有可能被西方网站列为极端分子。他说，即使是说...   539   （吉隆坡11日讯）   \n",
       "49924  行动党士布爹国会议员郭素沁抨击，大马伊斯兰发展局（JAKIM）指有节庆祝贺语产品不能在清真认...   600   （吉隆坡26日讯）   \n",
       "50116  《亚洲周刊》最新一期封面专题揭晓了2020年该刊评选的年度风云人物，这一荣誉属于全球抗疫者。...  1658  （香港21日综合电）   \n",
       "50141  教育部前副部长张念群坦言，她在希盟执政初期，觉得政府能在一年内承认独中统考的言论，的确说得太...   620   （吉隆坡20日讯）   \n",
       "\n",
       "       clean_len                                             tokens  \n",
       "709          507  [巫统, 主席, 拿督斯里, 阿末扎希, 劝告, 民众, ，, 不要, 因为, 疫情, 冲击...  \n",
       "959          447  [行动党, 秘书长, 林冠英, 说, ，, 国会, 上议院, 主席, 莱士, 雅丁及, 伊斯...  \n",
       "993          389  [教总, 主席, 谢, 立意, 促请, 政府, 采取, 坚决, 行动, ，, 制止, 极端,...  \n",
       "1339          75  [疫情, 来袭,  , 当, 无可, 当,  , 赝品, 当真, 品, 典当,  , 一马,...  \n",
       "1352         500  [前首相, 拿督斯里, 纳吉, 胞弟, 兼联昌, 集团, （, CIMB, ）, 前, 主席...  \n",
       "...          ...                                                ...  \n",
       "48894        420  [外交部长, 拿督斯里, 希山慕丁, 认为, ，, 汶莱应, 尽快, 制定, 和, 加速, ...  \n",
       "49344        530  [前首相, 敦马哈迪, 认为, ，, 任何, 敢于, 批评, 西方, 国家, 的, 人, ，...  \n",
       "49924        591  [行动党, 士布爹, 国会议员, 郭素沁, 抨击, ，, 大马, 伊斯兰, 发展局, （, ...  \n",
       "50116       1648  [《, 亚洲, 周刊, 》, 最新, 一期, 封面, 专题, 揭晓, 了, 2020, 年,...  \n",
       "50141        611  [教育部, 前, 副, 部长, 张念群, 坦言, ，, 她, 在, 希盟, 执政, 初期, ...  \n",
       "\n",
       "[333 rows x 9 columns]"
      ]
     },
     "execution_count": 39,
     "metadata": {},
     "output_type": "execute_result"
    }
   ],
   "source": [
    "df.loc[df.article.str.contains('极端'), :]"
   ]
  },
  {
   "cell_type": "markdown",
   "id": "94f89a45-3d5c-41a6-89fd-ec76ac1878e7",
   "metadata": {},
   "source": [
    "# Calculate cosine distance between vectors"
   ]
  },
  {
   "cell_type": "code",
   "execution_count": null,
   "id": "cff242da-27d4-49d9-ac7f-7dba59b87ec4",
   "metadata": {},
   "outputs": [],
   "source": []
  }
 ],
 "metadata": {
  "kernelspec": {
   "display_name": "Python 3",
   "language": "python",
   "name": "python3"
  },
  "language_info": {
   "codemirror_mode": {
    "name": "ipython",
    "version": 3
   },
   "file_extension": ".py",
   "mimetype": "text/x-python",
   "name": "python",
   "nbconvert_exporter": "python",
   "pygments_lexer": "ipython3",
   "version": "3.8.8"
  }
 },
 "nbformat": 4,
 "nbformat_minor": 5
}
