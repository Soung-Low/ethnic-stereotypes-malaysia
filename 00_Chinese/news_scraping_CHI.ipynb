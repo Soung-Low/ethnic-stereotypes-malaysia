{
 "cells": [
  {
   "cell_type": "markdown",
   "id": "coated-invitation",
   "metadata": {
    "toc": true
   },
   "source": [
    "<h1>Table of Contents<span class=\"tocSkip\"></span></h1>\n",
    "<div class=\"toc\"><ul class=\"toc-item\"><li><span><a href=\"#中國報\" data-toc-modified-id=\"中國報-1\"><span class=\"toc-item-num\">1&nbsp;&nbsp;</span>中國報</a></span><ul class=\"toc-item\"><li><span><a href=\"#Section-1:-大講堂\" data-toc-modified-id=\"Section-1:-大講堂-1.1\"><span class=\"toc-item-num\">1.1&nbsp;&nbsp;</span>Section 1: 大講堂</a></span></li><li><span><a href=\"#Section-2:-國內\" data-toc-modified-id=\"Section-2:-國內-1.2\"><span class=\"toc-item-num\">1.2&nbsp;&nbsp;</span>Section 2: 國內</a></span></li><li><span><a href=\"#Official-way\" data-toc-modified-id=\"Official-way-1.3\"><span class=\"toc-item-num\">1.3&nbsp;&nbsp;</span>Official way</a></span></li></ul></li><li><span><a href=\"#Nanyang-Siang-Pau-南洋商報\" data-toc-modified-id=\"Nanyang-Siang-Pau-南洋商報-2\"><span class=\"toc-item-num\">2&nbsp;&nbsp;</span>Nanyang Siang Pau 南洋商報</a></span><ul class=\"toc-item\"><li><span><a href=\"#Section-1:-言論\" data-toc-modified-id=\"Section-1:-言論-2.1\"><span class=\"toc-item-num\">2.1&nbsp;&nbsp;</span>Section 1: 言論</a></span></li><li><span><a href=\"#Section-2:-時事\" data-toc-modified-id=\"Section-2:-時事-2.2\"><span class=\"toc-item-num\">2.2&nbsp;&nbsp;</span>Section 2: 時事</a></span></li></ul></li></ul></div>"
   ]
  },
  {
   "attachments": {
    "image.png": {
     "image/png": "[encoded data removed]"
    }
   },
   "cell_type": "markdown",
   "id": "efficient-communication",
   "metadata": {},
   "source": [
    "\n",
    "# 中國報 \n",
    "\n",
    "- News dating back to 2017 available on Website\n",
    "\n",
    "\n",
    "## Section 1: 大講堂\n",
    "\n",
    "- 7 Subsections: 財經、懷念特輯、**中言、人人咖啡店、中氣十足、甄子曰、地方**\n",
    "\n",
    "| Section | Link | Period | Pages | Remark | \n",
    "| -- | -- | -- | -- | -- |\n",
    "| 大講堂 -> 評論 -> 中言 | [link](https://www.chinapress.com.my/category/%E8%AF%84%E8%AE%BA/page/54/?gpid=537763) | 2017-01-01 - Present | p1-54 | 每篇篇幅不長，政治相關|\n",
    "| 大講堂 -> 評論 -> 中氣不足 | [link](https://www.chinapress.com.my/category/%e8%af%84%e8%ae%ba/page/66/?gpid=540877) | 2017-01-02 - Present | p1-66 | 每篇篇幅不長，與中言大同小異 |\n",
    "\n",
    "## Section 2: 國內\n",
    "\n",
    "- Subsections: 時事、政治 (Other sections like 總審計司報告 seem to be seasonal)\n",
    "\n",
    "| Section | Link | Period | Pages | Remark | \n",
    "| -- | -- | -- | -- | -- |\n",
    "| 國內 -> 時事 | [link](https://www.chinapress.com.my/category/%e6%97%b6%e4%ba%8b/page/2552/) | 2017-01-01 - Present | p1-2552 | 每篇篇幅不長 |\n",
    "| 國內 -> 政治 | [link](https://www.chinapress.com.my/category/%e6%94%bf%e6%b2%bb/page/533/) | 2017-01-03 - Present | p1 - 533 | NA |\n",
    "\n",
    "## Official way\n",
    "\n",
    "- https://www.chinapress.com.my/%e5%b8%b8%e8%a7%81%e9%97%ae%e9%a2%98/\n",
    "- ![image.png](attachment:image.png)\n",
    "\n",
    "- Last update: 13 May 2021"
   ]
  },
  {
   "cell_type": "markdown",
   "id": "581e7d73-107b-4253-9369-4d0a559b9c13",
   "metadata": {
    "tags": []
   },
   "source": [
    "## Scrape Titles and Links"
   ]
  },
  {
   "cell_type": "code",
   "execution_count": 3,
   "id": "07345a6e-0757-4e41-bb1a-ff7ced90048f",
   "metadata": {},
   "outputs": [],
   "source": [
    "# Static scraping\n",
    "from bs4 import BeautifulSoup\n",
    "import requests\n",
    "\n",
    "url = 'https://www.chinapress.com.my/category/%E8%AF%84%E8%AE%BA/page/1/?gpid=537763'\n",
    "page = requests.get(url)\n",
    "soup = BeautifulSoup(page.content, 'lxml')\n",
    "soup.find_all('div', class_='title') \n",
    "# anti web scraping design"
   ]
  },
  {
   "cell_type": "code",
   "execution_count": 7,
   "id": "09611260-f2d6-45c7-a9f8-97a20458eb48",
   "metadata": {},
   "outputs": [],
   "source": [
    "from selenium import webdriver"
   ]
  },
  {
   "cell_type": "code",
   "execution_count": 8,
   "id": "3a0d15ca-7b89-442d-8fe6-444eeb21a9f7",
   "metadata": {},
   "outputs": [],
   "source": [
    "driver = webdriver.Chrome()\n",
    "titles_links = []\n",
    "\n",
    "for i in range(1, 56):\n",
    "    driver.get('https://www.chinapress.com.my/category/%E8%AF%84%E8%AE%BA/page/' + str(i) + '/?gpid=537763')\n",
    "    \n",
    "    for article in driver.find_elements_by_xpath(\"//div[@class='title']/a\"):\n",
    "        title = article.text\n",
    "        link = article.get_attribute('href')\n",
    "        titles_links.append([title, link])"
   ]
  },
  {
   "cell_type": "markdown",
   "id": "71d62e23-145a-4566-bef8-0fbd9f6b5c9a",
   "metadata": {},
   "source": [
    "## Scrape articles' texts"
   ]
  },
  {
   "cell_type": "code",
   "execution_count": 20,
   "id": "415d917c-59a8-4470-8ff1-2b8e29ecc541",
   "metadata": {},
   "outputs": [],
   "source": [
    "from selenium import webdriver"
   ]
  },
  {
   "cell_type": "code",
   "execution_count": 21,
   "id": "14605ac0-ab4b-4cb9-93bb-abba82943e10",
   "metadata": {},
   "outputs": [],
   "source": [
    "driver = webdriver.Chrome()"
   ]
  },
  {
   "cell_type": "code",
   "execution_count": 22,
   "id": "26c245c0-0aa7-4378-80e6-f1a5d206d29b",
   "metadata": {},
   "outputs": [],
   "source": [
    "driver.get('https://www.chinapress.com.my/20210706/%e7%96%ab%e8%8b%97%e5%88%86%e9%85%8d%e4%b8%8d%e5%ae%b9%e6%9c%89%e8%af%af/')"
   ]
  },
  {
   "cell_type": "code",
   "execution_count": 32,
   "id": "f9f8380b-5819-46ae-99d5-2f1d35e81992",
   "metadata": {},
   "outputs": [
    {
     "data": {
      "text/plain": [
       "'新冠肺炎疫苗如今是抗疫战略物资， 疫苗的有效分配，关系到接下来的抗疫成败，因此分配的过程不容有误。例如，疫苗不能成为任何一方用于牟私利的工具，且其分配必须到位，确保人人都可以在合理的时间内得到疫苗。科学、工艺及革新部长凯里揭露，当局发现接种候补名单出现漏洞，并将尽快填补修正，以免有心人滥用和售卖预约。执法当局已在上周逮捕2人，新冠肺炎免疫特工队（CITF）正与执法单位密切合作，以解决有关预约系统的技术事项；惟凯里没有阐明逮捕详情。坊间一直已经流传，有人将疫苗分配当成牟利工具，其手法主要是出售预约位置（也可理解为后补位置），让一些人得以插队。这种情况将会影响疫苗分配的效率。这样便会影响到，按次序安排本该先得到疫苗的人士须要继续等候 ，一旦这种不法情况继续下去，将形成疫苗价高者得的不良现象。政府必须密切监督所有疫苗接种中心的运作程序，避免出现害群之马，破坏了接种秩序，也打击政府的全民接种努力，对政府形象和公信力，并不是好事。这种情况就如人们排队抢购演唱会门票，就算人龙再长，只要秩序井然，大家都愿意耐心等候，因为知道终会轮到自己；万一有人插队，其他人担心自己买不到，就会争涌上前，形成失控乱象。警方应该介入调查，严厉对付不法之徒，避免这些人士的勾当，形成一个有组织性的犯罪团伙，利用接种中心，来进行不道德的交易。整体来说，政府有责任确保疫苗分配到位的责任，如果发生严重“走后门打疫苗”的情况发生，这意味着政府失职，所以它必须杜绝这种不当行为。'"
      ]
     },
     "execution_count": 32,
     "metadata": {},
     "output_type": "execute_result"
    }
   ],
   "source": [
    "date = driver.find_element_by_xpath(\"//time[@class='entry-date published']\").text\n",
    "view = driver.find_element_by_xpath(\"//span[contains(@class, 'count_view')]\").text\n",
    "text = ''.join([paragraph.text for paragraph in driver.find_elements_by_xpath(\"//div[@class='entry-content clearfix']/p\")])"
   ]
  },
  {
   "cell_type": "markdown",
   "id": "comprehensive-military",
   "metadata": {},
   "source": [
    "# Nanyang Siang Pau 南洋商報\n",
    "\n",
    "- News dating back to 2016 based on 言論\n",
    "\n",
    "## Section 1: 言論\n",
    "\n",
    "- 28 subsections by writers\n",
    "\n",
    "| Section | Link | Period | Pages | Remark | \n",
    "| -- | -- | -- | -- | -- |\n",
    "| 言論 -> 南洋社論| [link](https://www.enanyang.my/user/842?page=158) | 2016-01-08 - Present | p1-158 | 每篇篇幅不長，政治相關|\n",
    "| 言論 -> 六朝如夢 | [link](https://www.enanyang.my/user/107?page=17) | 2016-01-11 - Present | p1-17 | 每篇篇幅不長，頻率1週1篇 |\n",
    "| ...|...|...|...|\n",
    "\n",
    "## Section 2: 時事\n",
    "\n",
    "- 4 subsections: 政治、文教、商團、要聞（似乎與其他部分重疊）\n",
    "\n",
    "| Section | Link | Period | Pages | Remark | \n",
    "| -- | -- | -- | -- | -- |\n",
    "| 時事 -> 政治 | [link](https://www.enanyang.my/%E6%97%B6%E4%BA%8B/%E6%94%BF%E6%B2%BB) | NA | - | No pagination, have to use scrolling, 包含政治漫畫 |\n",
    "| ...|...|...|...|\n",
    "\n",
    "- Last update: 13 May 2021"
   ]
  },
  {
   "cell_type": "code",
   "execution_count": null,
   "id": "2f4e7efa-1500-4ca2-b22d-7111b41afe2c",
   "metadata": {},
   "outputs": [],
   "source": []
  }
 ],
 "metadata": {
  "kernelspec": {
   "display_name": "Python 3",
   "language": "python",
   "name": "python3"
  },
  "language_info": {
   "codemirror_mode": {
    "name": "ipython",
    "version": 3
   },
   "file_extension": ".py",
   "mimetype": "text/x-python",
   "name": "python",
   "nbconvert_exporter": "python",
   "pygments_lexer": "ipython3",
   "version": "3.8.8"
  },
  "toc": {
   "base_numbering": 1,
   "nav_menu": {},
   "number_sections": true,
   "sideBar": true,
   "skip_h1_title": false,
   "title_cell": "Table of Contents",
   "title_sidebar": "Contents",
   "toc_cell": true,
   "toc_position": {},
   "toc_section_display": true,
   "toc_window_display": false
  }
 },
 "nbformat": 4,
 "nbformat_minor": 5
}
