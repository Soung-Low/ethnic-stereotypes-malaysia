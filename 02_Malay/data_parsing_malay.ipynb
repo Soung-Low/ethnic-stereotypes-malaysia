{
 "cells": [
  {
   "cell_type": "code",
   "execution_count": 1,
   "id": "1d70ad88-3022-4b36-9daf-27572a839604",
   "metadata": {},
   "outputs": [],
   "source": [
    "import os\n",
    "import time\n",
    "import pickle   \n",
    "import io\n",
    "import sys\n",
    "import re"
   ]
  },
  {
   "cell_type": "code",
   "execution_count": 2,
   "id": "d0eefefb-4399-4f38-b3fc-cb036bdcbf8a",
   "metadata": {},
   "outputs": [],
   "source": [
    "from io import StringIO\n",
    "from multiprocessing import Pool\n",
    "from pdfminer.converter import TextConverter\n",
    "from pdfminer.layout import LAParams\n",
    "from pdfminer.pdfdocument import PDFDocument\n",
    "from pdfminer.pdfinterp import PDFResourceManager, PDFPageInterpreter\n",
    "from pdfminer.pdfpage import PDFPage\n",
    "from pdfminer.pdfparser import PDFParser\n",
    "from pdfminer.high_level import extract_text"
   ]
  },
  {
   "cell_type": "code",
   "execution_count": 3,
   "id": "c3770431-f42b-4cee-978f-852fed62acf3",
   "metadata": {},
   "outputs": [
    {
     "data": {
      "text/plain": [
       "['-LIPUTAN-BERJADUAL-BERNAMA-23-SEPT.pdf',\n",
       " '-MALAYSIA-CIPTA-KEJUTAN-MARA-KE-FINAL.pdf',\n",
       " '-SELAMAT-TINGGAL-JAKARTA-PALEMBANGJUMPA-DI-HANGZHOU-2022--.pdf',\n",
       " '-TIADA-SEBAB-SAYA-KELUAR-UMNO----HISHAMMUDDIN.pdf',\n",
       " '1-200-PESERTA-SERTAI-DUATHLON-EDISI-KHAS-XTERRA-MALAYSIA-2018.pdf']"
      ]
     },
     "execution_count": 3,
     "metadata": {},
     "output_type": "execute_result"
    }
   ],
   "source": [
    "os.chdir('../data/bernama/articles/2018')\n",
    "files = os.listdir()\n",
    "files[0:5]"
   ]
  },
  {
   "cell_type": "code",
   "execution_count": 82,
   "id": "c164233b-ec8d-4554-90b7-711807db9617",
   "metadata": {},
   "outputs": [],
   "source": [
    "## PyPDF2\n",
    "# import PyPDF2\n",
    "# pdf_file = open(files[0], 'rb')\n",
    "# read_pdf = PyPDF2.PdfFileReader(pdf_file)\n",
    "# number_of_pages = read_pdf.getNumPages()\n",
    "# page = read_pdf.getPage(1)\n",
    "# page_content = page.extractText()\n",
    "# print(page_content)#.encode('utf-8'))\n",
    "\n",
    "## pdfminer.six 2nd way \n",
    "# output_string = StringIO()\n",
    "# rsrcmgr = PDFResourceManager()\n",
    "# retstr = io.StringIO()\n",
    "# laparams = LAParams()\n",
    "# codec = 'utf-8'\n",
    "# device = TextConverter(rsrcmgr, retstr, laparams=laparams)\n",
    "# interpreter = PDFPageInterpreter(rsrcmgr, device)\n",
    "\n",
    "# file_name = files[0]\n",
    "# with open(file_name, 'rb') as in_file:\n",
    "#     parser = PDFParser(in_file)\n",
    "#     doc = PDFDocument(parser)\n",
    "#     rsrcmgr = PDFResourceManager()\n",
    "#     device = TextConverter(rsrcmgr, output_string, laparams=LAParams())\n",
    "#     interpreter = PDFPageInterpreter(rsrcmgr, device)\n",
    "#     for page in PDFPage.create_pages(doc):\n",
    "#         interpreter.process_page(page)\n",
    "\n",
    "# print(output_string.getvalue())"
   ]
  },
  {
   "cell_type": "code",
   "execution_count": 4,
   "id": "2f0c7ee0-37eb-4bc7-96a1-fe59de57ec4d",
   "metadata": {},
   "outputs": [
    {
     "name": "stdout",
     "output_type": "stream",
     "text": [
      "0 LIPUTAN BERJADUAL BERNAMA: 23 SEPT \n",
      "1 MALAYSIA CIPTA KEJUTAN, MARA KE FINAL \n",
      "2 SELAMAT TINGGAL JAKARTA-PALEMBANG...JUMPA DI HANGZHOU 2022\n",
      "3 TIADA SEBAB SAYA KELUAR UMNO\n",
      "4 1, 200 PESERTA SERTAI DUATHLON EDISI KHAS XTERRA MALAYSIA 2018 \n",
      "5 1 JUTA PELUANG PEKERJAAN BAHARU MELALUI MYAPPRENTICESHIP - PM NAJIB \n",
      "6 1 JUTA PELUANG PEKERJAAN BAHARU - 2 \n",
      "7 1 MAUT, 2 CEDERA DALAM INSIDEN GAS BOCOR DI KILANG CIP SAMSUNG DI KOREA SELATAN \n",
      "8 1 MAUT, 4 CEDERA DALAM NAHAS HELIKOPTER TENTERA TERHEMPAS DI KABUL \n",
      "9 1 MAUT, 5 PARAH DALAM LETUPAN BOM DI PEJABAT PARTI PEMERINTAH BENGAL BARAT \n"
     ]
    }
   ],
   "source": [
    "#file_name = files[4]\n",
    "#file_name = '1606-MANGSA-BANJIR-BERADA-DI-PUSAT-PEMINDAHAN-DI-TERENGGANU-MALAM-INI.pdf'\n",
    "for index, file_name in enumerate(files[0:10]):    \n",
    "    fp = open(file_name, 'rb')\n",
    "    length = len(list(PDFPage.get_pages(fp)))\n",
    "    #print(length)\n",
    "\n",
    "    text = extract_text(file_name, caching=False)\n",
    "\n",
    "    text = text.replace('\\n', ' ')\n",
    "    text = text.replace('\\x0c', ' ')\n",
    "    text = text.replace('-- LAGI', ' ')\n",
    "    text = text.replace('--LAGI', ' ')\n",
    "    text = text.replace('© Bernama Library & Infolink Service ', ' ')\n",
    "    #print(text)\n",
    "\n",
    "    text = text.strip()\n",
    "\n",
    "    title = re.search(r\"\\b[0-9A-Z\\s'‘’,:.-]+\\b\", text)[0]\n",
    "    print(str(index), title)\n",
    "\n",
    "    date = re.search(r'\\|\\s[0-9]{2}\\/[0-9]{2}\\/[0-9]{4}\\s\\|', text)[0]\n",
    "    date = date.strip('| ')\n",
    "    #print(date)\n",
    "\n",
    "    if re.search(r'(Author:)[a-zA-Z\\s\\/]+\\|', text):\n",
    "        author = re.search(r'(Author:)[a-zA-Z\\s\\/]+\\|', text)[0]\n",
    "        text = text.split(author)[1]\n",
    "        author = author.strip('| ')\n",
    "        author = author.replace('Author:', '')\n",
    "        #print(author)\n",
    "    \n",
    "    if '(Bernama)' in text:\n",
    "        text = text.split('(Bernama)')[1]\n",
    "    elif '( B e r n a m a )' in text:\n",
    "        text = text.split('( B e r n a m a )')[1]\n",
    "    else:\n",
    "        pass \n",
    "        \n",
    "    if re.search('--[\\s]*(BERNAMA)', text):\n",
    "        text = text.split(re.search('--[\\s]*(BERNAMA)', text)[0])[0]  \n",
    "    text = text.strip(' -–')\n",
    "    #text"
   ]
  },
  {
   "cell_type": "code",
   "execution_count": 58,
   "id": "e7e9b1cb-c444-4898-a072-ed726dc40ecd",
   "metadata": {},
   "outputs": [
    {
     "data": {
      "text/plain": [
       "2"
      ]
     },
     "execution_count": 58,
     "metadata": {},
     "output_type": "execute_result"
    }
   ],
   "source": [
    "file_name = 'PENJAJA-PANTAI-TANJUNG-ARU-MOHON-DIBENARKAN-BEROPERASI.pdf'\n",
    "fp = open(file_name, 'rb')\n",
    "length = len(list(PDFPage.get_pages(fp)))\n",
    "length"
   ]
  },
  {
   "cell_type": "code",
   "execution_count": 59,
   "id": "44392b9c-335b-4be6-b94d-e95aa8ceaaed",
   "metadata": {},
   "outputs": [
    {
     "data": {
      "text/plain": [
       "'akhir.\\n\\nmakanan. \\n\\nmereka.\\n\\nPENJAJA PANTAI TANJUNG ARU MOHON DIBENARKAN\\nBEROPERASI\\nBernama News | Berita Dalam Negeri | 18/04/2021 | Author: SHEREEN ALEXANDER | Others\\n\\nKOTA  KINABALU,  18  April  (Bernama)  --  Peniaga  di  Tanjung  Aru  Satu  merayu  Dewan\\nBandaraya  Kota  Kinabalu  (DBKK)  agar  membenarkan  mereka  beroperasi  semula  berikutan  semua\\npersiapan telah disediakan.\\n\\nMenurut mereka, ini kerana mereka menerima notis penutupan operasi tersebut pada saat-saat\\n\\n“Kami akan pastikan setiap peniaga dan pengunjung mematuhi prosedur operasi standard (SOP)\\nyang ketat, selain meminta bantuan pihak berkuasa memantau tahap pematuhan itu,” kata Pengerusi\\nPersatuan Penjaja Pantai Tanjung Aru Satu Dahlan Jahsiri kepada Bernama hari ini.\\n\\nDahlan  berkata  pada  masa  ini  terdapat  64  gerai  di  situ  dengan  kebanyakannya  menjual\\n\\nSemalam, DBKK mengeluarkan arahan agar semua pasar malam dan pasar minggu di bawah\\nbidang kuasanya ditutup selama dua minggu berkuat kuasa serta-merta bagi mengekang penularan\\nCOVID-19.\\n\\nSeorang peniaga, Shamsudin Bora, 50, berkata notis saat akhir itu memberi kesan besar ke atas\\n\\n“Notis (penutupan) diberi malam semalam, dan kami pun telah membeli semua makanan yang\\n\\nboleh basi. Jika ini tidak dijual, ia boleh membawa kerugian kepada kami.  \\n\\n“Kami meminta simpati kepada kerajaan agar gerai-gerai ini dibuka kembali secepat mungkin,\\n\\nsupaya dapat menjalankan perniagaan kembali yang telah terjejas disebabkan COVID-19,” katanya. \\n\\nSementara itu, Hanifah Nayan, 70, berkata penutupan operasi tersebut menjejaskan pendapatan\\n\\nmereka yang rata-rata bergantung sepenuhnya pada gerai berkenaan.\\n\\n“Benarkanlah kami beroperasi semula secepat mungkin,” katanya.\\n\\n \\n\\n-- BERNAMA\\n\\nTAG: Sabah, gerai, Tanjung Aru, penjaja, DBKK \\n\\n \\n\\n© Bernama Library & Infolink Service\\n\\n \\n\\n\\x0cSHAL FBR NHH NM\\n\\n \\n\\n© Bernama Library & Infolink Service\\n\\n \\n\\n\\x0c'"
      ]
     },
     "execution_count": 59,
     "metadata": {},
     "output_type": "execute_result"
    }
   ],
   "source": [
    "text = extract_text(file_name, caching=False)\n",
    "text"
   ]
  },
  {
   "cell_type": "code",
   "execution_count": 60,
   "id": "96db1a2b-4524-42ee-8947-58b3981731d4",
   "metadata": {},
   "outputs": [
    {
     "data": {
      "text/plain": [
       "'akhir.  makanan.   mereka.  PENJAJA PANTAI TANJUNG ARU MOHON DIBENARKAN BEROPERASI Bernama News | Berita Dalam Negeri | 18/04/2021 | Author: SHEREEN ALEXANDER | Others  KOTA  KINABALU,  18  April  (Bernama)  --  Peniaga  di  Tanjung  Aru  Satu  merayu  Dewan Bandaraya  Kota  Kinabalu  (DBKK)  agar  membenarkan  mereka  beroperasi  semula  berikutan  semua persiapan telah disediakan.  Menurut mereka, ini kerana mereka menerima notis penutupan operasi tersebut pada saat-saat  “Kami akan pastikan setiap peniaga dan pengunjung mematuhi prosedur operasi standard (SOP) yang ketat, selain meminta bantuan pihak berkuasa memantau tahap pematuhan itu,” kata Pengerusi Persatuan Penjaja Pantai Tanjung Aru Satu Dahlan Jahsiri kepada Bernama hari ini.  Dahlan  berkata  pada  masa  ini  terdapat  64  gerai  di  situ  dengan  kebanyakannya  menjual  Semalam, DBKK mengeluarkan arahan agar semua pasar malam dan pasar minggu di bawah bidang kuasanya ditutup selama dua minggu berkuat kuasa serta-merta bagi mengekang penularan COVID-19.  Seorang peniaga, Shamsudin Bora, 50, berkata notis saat akhir itu memberi kesan besar ke atas  “Notis (penutupan) diberi malam semalam, dan kami pun telah membeli semua makanan yang  boleh basi. Jika ini tidak dijual, ia boleh membawa kerugian kepada kami.    “Kami meminta simpati kepada kerajaan agar gerai-gerai ini dibuka kembali secepat mungkin,  supaya dapat menjalankan perniagaan kembali yang telah terjejas disebabkan COVID-19,” katanya.   Sementara itu, Hanifah Nayan, 70, berkata penutupan operasi tersebut menjejaskan pendapatan  mereka yang rata-rata bergantung sepenuhnya pada gerai berkenaan.  “Benarkanlah kami beroperasi semula secepat mungkin,” katanya.     -- BERNAMA  TAG: Sabah, gerai, Tanjung Aru, penjaja, DBKK            SHAL FBR NHH NM           '"
      ]
     },
     "execution_count": 60,
     "metadata": {},
     "output_type": "execute_result"
    }
   ],
   "source": [
    "text = text.replace('\\n', ' ')\n",
    "text = text.replace('\\x0c', ' ')\n",
    "text = text.replace('-- LAGI', ' ')\n",
    "text = text.replace('--LAGI', ' ')\n",
    "text = text.replace('© Bernama Library & Infolink Service ', ' ')\n",
    "text"
   ]
  },
  {
   "cell_type": "code",
   "execution_count": 63,
   "id": "4179dfb4-733e-4d87-b252-17ce3c9c984d",
   "metadata": {},
   "outputs": [
    {
     "data": {
      "text/plain": [
       "<re.Match object; span=(28, 83), match='PENJAJA PANTAI TANJUNG ARU MOHON DIBENARKAN BEROP>"
      ]
     },
     "execution_count": 63,
     "metadata": {},
     "output_type": "execute_result"
    }
   ],
   "source": [
    "re.search(r\"\\b[0-9A-Z\\s'‘’,:-]+\\b\", text)"
   ]
  },
  {
   "cell_type": "code",
   "execution_count": 49,
   "id": "299239c5-2706-4d8a-a752-85498c67fc89",
   "metadata": {},
   "outputs": [
    {
     "name": "stdout",
     "output_type": "stream",
     "text": [
      ".  \n",
      "18/04/2021\n",
      "Author: SHEREEN ALEXANDER\n"
     ]
    },
    {
     "data": {
      "text/plain": [
       "' Others  KOTA  KINABALU,  18  April  (Bernama)  --  Peniaga  di  Tanjung  Aru  Satu  merayu  Dewan Bandaraya  Kota  Kinabalu  (DBKK)  agar  membenarkan  mereka  beroperasi  semula  berikutan  semua persiapan telah disediakan.  Menurut mereka, ini kerana mereka menerima notis penutupan operasi tersebut pada saat-saat  “Kami akan pastikan setiap peniaga dan pengunjung mematuhi prosedur operasi standard (SOP) yang ketat, selain meminta bantuan pihak berkuasa memantau tahap pematuhan itu,” kata Pengerusi Persatuan Penjaja Pantai Tanjung Aru Satu Dahlan Jahsiri kepada Bernama hari ini.  Dahlan  berkata  pada  masa  ini  terdapat  64  gerai  di  situ  dengan  kebanyakannya  menjual  Semalam, DBKK mengeluarkan arahan agar semua pasar malam dan pasar minggu di bawah bidang kuasanya ditutup selama dua minggu berkuat kuasa serta-merta bagi mengekang penularan COVID-19.  Seorang peniaga, Shamsudin Bora, 50, berkata notis saat akhir itu memberi kesan besar ke atas  “Notis (penutupan) diberi malam semalam, dan kami pun telah membeli semua makanan yang  boleh basi. Jika ini tidak dijual, ia boleh membawa kerugian kepada kami.    “Kami meminta simpati kepada kerajaan agar gerai-gerai ini dibuka kembali secepat mungkin,  supaya dapat menjalankan perniagaan kembali yang telah terjejas disebabkan COVID-19,” katanya.   Sementara itu, Hanifah Nayan, 70, berkata penutupan operasi tersebut menjejaskan pendapatan  mereka yang rata-rata bergantung sepenuhnya pada gerai berkenaan.  “Benarkanlah kami beroperasi semula secepat mungkin,” katanya.     -- BERNAMA  TAG: Sabah, gerai, Tanjung Aru, penjaja, DBKK            SHAL FBR NHH NM'"
      ]
     },
     "execution_count": 49,
     "metadata": {},
     "output_type": "execute_result"
    }
   ],
   "source": [
    "text = text.strip()\n",
    "\n",
    "title = re.search(r'\\b[0-9A-Z\\s,-:]+\\b', text)[0]\n",
    "print(title)\n",
    "\n",
    "date = re.search(r'\\|\\s[0-9]{2}\\/[0-9]{2}\\/[0-9]{4}\\s\\|', text)[0]\n",
    "date = date.strip('| ')\n",
    "print(date)\n",
    "\n",
    "author = re.search(r'(Author:)[a-zA-Z\\s\\/]+\\|', text)[0]\n",
    "text = text.split(author)[1]\n",
    "author = author.strip('| ')\n",
    "print(author)\n",
    "\n",
    "#text = text.replace(title, '')\n",
    "text"
   ]
  },
  {
   "cell_type": "code",
   "execution_count": 41,
   "id": "11620c6b-f52f-4293-9828-65682361e79e",
   "metadata": {},
   "outputs": [
    {
     "data": {
      "text/plain": [
       "' Others        KUANTAN - Keprihatinan Yang di-Pertuan Agong Al-Sultan Abdullah Ri\\'ayatuddin Al-Mustafa Billah Shah terhadap mangsa banjir di Pahang terus terserlah apabila Seri Paduka Baginda hari ini, meninjau keadaan banjir di negeri ini menggunakan helikopter Tentera Udara Diraja Malaysia (TUDM).  Istana Negara dalam kenyataannya memaklumkan Seri Paduka Baginda yang menaiki pesawat EC725 berlepas dari Pangkalan Udara TUDM Kuantan, pada jam 9 pagi dengan diiringi Menteri Besar, Datuk Seri Wan Rosdy Wan Ismail.  \"Al-Sultan Abdullah dijadualkan mendarat di Kuala Lipis untuk menyantuni mangsa banjir yang ditempatkan di pusat pemindahan sementara (PPS) Sekolah Kebangsaan Clifford dan Sekolah Jenis Kebangsaan (C) Chung Hwa.  \"Selepas  di  Lipis,  Yang  di-Pertuan  Agong  akan  ke  Mentakab  dan  Temerloh  juga  bagi menyantuni mangsa banjir di di PPS Sekolah Menengah Kebangsaan Mentakab serta PPS Dewan Majlis Perbandaran Temerloh,\" menurut kenyataan itu di sini, pada Khamis.  Al-Sultan  Abdullah  berangkat  pulang  dari  Istana  Negara  pada  Selasa  lalu,  bagi  meninjau keadaan banjir Pahang dengan memandu sendiri kenderaan pacuan empat roda meredah banjir di Lebuhraya Pantai Timur Fasa 1 (LPT1).  Daerah  Maran  yang  teruk  terjejas  akibat  banjir,  menjadi  lokasi  pertama  Al-Sultan  Abdullah mencemar duli melawat mangsa banjir dengan diiringi Raja Permaisuri Agong Tunku Hajah Azizah Aminah Maimunah Iskandariah sebelum berangkat ke Kuantan. A r t i k e l   : https://www.sinarharian.com.my/article/117951/BERITA/Nasional/Agong-tinjau-situasi-banjir-Pahang-me nerusi-helikopter © 2018 Hakcipta Terpelihara Kumpulan Karangkraf    P e n u h  Sementara itu, di PPS Sekolah Kempadang di sini, Raja Permaisuri Agong Tunku Hajah Azizah Aminah Maimunah Iskandariah berkenan memasak di sekolah berkenaan yang turut dijadikan Pusat Memasak Berpusat.   Semasa mencemar duli mengadakan lawatan mengejut menyantuni mangsa banjir itu, Tunku Azizah berkenan menyediakan masakan sayur dan kari sardin sebagai tambahan kepada ayam masak merah serta ikan masin yang akan kemudiannya dibungkus untuk diagihkan kepada beberapa PPS sekitar daerah terbabit.                 -- BERNAMA   SSS SHS DC  TAG: Pahang, Al-Sultan Abdullah, banjir, TUDM, Tunku Azizah'"
      ]
     },
     "execution_count": 41,
     "metadata": {},
     "output_type": "execute_result"
    }
   ],
   "source": [
    "if '(Bernama)' in text:\n",
    "    text = text.split('(Bernama)')[1]\n",
    "elif '( B e r n a m a )' in text:\n",
    "    text = text.split('( B e r n a m a )')[1]\n",
    "else:\n",
    "    pass \n",
    "\n",
    "text"
   ]
  },
  {
   "cell_type": "code",
   "execution_count": 42,
   "id": "70de3c53-1cef-4f0b-9245-6bd3894d4325",
   "metadata": {},
   "outputs": [
    {
     "data": {
      "text/plain": [
       "'Others        KUANTAN - Keprihatinan Yang di-Pertuan Agong Al-Sultan Abdullah Ri\\'ayatuddin Al-Mustafa Billah Shah terhadap mangsa banjir di Pahang terus terserlah apabila Seri Paduka Baginda hari ini, meninjau keadaan banjir di negeri ini menggunakan helikopter Tentera Udara Diraja Malaysia (TUDM).  Istana Negara dalam kenyataannya memaklumkan Seri Paduka Baginda yang menaiki pesawat EC725 berlepas dari Pangkalan Udara TUDM Kuantan, pada jam 9 pagi dengan diiringi Menteri Besar, Datuk Seri Wan Rosdy Wan Ismail.  \"Al-Sultan Abdullah dijadualkan mendarat di Kuala Lipis untuk menyantuni mangsa banjir yang ditempatkan di pusat pemindahan sementara (PPS) Sekolah Kebangsaan Clifford dan Sekolah Jenis Kebangsaan (C) Chung Hwa.  \"Selepas  di  Lipis,  Yang  di-Pertuan  Agong  akan  ke  Mentakab  dan  Temerloh  juga  bagi menyantuni mangsa banjir di di PPS Sekolah Menengah Kebangsaan Mentakab serta PPS Dewan Majlis Perbandaran Temerloh,\" menurut kenyataan itu di sini, pada Khamis.  Al-Sultan  Abdullah  berangkat  pulang  dari  Istana  Negara  pada  Selasa  lalu,  bagi  meninjau keadaan banjir Pahang dengan memandu sendiri kenderaan pacuan empat roda meredah banjir di Lebuhraya Pantai Timur Fasa 1 (LPT1).  Daerah  Maran  yang  teruk  terjejas  akibat  banjir,  menjadi  lokasi  pertama  Al-Sultan  Abdullah mencemar duli melawat mangsa banjir dengan diiringi Raja Permaisuri Agong Tunku Hajah Azizah Aminah Maimunah Iskandariah sebelum berangkat ke Kuantan. A r t i k e l   : https://www.sinarharian.com.my/article/117951/BERITA/Nasional/Agong-tinjau-situasi-banjir-Pahang-me nerusi-helikopter © 2018 Hakcipta Terpelihara Kumpulan Karangkraf    P e n u h  Sementara itu, di PPS Sekolah Kempadang di sini, Raja Permaisuri Agong Tunku Hajah Azizah Aminah Maimunah Iskandariah berkenan memasak di sekolah berkenaan yang turut dijadikan Pusat Memasak Berpusat.   Semasa mencemar duli mengadakan lawatan mengejut menyantuni mangsa banjir itu, Tunku Azizah berkenan menyediakan masakan sayur dan kari sardin sebagai tambahan kepada ayam masak merah serta ikan masin yang akan kemudiannya dibungkus untuk diagihkan kepada beberapa PPS sekitar daerah terbabit.'"
      ]
     },
     "execution_count": 42,
     "metadata": {},
     "output_type": "execute_result"
    }
   ],
   "source": [
    "text = text.split(re.search('--[\\s]*(BERNAMA)', text)[0])[0]  \n",
    "text = text.strip(' -–')\n",
    "text"
   ]
  }
 ],
 "metadata": {
  "kernelspec": {
   "display_name": "Python 3",
   "language": "python",
   "name": "python3"
  },
  "language_info": {
   "codemirror_mode": {
    "name": "ipython",
    "version": 3
   },
   "file_extension": ".py",
   "mimetype": "text/x-python",
   "name": "python",
   "nbconvert_exporter": "python",
   "pygments_lexer": "ipython3",
   "version": "3.8.8"
  }
 },
 "nbformat": 4,
 "nbformat_minor": 5
}
