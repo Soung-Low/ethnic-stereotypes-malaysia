{
 "cells": [
  {
   "cell_type": "code",
   "execution_count": 1,
   "id": "6a2cf5dc-36b3-4750-83b7-7b04bd3b2de1",
   "metadata": {},
   "outputs": [],
   "source": [
    "import numpy as np\n",
    "import pandas as pd\n",
    "import matplotlib.pyplot as plt"
   ]
  },
  {
   "cell_type": "code",
   "execution_count": 2,
   "id": "731d1a6c-b8ad-4937-aca6-75583703f64b",
   "metadata": {},
   "outputs": [
    {
     "data": {
      "text/html": [
       "<div>\n",
       "<style scoped>\n",
       "    .dataframe tbody tr th:only-of-type {\n",
       "        vertical-align: middle;\n",
       "    }\n",
       "\n",
       "    .dataframe tbody tr th {\n",
       "        vertical-align: top;\n",
       "    }\n",
       "\n",
       "    .dataframe thead th {\n",
       "        text-align: right;\n",
       "    }\n",
       "</style>\n",
       "<table border=\"1\" class=\"dataframe\">\n",
       "  <thead>\n",
       "    <tr style=\"text-align: right;\">\n",
       "      <th></th>\n",
       "      <th>year_month</th>\n",
       "      <th>title</th>\n",
       "      <th>link</th>\n",
       "      <th>author</th>\n",
       "      <th>article</th>\n",
       "    </tr>\n",
       "  </thead>\n",
       "  <tbody>\n",
       "    <tr>\n",
       "      <th>0</th>\n",
       "      <td>2013_June</td>\n",
       "      <td>Syabas Zahid, KPN baru</td>\n",
       "      <td>https://www.malaymail.com/news/opinion/2013/06...</td>\n",
       "      <td>By Subky Abdul Latif</td>\n",
       "      <td>30 JUN — Syukur. Tahniah buat Blackout (Gelap)...</td>\n",
       "    </tr>\n",
       "    <tr>\n",
       "      <th>1</th>\n",
       "      <td>2013_June</td>\n",
       "      <td>Nusrat Fateh dan konsep muzik yang pelbagai</td>\n",
       "      <td>https://www.malaymail.com/news/opinion/2013/06...</td>\n",
       "      <td>By Meor Yusof Aziddin</td>\n",
       "      <td>30 JUN — Jika ditanya kepada saya siapa antara...</td>\n",
       "    </tr>\n",
       "    <tr>\n",
       "      <th>2</th>\n",
       "      <td>2013_June</td>\n",
       "      <td>Expect thriller from Brazil and Spain</td>\n",
       "      <td>https://www.malaymail.com/news/opinion/2013/06...</td>\n",
       "      <td>By Andy West</td>\n",
       "      <td>JUNE 29 — The Confederations Cup final between...</td>\n",
       "    </tr>\n",
       "    <tr>\n",
       "      <th>3</th>\n",
       "      <td>2013_June</td>\n",
       "      <td>Man of Steel: Too much steel?</td>\n",
       "      <td>https://www.malaymail.com/news/opinion/2013/06...</td>\n",
       "      <td>By Aidil Rusli</td>\n",
       "      <td>JUNE 29 — We tend to be a little bit possessiv...</td>\n",
       "    </tr>\n",
       "    <tr>\n",
       "      <th>4</th>\n",
       "      <td>2013_June</td>\n",
       "      <td>Paris’ gay community post-same-sex marriage law</td>\n",
       "      <td>https://www.malaymail.com/news/opinion/2013/06...</td>\n",
       "      <td>By Helen Hickey</td>\n",
       "      <td>JUNE 28 — How do they feel now? This is the qu...</td>\n",
       "    </tr>\n",
       "  </tbody>\n",
       "</table>\n",
       "</div>"
      ],
      "text/plain": [
       "  year_month                                            title  \\\n",
       "0  2013_June                           Syabas Zahid, KPN baru   \n",
       "1  2013_June      Nusrat Fateh dan konsep muzik yang pelbagai   \n",
       "2  2013_June            Expect thriller from Brazil and Spain   \n",
       "3  2013_June                    Man of Steel: Too much steel?   \n",
       "4  2013_June  Paris’ gay community post-same-sex marriage law   \n",
       "\n",
       "                                                link                 author  \\\n",
       "0  https://www.malaymail.com/news/opinion/2013/06...   By Subky Abdul Latif   \n",
       "1  https://www.malaymail.com/news/opinion/2013/06...  By Meor Yusof Aziddin   \n",
       "2  https://www.malaymail.com/news/opinion/2013/06...           By Andy West   \n",
       "3  https://www.malaymail.com/news/opinion/2013/06...         By Aidil Rusli   \n",
       "4  https://www.malaymail.com/news/opinion/2013/06...        By Helen Hickey   \n",
       "\n",
       "                                             article  \n",
       "0  30 JUN — Syukur. Tahniah buat Blackout (Gelap)...  \n",
       "1  30 JUN — Jika ditanya kepada saya siapa antara...  \n",
       "2  JUNE 29 — The Confederations Cup final between...  \n",
       "3  JUNE 29 — We tend to be a little bit possessiv...  \n",
       "4  JUNE 28 — How do they feel now? This is the qu...  "
      ]
     },
     "execution_count": 2,
     "metadata": {},
     "output_type": "execute_result"
    }
   ],
   "source": [
    "df = pd.read_csv('data/malay_mail/opinion_2013_complete.csv')\n",
    "df.head()"
   ]
  },
  {
   "cell_type": "code",
   "execution_count": 8,
   "id": "cb585955-912d-4b24-b4c5-71f730c95a92",
   "metadata": {},
   "outputs": [
    {
     "data": {
      "text/plain": [
       "'30 JUN — Syukur. Tahniah buat Blackout (Gelap) 505, 22 Jun lalu kerana kerjanya berjaya dengan ujian yang sedikit. Tiada kejadian buruk kerana tiada lagi cabaran besar itu gangguan polis. Maka atas kejayaan itu, patut saya beri syabas dan tahniah juga kepada Menteri Dalam Negeri Datuk Seri Zahid Hamidi dan Ketua Polis Negara yang baru, Tan Sri Khalid Abu Bakar kerana bersabar dengan ujian Gelap 505 itu. Mereka tidak seperti menteri sebelumnya dan KPN sebelumnya masng-masing tidak bersabar melibat tunjuk perasaan dari  rakyat yang tidak puas hati. Tentunya Zahid dan Khalid telah belajar dari pengalaman orang yang terdahulu, bahawa tidak apa yang didapati dari tindakan menghalang tunjuk perasaan orang yang tidak puas hati. Usaha memburukkan tunjuk perasaan tidak berhasil bahkan kerajaan gagal untuk mencapai keputusan yang lebih baik dalam PRU13. Menghabiskan peluru meriam air, ges pemedih mata dan lain-lain, orang menunjuk perasaan juga. Nama baik kerajaan tidak pula dapat dipelihara dan nama baik polis juga dapat dipertahankan. Zahid Hamidi dijadikan menteri dalam negeri yang baru. Gelap 505 di Kuala Lumpur di Padang Merbok itulah ujian awalnya. Adakah dia tidak memerintahkan polis untuk  bertindak seperti dulu? Atau dia menyerahkan kepada profasionalisma polis untuk menghadapi bantahan itu? Saya percaya Zahid tidak menekan polis untuk bertindak dan mendengar nasihat polis, menyerahkan kepada kebijaksanaan polis. Gelap 505 inilah tugas dan cabaran pertama Ketua Polis  Negara yang baru. Walaupun dia tidak memberi lamupu hijau dan permaidani merah kepad Rafizi Ramli menganjurkan bantahan itu, tidak diperkenannya apa yang diminta. Minta laluan menggunakan Dataran Merdeka tidak diberi, minta Padang Merbok pun tidak diizinkan, bahkan diserunya orang awam jangan turun, tetapi  dia bersabar, tidak menurunkan segala kelengakapan yang  ada padanya untuk mencabar perhimpunan itu. Saya harap kesabaran polis itu bukan disebabkan mereka disuruh begitu oleh Perdana Menteri dan menteri, tetapi KPN diberi kebebasan untuk melakukan yang terbaik sesuai dengan profesionalisma polis dalam menangani keamanan dan ketenteraman. Apa yang dapat dilihat KPN telah berjaya mengelakkan provokasi dan kontrovesi dengan pelanggannya pada bulan pertama dia memegang jawatan. Siri Gelap 505 di setiap negeri adalah ujian politik yang menunggunya sebaik saja dia menjadi KPN. Siri Gelap 505 itu bukan untuk melawan UMNO  dan melawan kerajaan. Bukanuntuk mencabar Perdana Menteri, mencabar kerajaan atau mencabar polis, tetapi untuk mencabar apa yang rasakan ketempangan SPR mengendalikan amanah yang diberi oleh Yang Dipertuan Agong. Tiada sebab polis mesti berdepan  dengan masyarakat disebabkan oleh kelemahan dan kepincangan SPR dan pemimpin-pemimpinnnya. SPR duduk mengintai tunjuk perasaan terhadap kerjanya dari pejabat berhawa dingin, polis terpaksa berdepan di jalanan dalam cuara panas berjerbu dengan para pembantah. Apa yang polis perlu buat ialah jaga jangan ada kekacauan, dan SPR mesti tangani masalahnya supaya orang tidak turun kejalanan kerana kerja-kerjanya. Jangan atas kebangkitan rakyat itu Pengerusi SPR dan timbalannya terselamat, KPN terpaksa  berhari-hari berlawan dengan orangramai. Zahid pun tidak mahu kerjaya politik rosak kerana menjaga kepincangan SPR dan KPN tidak mahu dirinya tercemar oleh kelemahan pihak lain.  Maka mereka mengambil tindakan profesional, tidak melawan arus pro demokrasi. Polis mengawal lalu lintas saja pada petang 22 Jun 2013 itu. Moga-moga tiada sesiapa didakwa kerana Gelap 505 ini. Jika ada pula dakwaan, maka ucapan tahnah dan syabas kepada menteri dan KPN  boleh ditarik balik. Syabas Zahid dan syabas KPN. * This is the personal opinion of the columnist.'"
      ]
     },
     "execution_count": 8,
     "metadata": {},
     "output_type": "execute_result"
    }
   ],
   "source": [
    "df.article[0]"
   ]
  },
  {
   "cell_type": "code",
   "execution_count": 13,
   "id": "2f7b31e9-0bda-46c6-8214-8ba86db95d80",
   "metadata": {},
   "outputs": [
    {
     "name": "stdout",
     "output_type": "stream",
     "text": [
      "30 JUN \n"
     ]
    },
    {
     "data": {
      "text/plain": [
       "' Syukur. Tahniah buat Blackout (Gelap) 505, 22 Jun lalu kerana kerjanya berjaya dengan ujian yang sedikit. Tiada kejadian buruk kerana tiada lagi cabaran besar itu gangguan polis. Maka atas kejayaan itu, patut saya beri syabas dan tahniah juga kepada Menteri Dalam Negeri Datuk Seri Zahid Hamidi dan Ketua Polis Negara yang baru, Tan Sri Khalid Abu Bakar kerana bersabar dengan ujian Gelap 505 itu. Mereka tidak seperti menteri sebelumnya dan KPN sebelumnya masng-masing tidak bersabar melibat tunjuk perasaan dari  rakyat yang tidak puas hati. Tentunya Zahid dan Khalid telah belajar dari pengalaman orang yang terdahulu, bahawa tidak apa yang didapati dari tindakan menghalang tunjuk perasaan orang yang tidak puas hati. Usaha memburukkan tunjuk perasaan tidak berhasil bahkan kerajaan gagal untuk mencapai keputusan yang lebih baik dalam PRU13. Menghabiskan peluru meriam air, ges pemedih mata dan lain-lain, orang menunjuk perasaan juga. Nama baik kerajaan tidak pula dapat dipelihara dan nama baik polis juga dapat dipertahankan. Zahid Hamidi dijadikan menteri dalam negeri yang baru. Gelap 505 di Kuala Lumpur di Padang Merbok itulah ujian awalnya. Adakah dia tidak memerintahkan polis untuk  bertindak seperti dulu? Atau dia menyerahkan kepada profasionalisma polis untuk menghadapi bantahan itu? Saya percaya Zahid tidak menekan polis untuk bertindak dan mendengar nasihat polis, menyerahkan kepada kebijaksanaan polis. Gelap 505 inilah tugas dan cabaran pertama Ketua Polis  Negara yang baru. Walaupun dia tidak memberi lamupu hijau dan permaidani merah kepad Rafizi Ramli menganjurkan bantahan itu, tidak diperkenannya apa yang diminta. Minta laluan menggunakan Dataran Merdeka tidak diberi, minta Padang Merbok pun tidak diizinkan, bahkan diserunya orang awam jangan turun, tetapi  dia bersabar, tidak menurunkan segala kelengakapan yang  ada padanya untuk mencabar perhimpunan itu. Saya harap kesabaran polis itu bukan disebabkan mereka disuruh begitu oleh Perdana Menteri dan menteri, tetapi KPN diberi kebebasan untuk melakukan yang terbaik sesuai dengan profesionalisma polis dalam menangani keamanan dan ketenteraman. Apa yang dapat dilihat KPN telah berjaya mengelakkan provokasi dan kontrovesi dengan pelanggannya pada bulan pertama dia memegang jawatan. Siri Gelap 505 di setiap negeri adalah ujian politik yang menunggunya sebaik saja dia menjadi KPN. Siri Gelap 505 itu bukan untuk melawan UMNO  dan melawan kerajaan. Bukanuntuk mencabar Perdana Menteri, mencabar kerajaan atau mencabar polis, tetapi untuk mencabar apa yang rasakan ketempangan SPR mengendalikan amanah yang diberi oleh Yang Dipertuan Agong. Tiada sebab polis mesti berdepan  dengan masyarakat disebabkan oleh kelemahan dan kepincangan SPR dan pemimpin-pemimpinnnya. SPR duduk mengintai tunjuk perasaan terhadap kerjanya dari pejabat berhawa dingin, polis terpaksa berdepan di jalanan dalam cuara panas berjerbu dengan para pembantah. Apa yang polis perlu buat ialah jaga jangan ada kekacauan, dan SPR mesti tangani masalahnya supaya orang tidak turun kejalanan kerana kerja-kerjanya. Jangan atas kebangkitan rakyat itu Pengerusi SPR dan timbalannya terselamat, KPN terpaksa  berhari-hari berlawan dengan orangramai. Zahid pun tidak mahu kerjaya politik rosak kerana menjaga kepincangan SPR dan KPN tidak mahu dirinya tercemar oleh kelemahan pihak lain.  Maka mereka mengambil tindakan profesional, tidak melawan arus pro demokrasi. Polis mengawal lalu lintas saja pada petang 22 Jun 2013 itu. Moga-moga tiada sesiapa didakwa kerana Gelap 505 ini. Jika ada pula dakwaan, maka ucapan tahnah dan syabas kepada menteri dan KPN  boleh ditarik balik. Syabas Zahid dan syabas KPN.'"
      ]
     },
     "execution_count": 13,
     "metadata": {},
     "output_type": "execute_result"
    }
   ],
   "source": [
    "# Clean articles\n",
    "\n",
    "text = df.article[0].split('—')\n",
    "day_month = text[0]\n",
    "print(day_month)\n",
    "\n",
    "text = text[1]\n",
    "opinion = ' * This is the personal opinion of the columnist.' \n",
    "text.replace(opinion, '')"
   ]
  }
 ],
 "metadata": {
  "kernelspec": {
   "display_name": "Python 3",
   "language": "python",
   "name": "python3"
  },
  "language_info": {
   "codemirror_mode": {
    "name": "ipython",
    "version": 3
   },
   "file_extension": ".py",
   "mimetype": "text/x-python",
   "name": "python",
   "nbconvert_exporter": "python",
   "pygments_lexer": "ipython3",
   "version": "3.8.8"
  }
 },
 "nbformat": 4,
 "nbformat_minor": 5
}
