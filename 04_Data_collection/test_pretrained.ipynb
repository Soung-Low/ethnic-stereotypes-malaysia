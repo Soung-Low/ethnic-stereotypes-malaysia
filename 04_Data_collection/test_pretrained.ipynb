{
 "cells": [
  {
   "cell_type": "code",
   "execution_count": 23,
   "id": "69a266c7-0b3a-4b5f-b13b-1006e83577d2",
   "metadata": {},
   "outputs": [],
   "source": [
    "#import lxml.etree as ET\n",
    "import xml.etree.ElementTree as ET\n",
    "import regex"
   ]
  },
  {
   "cell_type": "code",
   "execution_count": 24,
   "id": "6e3fa33d-6f46-437b-b6b4-dc69130ed000",
   "metadata": {},
   "outputs": [],
   "source": [
    "tree = ET.parse(\"C:/Users/user/Dropbox/0_MY498_Dissertation/05_Reference (Codes)/wordvectors/data/mswiki-20210520-pages-articles-multistream.xml\")\n",
    "root = tree.getroot()"
   ]
  },
  {
   "cell_type": "code",
   "execution_count": 36,
   "id": "aef1525e-d873-4cb1-abe1-eae910bed3dd",
   "metadata": {},
   "outputs": [
    {
     "name": "stdout",
     "output_type": "stream",
     "text": [
      "{http://www.mediawiki.org/xml/export-0.10/}mediawiki\n",
      "{'{http://www.w3.org/2001/XMLSchema-instance}schemaLocation': 'http://www.mediawiki.org/xml/export-0.10/ http://www.mediawiki.org/xml/export-0.10.xsd', 'version': '0.10', '{http://www.w3.org/XML/1998/namespace}lang': 'ms'}\n"
     ]
    }
   ],
   "source": [
    "print(root.tag)\n",
    "print(root.attrib)"
   ]
  },
  {
   "cell_type": "code",
   "execution_count": 41,
   "id": "eff9170a-18ea-404a-891c-1dc672dbfc5c",
   "metadata": {},
   "outputs": [
    {
     "name": "stdout",
     "output_type": "stream",
     "text": [
      "{http://www.mediawiki.org/xml/export-0.10/}siteinfo {}\n",
      "{http://www.mediawiki.org/xml/export-0.10/}page {}\n",
      "{http://www.mediawiki.org/xml/export-0.10/}page {}\n",
      "{http://www.mediawiki.org/xml/export-0.10/}page {}\n",
      "{http://www.mediawiki.org/xml/export-0.10/}page {}\n",
      "{http://www.mediawiki.org/xml/export-0.10/}page {}\n",
      "{http://www.mediawiki.org/xml/export-0.10/}page {}\n",
      "{http://www.mediawiki.org/xml/export-0.10/}page {}\n",
      "{http://www.mediawiki.org/xml/export-0.10/}page {}\n",
      "{http://www.mediawiki.org/xml/export-0.10/}page {}\n"
     ]
    }
   ],
   "source": [
    "# Iterate over first 10 subelements and their attributes \n",
    "for child in root[0:10]:\n",
    "    print(child.tag, child.attrib)"
   ]
  },
  {
   "cell_type": "code",
   "execution_count": 42,
   "id": "91abf305-bb28-44f8-bc68-c6742815ef72",
   "metadata": {},
   "outputs": [
    {
     "data": {
      "text/plain": [
       "['{http://www.mediawiki.org/xml/export-0.10/}mediawiki',\n",
       " '{http://www.mediawiki.org/xml/export-0.10/}siteinfo',\n",
       " '{http://www.mediawiki.org/xml/export-0.10/}sitename',\n",
       " '{http://www.mediawiki.org/xml/export-0.10/}dbname',\n",
       " '{http://www.mediawiki.org/xml/export-0.10/}base',\n",
       " '{http://www.mediawiki.org/xml/export-0.10/}generator',\n",
       " '{http://www.mediawiki.org/xml/export-0.10/}case',\n",
       " '{http://www.mediawiki.org/xml/export-0.10/}namespaces',\n",
       " '{http://www.mediawiki.org/xml/export-0.10/}namespace',\n",
       " '{http://www.mediawiki.org/xml/export-0.10/}namespace',\n",
       " '{http://www.mediawiki.org/xml/export-0.10/}namespace',\n",
       " '{http://www.mediawiki.org/xml/export-0.10/}namespace',\n",
       " '{http://www.mediawiki.org/xml/export-0.10/}namespace',\n",
       " '{http://www.mediawiki.org/xml/export-0.10/}namespace',\n",
       " '{http://www.mediawiki.org/xml/export-0.10/}namespace',\n",
       " '{http://www.mediawiki.org/xml/export-0.10/}namespace',\n",
       " '{http://www.mediawiki.org/xml/export-0.10/}namespace',\n",
       " '{http://www.mediawiki.org/xml/export-0.10/}namespace',\n",
       " '{http://www.mediawiki.org/xml/export-0.10/}namespace',\n",
       " '{http://www.mediawiki.org/xml/export-0.10/}namespace']"
      ]
     },
     "execution_count": 42,
     "metadata": {},
     "output_type": "execute_result"
    }
   ],
   "source": [
    "# Get all elements by iterating recursively \n",
    "tags = [elem.tag for elem in root.iter()]\n",
    "tags[:20]"
   ]
  },
  {
   "cell_type": "code",
   "execution_count": 50,
   "id": "e0f80d3c-ac7f-44ac-a308-d0bf64310440",
   "metadata": {},
   "outputs": [
    {
     "name": "stdout",
     "output_type": "stream",
     "text": [
      "<?xml version='1.0' encoding='utf8'?>\n",
      "<ns0:page xmlns:ns0=\"http://www.mediawiki.org/xml/export-0.10/\">\n",
      "    <ns0:title>Laman Utama</ns0:title>\n",
      "    <ns0:ns>0</ns0:ns>\n",
      "    <ns0:id>4</ns0:id>\n",
      "    <ns0:revision>\n",
      "      <ns0:id>4885379</ns0:id>\n",
      "      <ns0:parentid>4847632</ns0:parentid>\n",
      "      <ns0:timestamp>2020-09-05T19:55:52Z</ns0:timestamp>\n",
      "      <ns0:contributor>\n",
      "        <ns0:username>Kurniasan</ns0:username>\n",
      "        <ns0:id>6930</ns0:id>\n",
      "      </ns0:contributor>\n",
      "      <ns0:minor />\n",
      "      <ns0:comment>buang &lt;br&gt; yang wujud disebabkan oleh newline</ns0:comment>\n",
      "      <ns0:model>wikitext</ns0:model>\n",
      "      <ns0:format>text/x-wiki</ns0:format>\n",
      "      <ns0:text bytes=\"293\" xml:space=\"preserve\">&lt;!--                    X x X x X         LAMAN UTAMA         X x X x X                    \n",
      "--&gt;{{Laman_Utama-Pendahulu}}{{Laman_Utama-Kandungan}}{{Laman_Utama-Akhir}}&lt;!--\n",
      "                        X x X x X         LAMAN UTAMA         X x X x X                    --&gt;\n",
      "__NOTOC__ __NOEDITSECTION__</ns0:text>\n",
      "      <ns0:sha1>hid1jmxw1uyfvedpsn6zk04kluldoja</ns0:sha1>\n",
      "    </ns0:revision>\n",
      "  </ns0:page>\n",
      "  \n"
     ]
    }
   ],
   "source": [
    "# Examine the content within a child \n",
    "print(ET.tostring(root[1], encoding='utf8').decode('utf8'))"
   ]
  },
  {
   "cell_type": "code",
   "execution_count": null,
   "id": "7bfc1053-a07d-4c5e-83d2-057e6c5ef75b",
   "metadata": {},
   "outputs": [],
   "source": [
    "for text in root.iter('{http://www.mediawiki.org/xml/export-0.10/}text'):\n",
    "    print(text)"
   ]
  },
  {
   "cell_type": "code",
   "execution_count": 16,
   "id": "53056338-2ce6-4160-9133-73c97ebd3213",
   "metadata": {},
   "outputs": [],
   "source": [
    "def clean_text(text):\n",
    "    global lcode\n",
    "    \n",
    "    # Common\n",
    "    text = regex.sub(\"(?s)<ref>.+?</ref>\", \"\", text) # remove reference links\n",
    "    text = regex.sub(\"(?s)<[^>]+>\", \"\", text) # remove html tags\n",
    "    text = regex.sub(\"&[a-z]+;\", \"\", text) # remove html entities\n",
    "    text = regex.sub(\"(?s){{.+?}}\", \"\", text) # remove markup tags\n",
    "    text = regex.sub(\"(?s){.+?}\", \"\", text) # remove markup tags\n",
    "    text = regex.sub(\"(?s)\\[\\[([^]]+\\|)\", \"\", text) # remove link target strings\n",
    "    text = regex.sub(\"(?s)\\[\\[([^]]+\\:.+?]])\", \"\", text) # remove media links\n",
    "    \n",
    "    text = regex.sub(\"[']{5}\", \"\", text) # remove italic+bold symbols\n",
    "    text = regex.sub(\"[']{3}\", \"\", text) # remove bold symbols\n",
    "    text = regex.sub(\"[']{2}\", \"\", text) # remove italic symbols\n",
    "    \n",
    "    if lcode in ['ko']: # korean\n",
    "        text = regex.sub(u\"[^ \\r\\n\\p{Hangul}.?!]\", \" \", text) # Replace unacceptable characters with a space.\n",
    "    elif lcode in ['ja']: # japanese\n",
    "        text = regex.sub(u\"[^\\r\\n\\p{Han}\\p{Hiragana}\\p{Katakana}ー。！？]\", \"\", text)\n",
    "    elif lcode in ['zh']: # chinsese\n",
    "        text = regex.sub(u\"[^\\r\\n\\p{Han}。！？]\", \"\", text)\n",
    "    elif lcode in ['th']: # thai\n",
    "        text = regex.sub(u\"[^ \\r\\n\\p{Thai}.?!]\", \" \", text)\n",
    "    elif lcode in ['ru']: # russian\n",
    "        text = regex.sub(u\"[^ \\r\\n\\p{Cyrillic}.?!\\-]\", \" \", text)\n",
    "        text = text.lower()\n",
    "#     elif lcode in ['ar']: # arabic\n",
    "#         text = regex.sub(u\"[^ \\r\\n\\p{Arabic}.?!\\-]\", \" \", text)\n",
    "    elif lcode in ['hi']: # hindi\n",
    "        text = regex.sub(u\"[^ \\r\\n\\p{Devanagari}.।?!\\-]\", \" \", text)\n",
    "    elif lcode in ['bn']: # bengali\n",
    "        text = regex.sub(u\"[^ \\r\\n\\p{Bengali}.।?!\\-]\", \" \", text)\n",
    "    elif lcode in ['de']: # german\n",
    "        text = regex.sub(u\"[^ \\r\\n\\p{Latin}\\-'‘’.?!]\", \" \", text)\n",
    "    else: # Mostly european languages\n",
    "        text = regex.sub(u\"[^ \\r\\n\\p{Latin}\\-'‘’.?!]\", \" \", text)\n",
    "        text = text.lower()\n",
    "    \n",
    "    # Common\n",
    "    text = regex.sub(\"[ ]{2,}\", \" \", text) # Squeeze spaces.\n",
    "    return text"
   ]
  },
  {
   "cell_type": "code",
   "execution_count": 21,
   "id": "61373db2-d4a9-4235-ae8e-302fe430352b",
   "metadata": {},
   "outputs": [
    {
     "name": "stdout",
     "output_type": "stream",
     "text": [
      "wikipedia\n"
     ]
    }
   ],
   "source": [
    "fname = 'C:/Users/user/Dropbox/0_MY498_Dissertation/05_Reference (Codes)/wordvectors/data/mswiki-20210520-pages-articles-multistream.xml'\n",
    "i = 1\n",
    "ns = \"{http://www.mediawiki.org/xml/export-0.10/}\"\n",
    "lcode = 'ms'\n",
    "for _, elem in ET.iterparse(fname):\n",
    "    while i <2: \n",
    "        print(clean_text(elem.text))\n",
    "        i += 1"
   ]
  }
 ],
 "metadata": {
  "kernelspec": {
   "display_name": "Python 3",
   "language": "python",
   "name": "python3"
  },
  "language_info": {
   "codemirror_mode": {
    "name": "ipython",
    "version": 3
   },
   "file_extension": ".py",
   "mimetype": "text/x-python",
   "name": "python",
   "nbconvert_exporter": "python",
   "pygments_lexer": "ipython3",
   "version": "3.8.8"
  }
 },
 "nbformat": 4,
 "nbformat_minor": 5
}
