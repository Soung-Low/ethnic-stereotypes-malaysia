{
 "cells": [
  {
   "cell_type": "markdown",
   "id": "d7db4abb-f125-4b0e-a73e-52e143d64c33",
   "metadata": {},
   "source": [
    "- This notebook contains codes for splitting yearly data for Malay Mail into monthly data "
   ]
  },
  {
   "cell_type": "code",
   "execution_count": 2,
   "id": "7dfc58c7-258a-4368-b49d-51db45d12dc6",
   "metadata": {},
   "outputs": [],
   "source": [
    "import pandas as pd\n",
    "import numpy as np\n",
    "import os "
   ]
  },
  {
   "cell_type": "code",
   "execution_count": 3,
   "id": "9a37cab9-ee77-4c70-96e9-833d416a835e",
   "metadata": {},
   "outputs": [],
   "source": [
    "os.chdir('data/malay_mail/') # change directory to the folder which stores the data "
   ]
  },
  {
   "cell_type": "code",
   "execution_count": 19,
   "id": "2dbd7ba0-60af-4743-b312-2be4672a1591",
   "metadata": {},
   "outputs": [
    {
     "data": {
      "text/html": [
       "<div>\n",
       "<style scoped>\n",
       "    .dataframe tbody tr th:only-of-type {\n",
       "        vertical-align: middle;\n",
       "    }\n",
       "\n",
       "    .dataframe tbody tr th {\n",
       "        vertical-align: top;\n",
       "    }\n",
       "\n",
       "    .dataframe thead th {\n",
       "        text-align: right;\n",
       "    }\n",
       "</style>\n",
       "<table border=\"1\" class=\"dataframe\">\n",
       "  <thead>\n",
       "    <tr style=\"text-align: right;\">\n",
       "      <th></th>\n",
       "      <th>year_month</th>\n",
       "      <th>title</th>\n",
       "      <th>link</th>\n",
       "    </tr>\n",
       "  </thead>\n",
       "  <tbody>\n",
       "    <tr>\n",
       "      <th>0</th>\n",
       "      <td>2017_July</td>\n",
       "      <td>MACC arrests FIC former CEO</td>\n",
       "      <td>https://www.malaymail.com/news/malaysia/2017/0...</td>\n",
       "    </tr>\n",
       "    <tr>\n",
       "      <th>1</th>\n",
       "      <td>2017_July</td>\n",
       "      <td>Police arrest suspect in child sexual abuse case</td>\n",
       "      <td>https://www.malaymail.com/news/malaysia/2017/0...</td>\n",
       "    </tr>\n",
       "    <tr>\n",
       "      <th>2</th>\n",
       "      <td>2017_July</td>\n",
       "      <td>Nothing wrong with revealing Dr M’s IC, deputy...</td>\n",
       "      <td>https://www.malaymail.com/news/malaysia/2017/0...</td>\n",
       "    </tr>\n",
       "    <tr>\n",
       "      <th>3</th>\n",
       "      <td>2017_July</td>\n",
       "      <td>Allocation for senior citizen centre diverted ...</td>\n",
       "      <td>https://www.malaymail.com/news/malaysia/2017/0...</td>\n",
       "    </tr>\n",
       "    <tr>\n",
       "      <th>4</th>\n",
       "      <td>2017_July</td>\n",
       "      <td>Najib urges 3.7m Malaysians to register as voters</td>\n",
       "      <td>https://www.malaymail.com/news/malaysia/2017/0...</td>\n",
       "    </tr>\n",
       "  </tbody>\n",
       "</table>\n",
       "</div>"
      ],
      "text/plain": [
       "  year_month                                              title  \\\n",
       "0  2017_July                        MACC arrests FIC former CEO   \n",
       "1  2017_July   Police arrest suspect in child sexual abuse case   \n",
       "2  2017_July  Nothing wrong with revealing Dr M’s IC, deputy...   \n",
       "3  2017_July  Allocation for senior citizen centre diverted ...   \n",
       "4  2017_July  Najib urges 3.7m Malaysians to register as voters   \n",
       "\n",
       "                                                link  \n",
       "0  https://www.malaymail.com/news/malaysia/2017/0...  \n",
       "1  https://www.malaymail.com/news/malaysia/2017/0...  \n",
       "2  https://www.malaymail.com/news/malaysia/2017/0...  \n",
       "3  https://www.malaymail.com/news/malaysia/2017/0...  \n",
       "4  https://www.malaymail.com/news/malaysia/2017/0...  "
      ]
     },
     "execution_count": 19,
     "metadata": {},
     "output_type": "execute_result"
    }
   ],
   "source": [
    "df = pd.read_csv('malaysia_2017_2.csv') # import data \n",
    "df.head()"
   ]
  },
  {
   "cell_type": "code",
   "execution_count": 20,
   "id": "114a8649-4768-4917-8dfb-a97ef6bf8f8b",
   "metadata": {},
   "outputs": [],
   "source": [
    "# split yearly data into monthly data and save as csv for further scraping \n",
    "for month in df.year_month.unique(): \n",
    "    df_month = df.loc[df.year_month==month, :]\n",
    "    df_month.to_csv('malaysia_' + month + '.csv', index=False)"
   ]
  }
 ],
 "metadata": {
  "kernelspec": {
   "display_name": "Python 3",
   "language": "python",
   "name": "python3"
  },
  "language_info": {
   "codemirror_mode": {
    "name": "ipython",
    "version": 3
   },
   "file_extension": ".py",
   "mimetype": "text/x-python",
   "name": "python",
   "nbconvert_exporter": "python",
   "pygments_lexer": "ipython3",
   "version": "3.8.8"
  }
 },
 "nbformat": 4,
 "nbformat_minor": 5
}
