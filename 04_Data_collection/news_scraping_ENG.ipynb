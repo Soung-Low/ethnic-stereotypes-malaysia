{
 "cells": [
  {
   "cell_type": "code",
   "execution_count": 1,
   "id": "regional-mustang",
   "metadata": {
    "ExecuteTime": {
     "end_time": "2021-02-17T03:12:14.465480Z",
     "start_time": "2021-02-17T03:12:14.461478Z"
    }
   },
   "outputs": [],
   "source": [
    "import numpy as np\n",
    "import pandas as pd\n",
    "import matplotlib.pyplot as plt"
   ]
  },
  {
   "cell_type": "markdown",
   "id": "brief-approach",
   "metadata": {
    "tags": []
   },
   "source": [
    "# Scrape News Title and Web Links"
   ]
  },
  {
   "cell_type": "markdown",
   "id": "mental-complex",
   "metadata": {
    "ExecuteTime": {
     "end_time": "2021-02-17T03:12:18.007248Z",
     "start_time": "2021-02-17T03:12:18.003211Z"
    }
   },
   "source": [
    "- The Star Online: ???\n",
    "- MalaysiaKini: \n",
    "\n",
    "| News | Link | Period |\n",
    "| --- | --- | --- |\n",
    "| The Malay Mail | https://www.malaymail.com/archives | 2013/12 - 2021/02|\n",
    "\n",
    "- Backup \n",
    "    - The Sun: https://www.thesundaily.my/archive"
   ]
  },
  {
   "cell_type": "code",
   "execution_count": 1,
   "id": "adjusted-beaver",
   "metadata": {
    "ExecuteTime": {
     "end_time": "2021-02-17T03:22:04.524772Z",
     "start_time": "2021-02-17T03:21:59.790069Z"
    }
   },
   "outputs": [
    {
     "ename": "NameError",
     "evalue": "name 'requests' is not defined",
     "output_type": "error",
     "traceback": [
      "\u001b[1;31m---------------------------------------------------------------------------\u001b[0m",
      "\u001b[1;31mNameError\u001b[0m                                 Traceback (most recent call last)",
      "\u001b[1;32m<ipython-input-1-b1fa11ad7cb8>\u001b[0m in \u001b[0;36m<module>\u001b[1;34m\u001b[0m\n\u001b[0;32m      1\u001b[0m \u001b[0murl\u001b[0m \u001b[1;33m=\u001b[0m \u001b[1;34m'https://www.malaymail.com/news/malaysia/2013?page=1'\u001b[0m\u001b[1;33m\u001b[0m\u001b[1;33m\u001b[0m\u001b[0m\n\u001b[1;32m----> 2\u001b[1;33m \u001b[0mpage\u001b[0m \u001b[1;33m=\u001b[0m \u001b[0mrequests\u001b[0m\u001b[1;33m.\u001b[0m\u001b[0mget\u001b[0m\u001b[1;33m(\u001b[0m\u001b[0murl\u001b[0m\u001b[1;33m)\u001b[0m\u001b[1;33m\u001b[0m\u001b[1;33m\u001b[0m\u001b[0m\n\u001b[0m\u001b[0;32m      3\u001b[0m \u001b[0msoup\u001b[0m \u001b[1;33m=\u001b[0m \u001b[0mBeautifulSoup\u001b[0m\u001b[1;33m(\u001b[0m\u001b[0mpage\u001b[0m\u001b[1;33m.\u001b[0m\u001b[0mcontent\u001b[0m\u001b[1;33m,\u001b[0m \u001b[1;34m'lxml'\u001b[0m\u001b[1;33m)\u001b[0m\u001b[1;33m\u001b[0m\u001b[1;33m\u001b[0m\u001b[0m\n",
      "\u001b[1;31mNameError\u001b[0m: name 'requests' is not defined"
     ]
    }
   ],
   "source": [
    "url = 'https://www.malaymail.com/news/malaysia/2013?page=1'\n",
    "page = requests.get(url)\n",
    "soup = BeautifulSoup(page.content, 'lxml')"
   ]
  },
  {
   "cell_type": "code",
   "execution_count": 29,
   "id": "disturbed-upgrade",
   "metadata": {
    "ExecuteTime": {
     "end_time": "2021-02-17T03:27:17.641067Z",
     "start_time": "2021-02-17T03:27:17.632068Z"
    }
   },
   "outputs": [],
   "source": [
    "titles_links = []\n",
    "\n",
    "for a in soup.find_all('a', class_='py-2 d-block'):\n",
    "    titles_links.append([a.text, a['href']])"
   ]
  },
  {
   "cell_type": "code",
   "execution_count": 37,
   "id": "assured-presentation",
   "metadata": {
    "ExecuteTime": {
     "end_time": "2021-02-17T03:45:45.130409Z",
     "start_time": "2021-02-17T03:45:45.125409Z"
    }
   },
   "outputs": [
    {
     "data": {
      "text/plain": [
       "[['SPAD yet to approve new fare and surcharge on school bus',\n",
       "  'https://www.malaymail.com/news/malaysia/2013/12/31/spad-yet-to-approve-new-fare-and-surcharge-on-school-bus/590609'],\n",
       " ['Government to monitor effect of rising cost of living, says Muhyiddin',\n",
       "  'https://www.malaymail.com/news/malaysia/2013/12/31/government-to-monitor-effect-of-rising-cost-of-living-says-muhyiddin/590607'],\n",
       " ['Government yet to issue directive on toll rate hike',\n",
       "  'https://www.malaymail.com/news/malaysia/2013/12/31/government-yet-to-issue-directive-on-toll-rate-hike/590603']]"
      ]
     },
     "execution_count": 37,
     "metadata": {},
     "output_type": "execute_result"
    }
   ],
   "source": [
    "titles_links[:3]"
   ]
  },
  {
   "cell_type": "code",
   "execution_count": 32,
   "id": "powerful-waste",
   "metadata": {
    "ExecuteTime": {
     "end_time": "2021-02-17T03:31:01.447221Z",
     "start_time": "2021-02-17T03:31:01.442224Z"
    }
   },
   "outputs": [
    {
     "data": {
      "text/plain": [
       "50"
      ]
     },
     "execution_count": 32,
     "metadata": {},
     "output_type": "execute_result"
    }
   ],
   "source": [
    "len(titles_links)"
   ]
  },
  {
   "cell_type": "markdown",
   "id": "virgin-marks",
   "metadata": {},
   "source": [
    "- What's the number of news per month?\n",
    "    - 2018/01 The Malay Mail \n",
    "    - 32 pages$*$50 news per page = 1600 news\n",
    "    - So news for a year will be 1600$*$12 = 19200 news\n"
   ]
  },
  {
   "cell_type": "markdown",
   "id": "novel-peter",
   "metadata": {
    "tags": [],
    "toc-hr-collapsed": true
   },
   "source": [
    "# Scrape News Articles"
   ]
  },
  {
   "cell_type": "code",
   "execution_count": 33,
   "id": "qualified-status",
   "metadata": {
    "ExecuteTime": {
     "end_time": "2021-02-17T03:43:38.174967Z",
     "start_time": "2021-02-17T03:43:36.208436Z"
    }
   },
   "outputs": [],
   "source": [
    "url = 'https://www.malaymail.com/news/malaysia/2013/12/31/spad-yet-to-approve-new-fare-and-surcharge-on-school-bus/590609'\n",
    "page = requests.get(url)\n",
    "soup = BeautifulSoup(page.content, 'lxml')"
   ]
  },
  {
   "cell_type": "code",
   "execution_count": 48,
   "id": "southern-thought",
   "metadata": {
    "ExecuteTime": {
     "end_time": "2021-02-17T03:50:15.530720Z",
     "start_time": "2021-02-17T03:50:15.522684Z"
    }
   },
   "outputs": [
    {
     "name": "stdout",
     "output_type": "stream",
     "text": [
      "\n",
      "\n",
      "Subscribe to our Telegram channel for the latest updates on news you need to know.\n",
      "KUALA LUMPUR, Dec 31 — The Land Public Transport Commission (SPAD) has not approved any new fare and surcharge on school buses as quoted in certain news dailies recently.\n",
      "The commission, in its statement today, explained that consent had been reached with representatives from The School Bus Associations of Malaysia (PPPBSM) and the Malaysian Federation of School Bus Operators (GPBSM) that there would be no surchange or price hikes in school bus fares until SPAD announced the new school bus fare scheme in March 2014. \n",
      "“Currently SPAD is finalising the new school bus fare scheme while taking into account three significant elements.\n",
      "“Therefore, all operators should maintain the current school bus fare structure as approved by the Commercial Vehicle Licensing Board in August 2009,” the statement said.\n",
      "According to the statement, the three elements included conducting engagement sessions with parents/ school associations and looking into the new scheme to supplement income of school bus drivers.\n",
      "SPAD was also examining the possibility of using market forces to transform the school bus industry which would promote healthy competition amongst operators in terms of fare pricing as well as better level of service while moving towards improved self-regulation, the statement said. \n",
      "“It is crucial these three elements are studied carefully so that any government decision will not burden the parents whilst at the same time ensure the viability of the school bus industry in providing quality services,” according to the statement. — Bernama\n"
     ]
    }
   ],
   "source": [
    "for p in soup.find_all('article')[0].find_all('p'):\n",
    "    print(p.text)"
   ]
  },
  {
   "cell_type": "markdown",
   "id": "66886954-1794-43ba-9c43-f8e956dccfa9",
   "metadata": {
    "tags": []
   },
   "source": [
    "# Malay Mail"
   ]
  },
  {
   "cell_type": "markdown",
   "id": "5a347c7d-6c81-4978-a1f9-24e0a66f9100",
   "metadata": {},
   "source": [
    "| Section | Link | Period | Pages | Remark | \n",
    "| -- | -- | -- | -- | -- |\n",
    "| Opinion | [link](https://www.malaymail.com/news/opinion/2013/06) | 2013-06-30 - Present | ?? | Mixed languages | \n",
    "\n",
    "- Last update: 20 June 2021"
   ]
  },
  {
   "cell_type": "code",
   "execution_count": 2,
   "id": "c989ef3a-62e9-4ce4-9101-137964548acc",
   "metadata": {},
   "outputs": [],
   "source": [
    "from selenium import webdriver\n",
    "from selenium.webdriver import ActionChains\n",
    "from selenium.webdriver.common.by import By\n",
    "from selenium.webdriver.common.keys import Keys\n",
    "from selenium.webdriver.support import expected_conditions as EC\n",
    "from selenium.webdriver.support.ui import Select, WebDriverWait\n",
    "\n",
    "import time"
   ]
  },
  {
   "cell_type": "code",
   "execution_count": 3,
   "id": "acb03834-3dc2-4b8e-9d42-8cff2b10aaa1",
   "metadata": {},
   "outputs": [],
   "source": [
    "# Static version \n",
    "from bs4 import BeautifulSoup\n",
    "import requests\n",
    "\n",
    "# Scrape titles and links \n",
    "url = 'https://www.malaymail.com/news/opinion/2013/06'\n",
    "page = requests.get(url)\n",
    "soup = BeautifulSoup(page.content, 'lxml')\n",
    "\n",
    "titles_links = []\n",
    "\n",
    "for a in soup.find_all('a', class_='py-2 d-block'):\n",
    "    titles_links.append([a.text, a['href']])\n",
    "    \n",
    "# Scrape article's text \n",
    "url = 'https://www.malaymail.com/news/opinion/2013/06/30/syabas-zahid-kpn-baru/488729'\n",
    "page = requests.get(url)\n",
    "soup = BeautifulSoup(page.content, 'lxml')\n",
    "\n",
    "for p in soup.find_all('article')[0].find_all('p'):\n",
    "    print(p.text)"
   ]
  },
  {
   "cell_type": "markdown",
   "id": "a9530f7e-d050-47e5-af90-38b156c82d51",
   "metadata": {
    "tags": [],
    "toc-hr-collapsed": true
   },
   "source": [
    "## Scrape titles and links"
   ]
  },
  {
   "cell_type": "code",
   "execution_count": 2,
   "id": "72eea017-2f81-4023-825a-08aa3f325600",
   "metadata": {},
   "outputs": [],
   "source": [
    "driver = webdriver.Chrome()"
   ]
  },
  {
   "cell_type": "code",
   "execution_count": 3,
   "id": "09639416-cd04-41c5-bdbe-a8d7df3191f9",
   "metadata": {},
   "outputs": [],
   "source": [
    "driver.get('https://www.malaymail.com/news/malaysia/2017')\n",
    "# set wait until the page loaded"
   ]
  },
  {
   "cell_type": "code",
   "execution_count": 4,
   "id": "7c55e268-cd85-4064-aee5-7ceb61dfe45a",
   "metadata": {
    "tags": []
   },
   "outputs": [],
   "source": [
    "# Click the consent button for collection of personal data\n",
    "# driver.find_elements_by_class_name(\"fc-button fc-cta-consent fc-primary-button\")\n",
    "# selenium seems not able to find button tag with class, use xpath instead \n",
    "# https://sqa.stackexchange.com/questions/45303/find-button-class-with-selenium-on-python \n",
    "\n",
    "consent_button = driver.find_element_by_xpath(\"//button[@class='fc-button fc-cta-consent fc-primary-button']\")\n",
    "ActionChains(driver).click(consent_button).perform()"
   ]
  },
  {
   "cell_type": "code",
   "execution_count": 5,
   "id": "c706b3c1-80da-4c44-9bae-b19eff1a6381",
   "metadata": {},
   "outputs": [
    {
     "name": "stdout",
     "output_type": "stream",
     "text": [
      "['2013', '2014', '2015', '2016', '2017']\n",
      "['January', 'February', 'March', 'April', 'May']\n"
     ]
    }
   ],
   "source": [
    "# Get available years and months \n",
    "year_menu = Select(driver.find_element_by_id('inputYear'))\n",
    "options = year_menu.options # get all available options \n",
    "years_options = [option.text for option in options]\n",
    "print(years_options[0:5])\n",
    "\n",
    "month_menu = Select(driver.find_element_by_id('inputMonth'))\n",
    "options = month_menu.options # get all available options \n",
    "month_options = [option.text for option in options]\n",
    "month_options.remove('All')\n",
    "print(month_options[0:5])\n",
    "# Note that 'all' is an option for month"
   ]
  },
  {
   "cell_type": "code",
   "execution_count": 8,
   "id": "bdfc04a0-65f8-470c-bdd1-a907b7160ac3",
   "metadata": {
    "tags": []
   },
   "outputs": [],
   "source": [
    "# To check if an element exists\n",
    "# https://stackoverflow.com/questions/9567069/checking-if-element-exists-with-python-selenium\n",
    "        \n",
    "def check_exists_by_xpath(xpath, timeout=15):\n",
    "    '''Return a boolean that indicates the presence of an element given a xpath.'''\n",
    "    try:\n",
    "        WebDriverWait(driver, timeout=timeout).until(\n",
    "            EC.presence_of_element_located((By.XPATH, xpath)))\n",
    "    except:\n",
    "        return False\n",
    "    return True"
   ]
  },
  {
   "cell_type": "code",
   "execution_count": 9,
   "id": "4dce1363-2236-4cef-bfa0-74c8b227d490",
   "metadata": {},
   "outputs": [],
   "source": [
    "def scrape_titles_links(year_month):\n",
    "    # Collect titles and urls of articles\n",
    "    titles_links = []\n",
    "    \n",
    "    try:\n",
    "        articles = WebDriverWait(driver, timeout=10).until(\n",
    "            EC.presence_of_all_elements_located((By.XPATH, \"//a[@class='py-2 d-block']\"))\n",
    "        ) # make sure all elements are loaded\n",
    "\n",
    "        for a in articles:\n",
    "            title = a.text\n",
    "            link = a.get_attribute('href')\n",
    "            titles_links.append([year_month, title, link])\n",
    "    \n",
    "    except: \n",
    "        # Pass if no articles were found\n",
    "        if driver.find_element_by_xpath(\"//div[@class='alert alert-warning']/p\").text == 'No articles found.':\n",
    "            print('No articles found.')\n",
    "\n",
    "    return titles_links "
   ]
  },
  {
   "cell_type": "code",
   "execution_count": 12,
   "id": "a50bbd91-0980-42e2-90e5-8053350ba09f",
   "metadata": {},
   "outputs": [
    {
     "name": "stdout",
     "output_type": "stream",
     "text": [
      "advertisement\n",
      "done step1\n",
      "ad 1 done\n"
     ]
    },
    {
     "ename": "KeyboardInterrupt",
     "evalue": "",
     "output_type": "error",
     "traceback": [
      "\u001b[1;31m---------------------------------------------------------------------------\u001b[0m",
      "\u001b[1;31mKeyboardInterrupt\u001b[0m                         Traceback (most recent call last)",
      "\u001b[1;32m<ipython-input-12-00be4a9b0b94>\u001b[0m in \u001b[0;36m<module>\u001b[1;34m\u001b[0m\n\u001b[0;32m     29\u001b[0m             \u001b[0maction\u001b[0m \u001b[1;33m=\u001b[0m \u001b[0mActionChains\u001b[0m\u001b[1;33m(\u001b[0m\u001b[0mdriver\u001b[0m\u001b[1;33m)\u001b[0m\u001b[1;33m\u001b[0m\u001b[1;33m\u001b[0m\u001b[0m\n\u001b[0;32m     30\u001b[0m             \u001b[0maction\u001b[0m\u001b[1;33m.\u001b[0m\u001b[0mclick\u001b[0m\u001b[1;33m(\u001b[0m\u001b[0mnext_button\u001b[0m\u001b[1;33m)\u001b[0m\u001b[1;33m\u001b[0m\u001b[1;33m\u001b[0m\u001b[0m\n\u001b[1;32m---> 31\u001b[1;33m             \u001b[0maction\u001b[0m\u001b[1;33m.\u001b[0m\u001b[0mperform\u001b[0m\u001b[1;33m(\u001b[0m\u001b[1;33m)\u001b[0m\u001b[1;33m\u001b[0m\u001b[1;33m\u001b[0m\u001b[0m\n\u001b[0m\u001b[0;32m     32\u001b[0m \u001b[1;33m\u001b[0m\u001b[0m\n\u001b[0;32m     33\u001b[0m             \u001b[1;31m# Navigate to the advertisement iframe if present\u001b[0m\u001b[1;33m\u001b[0m\u001b[1;33m\u001b[0m\u001b[1;33m\u001b[0m\u001b[0m\n",
      "\u001b[1;32mD:\\Anaconda\\lib\\site-packages\\selenium\\webdriver\\common\\action_chains.py\u001b[0m in \u001b[0;36mperform\u001b[1;34m(self)\u001b[0m\n\u001b[0;32m     78\u001b[0m         \"\"\"\n\u001b[0;32m     79\u001b[0m         \u001b[1;32mif\u001b[0m \u001b[0mself\u001b[0m\u001b[1;33m.\u001b[0m\u001b[0m_driver\u001b[0m\u001b[1;33m.\u001b[0m\u001b[0mw3c\u001b[0m\u001b[1;33m:\u001b[0m\u001b[1;33m\u001b[0m\u001b[1;33m\u001b[0m\u001b[0m\n\u001b[1;32m---> 80\u001b[1;33m             \u001b[0mself\u001b[0m\u001b[1;33m.\u001b[0m\u001b[0mw3c_actions\u001b[0m\u001b[1;33m.\u001b[0m\u001b[0mperform\u001b[0m\u001b[1;33m(\u001b[0m\u001b[1;33m)\u001b[0m\u001b[1;33m\u001b[0m\u001b[1;33m\u001b[0m\u001b[0m\n\u001b[0m\u001b[0;32m     81\u001b[0m         \u001b[1;32melse\u001b[0m\u001b[1;33m:\u001b[0m\u001b[1;33m\u001b[0m\u001b[1;33m\u001b[0m\u001b[0m\n\u001b[0;32m     82\u001b[0m             \u001b[1;32mfor\u001b[0m \u001b[0maction\u001b[0m \u001b[1;32min\u001b[0m \u001b[0mself\u001b[0m\u001b[1;33m.\u001b[0m\u001b[0m_actions\u001b[0m\u001b[1;33m:\u001b[0m\u001b[1;33m\u001b[0m\u001b[1;33m\u001b[0m\u001b[0m\n",
      "\u001b[1;32mD:\\Anaconda\\lib\\site-packages\\selenium\\webdriver\\common\\actions\\action_builder.py\u001b[0m in \u001b[0;36mperform\u001b[1;34m(self)\u001b[0m\n\u001b[0;32m     74\u001b[0m             \u001b[1;32mif\u001b[0m \u001b[0mencoded\u001b[0m\u001b[1;33m[\u001b[0m\u001b[1;34m'actions'\u001b[0m\u001b[1;33m]\u001b[0m\u001b[1;33m:\u001b[0m\u001b[1;33m\u001b[0m\u001b[1;33m\u001b[0m\u001b[0m\n\u001b[0;32m     75\u001b[0m                 \u001b[0menc\u001b[0m\u001b[1;33m[\u001b[0m\u001b[1;34m\"actions\"\u001b[0m\u001b[1;33m]\u001b[0m\u001b[1;33m.\u001b[0m\u001b[0mappend\u001b[0m\u001b[1;33m(\u001b[0m\u001b[0mencoded\u001b[0m\u001b[1;33m)\u001b[0m\u001b[1;33m\u001b[0m\u001b[1;33m\u001b[0m\u001b[0m\n\u001b[1;32m---> 76\u001b[1;33m         \u001b[0mself\u001b[0m\u001b[1;33m.\u001b[0m\u001b[0mdriver\u001b[0m\u001b[1;33m.\u001b[0m\u001b[0mexecute\u001b[0m\u001b[1;33m(\u001b[0m\u001b[0mCommand\u001b[0m\u001b[1;33m.\u001b[0m\u001b[0mW3C_ACTIONS\u001b[0m\u001b[1;33m,\u001b[0m \u001b[0menc\u001b[0m\u001b[1;33m)\u001b[0m\u001b[1;33m\u001b[0m\u001b[1;33m\u001b[0m\u001b[0m\n\u001b[0m\u001b[0;32m     77\u001b[0m \u001b[1;33m\u001b[0m\u001b[0m\n\u001b[0;32m     78\u001b[0m     \u001b[1;32mdef\u001b[0m \u001b[0mclear_actions\u001b[0m\u001b[1;33m(\u001b[0m\u001b[0mself\u001b[0m\u001b[1;33m)\u001b[0m\u001b[1;33m:\u001b[0m\u001b[1;33m\u001b[0m\u001b[1;33m\u001b[0m\u001b[0m\n",
      "\u001b[1;32mD:\\Anaconda\\lib\\site-packages\\selenium\\webdriver\\remote\\webdriver.py\u001b[0m in \u001b[0;36mexecute\u001b[1;34m(self, driver_command, params)\u001b[0m\n\u001b[0;32m    317\u001b[0m \u001b[1;33m\u001b[0m\u001b[0m\n\u001b[0;32m    318\u001b[0m         \u001b[0mparams\u001b[0m \u001b[1;33m=\u001b[0m \u001b[0mself\u001b[0m\u001b[1;33m.\u001b[0m\u001b[0m_wrap_value\u001b[0m\u001b[1;33m(\u001b[0m\u001b[0mparams\u001b[0m\u001b[1;33m)\u001b[0m\u001b[1;33m\u001b[0m\u001b[1;33m\u001b[0m\u001b[0m\n\u001b[1;32m--> 319\u001b[1;33m         \u001b[0mresponse\u001b[0m \u001b[1;33m=\u001b[0m \u001b[0mself\u001b[0m\u001b[1;33m.\u001b[0m\u001b[0mcommand_executor\u001b[0m\u001b[1;33m.\u001b[0m\u001b[0mexecute\u001b[0m\u001b[1;33m(\u001b[0m\u001b[0mdriver_command\u001b[0m\u001b[1;33m,\u001b[0m \u001b[0mparams\u001b[0m\u001b[1;33m)\u001b[0m\u001b[1;33m\u001b[0m\u001b[1;33m\u001b[0m\u001b[0m\n\u001b[0m\u001b[0;32m    320\u001b[0m         \u001b[1;32mif\u001b[0m \u001b[0mresponse\u001b[0m\u001b[1;33m:\u001b[0m\u001b[1;33m\u001b[0m\u001b[1;33m\u001b[0m\u001b[0m\n\u001b[0;32m    321\u001b[0m             \u001b[0mself\u001b[0m\u001b[1;33m.\u001b[0m\u001b[0merror_handler\u001b[0m\u001b[1;33m.\u001b[0m\u001b[0mcheck_response\u001b[0m\u001b[1;33m(\u001b[0m\u001b[0mresponse\u001b[0m\u001b[1;33m)\u001b[0m\u001b[1;33m\u001b[0m\u001b[1;33m\u001b[0m\u001b[0m\n",
      "\u001b[1;32mD:\\Anaconda\\lib\\site-packages\\selenium\\webdriver\\remote\\remote_connection.py\u001b[0m in \u001b[0;36mexecute\u001b[1;34m(self, command, params)\u001b[0m\n\u001b[0;32m    372\u001b[0m         \u001b[0mdata\u001b[0m \u001b[1;33m=\u001b[0m \u001b[0mutils\u001b[0m\u001b[1;33m.\u001b[0m\u001b[0mdump_json\u001b[0m\u001b[1;33m(\u001b[0m\u001b[0mparams\u001b[0m\u001b[1;33m)\u001b[0m\u001b[1;33m\u001b[0m\u001b[1;33m\u001b[0m\u001b[0m\n\u001b[0;32m    373\u001b[0m         \u001b[0murl\u001b[0m \u001b[1;33m=\u001b[0m \u001b[1;34m'%s%s'\u001b[0m \u001b[1;33m%\u001b[0m \u001b[1;33m(\u001b[0m\u001b[0mself\u001b[0m\u001b[1;33m.\u001b[0m\u001b[0m_url\u001b[0m\u001b[1;33m,\u001b[0m \u001b[0mpath\u001b[0m\u001b[1;33m)\u001b[0m\u001b[1;33m\u001b[0m\u001b[1;33m\u001b[0m\u001b[0m\n\u001b[1;32m--> 374\u001b[1;33m         \u001b[1;32mreturn\u001b[0m \u001b[0mself\u001b[0m\u001b[1;33m.\u001b[0m\u001b[0m_request\u001b[0m\u001b[1;33m(\u001b[0m\u001b[0mcommand_info\u001b[0m\u001b[1;33m[\u001b[0m\u001b[1;36m0\u001b[0m\u001b[1;33m]\u001b[0m\u001b[1;33m,\u001b[0m \u001b[0murl\u001b[0m\u001b[1;33m,\u001b[0m \u001b[0mbody\u001b[0m\u001b[1;33m=\u001b[0m\u001b[0mdata\u001b[0m\u001b[1;33m)\u001b[0m\u001b[1;33m\u001b[0m\u001b[1;33m\u001b[0m\u001b[0m\n\u001b[0m\u001b[0;32m    375\u001b[0m \u001b[1;33m\u001b[0m\u001b[0m\n\u001b[0;32m    376\u001b[0m     \u001b[1;32mdef\u001b[0m \u001b[0m_request\u001b[0m\u001b[1;33m(\u001b[0m\u001b[0mself\u001b[0m\u001b[1;33m,\u001b[0m \u001b[0mmethod\u001b[0m\u001b[1;33m,\u001b[0m \u001b[0murl\u001b[0m\u001b[1;33m,\u001b[0m \u001b[0mbody\u001b[0m\u001b[1;33m=\u001b[0m\u001b[1;32mNone\u001b[0m\u001b[1;33m)\u001b[0m\u001b[1;33m:\u001b[0m\u001b[1;33m\u001b[0m\u001b[1;33m\u001b[0m\u001b[0m\n",
      "\u001b[1;32mD:\\Anaconda\\lib\\site-packages\\selenium\\webdriver\\remote\\remote_connection.py\u001b[0m in \u001b[0;36m_request\u001b[1;34m(self, method, url, body)\u001b[0m\n\u001b[0;32m    395\u001b[0m \u001b[1;33m\u001b[0m\u001b[0m\n\u001b[0;32m    396\u001b[0m         \u001b[1;32mif\u001b[0m \u001b[0mself\u001b[0m\u001b[1;33m.\u001b[0m\u001b[0mkeep_alive\u001b[0m\u001b[1;33m:\u001b[0m\u001b[1;33m\u001b[0m\u001b[1;33m\u001b[0m\u001b[0m\n\u001b[1;32m--> 397\u001b[1;33m             \u001b[0mresp\u001b[0m \u001b[1;33m=\u001b[0m \u001b[0mself\u001b[0m\u001b[1;33m.\u001b[0m\u001b[0m_conn\u001b[0m\u001b[1;33m.\u001b[0m\u001b[0mrequest\u001b[0m\u001b[1;33m(\u001b[0m\u001b[0mmethod\u001b[0m\u001b[1;33m,\u001b[0m \u001b[0murl\u001b[0m\u001b[1;33m,\u001b[0m \u001b[0mbody\u001b[0m\u001b[1;33m=\u001b[0m\u001b[0mbody\u001b[0m\u001b[1;33m,\u001b[0m \u001b[0mheaders\u001b[0m\u001b[1;33m=\u001b[0m\u001b[0mheaders\u001b[0m\u001b[1;33m)\u001b[0m\u001b[1;33m\u001b[0m\u001b[1;33m\u001b[0m\u001b[0m\n\u001b[0m\u001b[0;32m    398\u001b[0m \u001b[1;33m\u001b[0m\u001b[0m\n\u001b[0;32m    399\u001b[0m             \u001b[0mstatuscode\u001b[0m \u001b[1;33m=\u001b[0m \u001b[0mresp\u001b[0m\u001b[1;33m.\u001b[0m\u001b[0mstatus\u001b[0m\u001b[1;33m\u001b[0m\u001b[1;33m\u001b[0m\u001b[0m\n",
      "\u001b[1;32mD:\\Anaconda\\lib\\site-packages\\urllib3\\request.py\u001b[0m in \u001b[0;36mrequest\u001b[1;34m(self, method, url, fields, headers, **urlopen_kw)\u001b[0m\n\u001b[0;32m     76\u001b[0m             )\n\u001b[0;32m     77\u001b[0m         \u001b[1;32melse\u001b[0m\u001b[1;33m:\u001b[0m\u001b[1;33m\u001b[0m\u001b[1;33m\u001b[0m\u001b[0m\n\u001b[1;32m---> 78\u001b[1;33m             return self.request_encode_body(\n\u001b[0m\u001b[0;32m     79\u001b[0m                 \u001b[0mmethod\u001b[0m\u001b[1;33m,\u001b[0m \u001b[0murl\u001b[0m\u001b[1;33m,\u001b[0m \u001b[0mfields\u001b[0m\u001b[1;33m=\u001b[0m\u001b[0mfields\u001b[0m\u001b[1;33m,\u001b[0m \u001b[0mheaders\u001b[0m\u001b[1;33m=\u001b[0m\u001b[0mheaders\u001b[0m\u001b[1;33m,\u001b[0m \u001b[1;33m**\u001b[0m\u001b[0murlopen_kw\u001b[0m\u001b[1;33m\u001b[0m\u001b[1;33m\u001b[0m\u001b[0m\n\u001b[0;32m     80\u001b[0m             )\n",
      "\u001b[1;32mD:\\Anaconda\\lib\\site-packages\\urllib3\\request.py\u001b[0m in \u001b[0;36mrequest_encode_body\u001b[1;34m(self, method, url, fields, headers, encode_multipart, multipart_boundary, **urlopen_kw)\u001b[0m\n\u001b[0;32m    168\u001b[0m         \u001b[0mextra_kw\u001b[0m\u001b[1;33m.\u001b[0m\u001b[0mupdate\u001b[0m\u001b[1;33m(\u001b[0m\u001b[0murlopen_kw\u001b[0m\u001b[1;33m)\u001b[0m\u001b[1;33m\u001b[0m\u001b[1;33m\u001b[0m\u001b[0m\n\u001b[0;32m    169\u001b[0m \u001b[1;33m\u001b[0m\u001b[0m\n\u001b[1;32m--> 170\u001b[1;33m         \u001b[1;32mreturn\u001b[0m \u001b[0mself\u001b[0m\u001b[1;33m.\u001b[0m\u001b[0murlopen\u001b[0m\u001b[1;33m(\u001b[0m\u001b[0mmethod\u001b[0m\u001b[1;33m,\u001b[0m \u001b[0murl\u001b[0m\u001b[1;33m,\u001b[0m \u001b[1;33m**\u001b[0m\u001b[0mextra_kw\u001b[0m\u001b[1;33m)\u001b[0m\u001b[1;33m\u001b[0m\u001b[1;33m\u001b[0m\u001b[0m\n\u001b[0m",
      "\u001b[1;32mD:\\Anaconda\\lib\\site-packages\\urllib3\\poolmanager.py\u001b[0m in \u001b[0;36murlopen\u001b[1;34m(self, method, url, redirect, **kw)\u001b[0m\n\u001b[0;32m    373\u001b[0m             \u001b[0mresponse\u001b[0m \u001b[1;33m=\u001b[0m \u001b[0mconn\u001b[0m\u001b[1;33m.\u001b[0m\u001b[0murlopen\u001b[0m\u001b[1;33m(\u001b[0m\u001b[0mmethod\u001b[0m\u001b[1;33m,\u001b[0m \u001b[0murl\u001b[0m\u001b[1;33m,\u001b[0m \u001b[1;33m**\u001b[0m\u001b[0mkw\u001b[0m\u001b[1;33m)\u001b[0m\u001b[1;33m\u001b[0m\u001b[1;33m\u001b[0m\u001b[0m\n\u001b[0;32m    374\u001b[0m         \u001b[1;32melse\u001b[0m\u001b[1;33m:\u001b[0m\u001b[1;33m\u001b[0m\u001b[1;33m\u001b[0m\u001b[0m\n\u001b[1;32m--> 375\u001b[1;33m             \u001b[0mresponse\u001b[0m \u001b[1;33m=\u001b[0m \u001b[0mconn\u001b[0m\u001b[1;33m.\u001b[0m\u001b[0murlopen\u001b[0m\u001b[1;33m(\u001b[0m\u001b[0mmethod\u001b[0m\u001b[1;33m,\u001b[0m \u001b[0mu\u001b[0m\u001b[1;33m.\u001b[0m\u001b[0mrequest_uri\u001b[0m\u001b[1;33m,\u001b[0m \u001b[1;33m**\u001b[0m\u001b[0mkw\u001b[0m\u001b[1;33m)\u001b[0m\u001b[1;33m\u001b[0m\u001b[1;33m\u001b[0m\u001b[0m\n\u001b[0m\u001b[0;32m    376\u001b[0m \u001b[1;33m\u001b[0m\u001b[0m\n\u001b[0;32m    377\u001b[0m         \u001b[0mredirect_location\u001b[0m \u001b[1;33m=\u001b[0m \u001b[0mredirect\u001b[0m \u001b[1;32mand\u001b[0m \u001b[0mresponse\u001b[0m\u001b[1;33m.\u001b[0m\u001b[0mget_redirect_location\u001b[0m\u001b[1;33m(\u001b[0m\u001b[1;33m)\u001b[0m\u001b[1;33m\u001b[0m\u001b[1;33m\u001b[0m\u001b[0m\n",
      "\u001b[1;32mD:\\Anaconda\\lib\\site-packages\\urllib3\\connectionpool.py\u001b[0m in \u001b[0;36murlopen\u001b[1;34m(self, method, url, body, headers, retries, redirect, assert_same_host, timeout, pool_timeout, release_conn, chunked, body_pos, **response_kw)\u001b[0m\n\u001b[0;32m    697\u001b[0m \u001b[1;33m\u001b[0m\u001b[0m\n\u001b[0;32m    698\u001b[0m             \u001b[1;31m# Make the request on the httplib connection object.\u001b[0m\u001b[1;33m\u001b[0m\u001b[1;33m\u001b[0m\u001b[1;33m\u001b[0m\u001b[0m\n\u001b[1;32m--> 699\u001b[1;33m             httplib_response = self._make_request(\n\u001b[0m\u001b[0;32m    700\u001b[0m                 \u001b[0mconn\u001b[0m\u001b[1;33m,\u001b[0m\u001b[1;33m\u001b[0m\u001b[1;33m\u001b[0m\u001b[0m\n\u001b[0;32m    701\u001b[0m                 \u001b[0mmethod\u001b[0m\u001b[1;33m,\u001b[0m\u001b[1;33m\u001b[0m\u001b[1;33m\u001b[0m\u001b[0m\n",
      "\u001b[1;32mD:\\Anaconda\\lib\\site-packages\\urllib3\\connectionpool.py\u001b[0m in \u001b[0;36m_make_request\u001b[1;34m(self, conn, method, url, timeout, chunked, **httplib_request_kw)\u001b[0m\n\u001b[0;32m    443\u001b[0m                     \u001b[1;31m# Python 3 (including for exceptions like SystemExit).\u001b[0m\u001b[1;33m\u001b[0m\u001b[1;33m\u001b[0m\u001b[1;33m\u001b[0m\u001b[0m\n\u001b[0;32m    444\u001b[0m                     \u001b[1;31m# Otherwise it looks like a bug in the code.\u001b[0m\u001b[1;33m\u001b[0m\u001b[1;33m\u001b[0m\u001b[1;33m\u001b[0m\u001b[0m\n\u001b[1;32m--> 445\u001b[1;33m                     \u001b[0msix\u001b[0m\u001b[1;33m.\u001b[0m\u001b[0mraise_from\u001b[0m\u001b[1;33m(\u001b[0m\u001b[0me\u001b[0m\u001b[1;33m,\u001b[0m \u001b[1;32mNone\u001b[0m\u001b[1;33m)\u001b[0m\u001b[1;33m\u001b[0m\u001b[1;33m\u001b[0m\u001b[0m\n\u001b[0m\u001b[0;32m    446\u001b[0m         \u001b[1;32mexcept\u001b[0m \u001b[1;33m(\u001b[0m\u001b[0mSocketTimeout\u001b[0m\u001b[1;33m,\u001b[0m \u001b[0mBaseSSLError\u001b[0m\u001b[1;33m,\u001b[0m \u001b[0mSocketError\u001b[0m\u001b[1;33m)\u001b[0m \u001b[1;32mas\u001b[0m \u001b[0me\u001b[0m\u001b[1;33m:\u001b[0m\u001b[1;33m\u001b[0m\u001b[1;33m\u001b[0m\u001b[0m\n\u001b[0;32m    447\u001b[0m             \u001b[0mself\u001b[0m\u001b[1;33m.\u001b[0m\u001b[0m_raise_timeout\u001b[0m\u001b[1;33m(\u001b[0m\u001b[0merr\u001b[0m\u001b[1;33m=\u001b[0m\u001b[0me\u001b[0m\u001b[1;33m,\u001b[0m \u001b[0murl\u001b[0m\u001b[1;33m=\u001b[0m\u001b[0murl\u001b[0m\u001b[1;33m,\u001b[0m \u001b[0mtimeout_value\u001b[0m\u001b[1;33m=\u001b[0m\u001b[0mread_timeout\u001b[0m\u001b[1;33m)\u001b[0m\u001b[1;33m\u001b[0m\u001b[1;33m\u001b[0m\u001b[0m\n",
      "\u001b[1;32mD:\\Anaconda\\lib\\site-packages\\urllib3\\packages\\six.py\u001b[0m in \u001b[0;36mraise_from\u001b[1;34m(value, from_value)\u001b[0m\n",
      "\u001b[1;32mD:\\Anaconda\\lib\\site-packages\\urllib3\\connectionpool.py\u001b[0m in \u001b[0;36m_make_request\u001b[1;34m(self, conn, method, url, timeout, chunked, **httplib_request_kw)\u001b[0m\n\u001b[0;32m    438\u001b[0m                 \u001b[1;31m# Python 3\u001b[0m\u001b[1;33m\u001b[0m\u001b[1;33m\u001b[0m\u001b[1;33m\u001b[0m\u001b[0m\n\u001b[0;32m    439\u001b[0m                 \u001b[1;32mtry\u001b[0m\u001b[1;33m:\u001b[0m\u001b[1;33m\u001b[0m\u001b[1;33m\u001b[0m\u001b[0m\n\u001b[1;32m--> 440\u001b[1;33m                     \u001b[0mhttplib_response\u001b[0m \u001b[1;33m=\u001b[0m \u001b[0mconn\u001b[0m\u001b[1;33m.\u001b[0m\u001b[0mgetresponse\u001b[0m\u001b[1;33m(\u001b[0m\u001b[1;33m)\u001b[0m\u001b[1;33m\u001b[0m\u001b[1;33m\u001b[0m\u001b[0m\n\u001b[0m\u001b[0;32m    441\u001b[0m                 \u001b[1;32mexcept\u001b[0m \u001b[0mBaseException\u001b[0m \u001b[1;32mas\u001b[0m \u001b[0me\u001b[0m\u001b[1;33m:\u001b[0m\u001b[1;33m\u001b[0m\u001b[1;33m\u001b[0m\u001b[0m\n\u001b[0;32m    442\u001b[0m                     \u001b[1;31m# Remove the TypeError from the exception chain in\u001b[0m\u001b[1;33m\u001b[0m\u001b[1;33m\u001b[0m\u001b[1;33m\u001b[0m\u001b[0m\n",
      "\u001b[1;32mD:\\Anaconda\\lib\\http\\client.py\u001b[0m in \u001b[0;36mgetresponse\u001b[1;34m(self)\u001b[0m\n\u001b[0;32m   1345\u001b[0m         \u001b[1;32mtry\u001b[0m\u001b[1;33m:\u001b[0m\u001b[1;33m\u001b[0m\u001b[1;33m\u001b[0m\u001b[0m\n\u001b[0;32m   1346\u001b[0m             \u001b[1;32mtry\u001b[0m\u001b[1;33m:\u001b[0m\u001b[1;33m\u001b[0m\u001b[1;33m\u001b[0m\u001b[0m\n\u001b[1;32m-> 1347\u001b[1;33m                 \u001b[0mresponse\u001b[0m\u001b[1;33m.\u001b[0m\u001b[0mbegin\u001b[0m\u001b[1;33m(\u001b[0m\u001b[1;33m)\u001b[0m\u001b[1;33m\u001b[0m\u001b[1;33m\u001b[0m\u001b[0m\n\u001b[0m\u001b[0;32m   1348\u001b[0m             \u001b[1;32mexcept\u001b[0m \u001b[0mConnectionError\u001b[0m\u001b[1;33m:\u001b[0m\u001b[1;33m\u001b[0m\u001b[1;33m\u001b[0m\u001b[0m\n\u001b[0;32m   1349\u001b[0m                 \u001b[0mself\u001b[0m\u001b[1;33m.\u001b[0m\u001b[0mclose\u001b[0m\u001b[1;33m(\u001b[0m\u001b[1;33m)\u001b[0m\u001b[1;33m\u001b[0m\u001b[1;33m\u001b[0m\u001b[0m\n",
      "\u001b[1;32mD:\\Anaconda\\lib\\http\\client.py\u001b[0m in \u001b[0;36mbegin\u001b[1;34m(self)\u001b[0m\n\u001b[0;32m    305\u001b[0m         \u001b[1;31m# read until we get a non-100 response\u001b[0m\u001b[1;33m\u001b[0m\u001b[1;33m\u001b[0m\u001b[1;33m\u001b[0m\u001b[0m\n\u001b[0;32m    306\u001b[0m         \u001b[1;32mwhile\u001b[0m \u001b[1;32mTrue\u001b[0m\u001b[1;33m:\u001b[0m\u001b[1;33m\u001b[0m\u001b[1;33m\u001b[0m\u001b[0m\n\u001b[1;32m--> 307\u001b[1;33m             \u001b[0mversion\u001b[0m\u001b[1;33m,\u001b[0m \u001b[0mstatus\u001b[0m\u001b[1;33m,\u001b[0m \u001b[0mreason\u001b[0m \u001b[1;33m=\u001b[0m \u001b[0mself\u001b[0m\u001b[1;33m.\u001b[0m\u001b[0m_read_status\u001b[0m\u001b[1;33m(\u001b[0m\u001b[1;33m)\u001b[0m\u001b[1;33m\u001b[0m\u001b[1;33m\u001b[0m\u001b[0m\n\u001b[0m\u001b[0;32m    308\u001b[0m             \u001b[1;32mif\u001b[0m \u001b[0mstatus\u001b[0m \u001b[1;33m!=\u001b[0m \u001b[0mCONTINUE\u001b[0m\u001b[1;33m:\u001b[0m\u001b[1;33m\u001b[0m\u001b[1;33m\u001b[0m\u001b[0m\n\u001b[0;32m    309\u001b[0m                 \u001b[1;32mbreak\u001b[0m\u001b[1;33m\u001b[0m\u001b[1;33m\u001b[0m\u001b[0m\n",
      "\u001b[1;32mD:\\Anaconda\\lib\\http\\client.py\u001b[0m in \u001b[0;36m_read_status\u001b[1;34m(self)\u001b[0m\n\u001b[0;32m    266\u001b[0m \u001b[1;33m\u001b[0m\u001b[0m\n\u001b[0;32m    267\u001b[0m     \u001b[1;32mdef\u001b[0m \u001b[0m_read_status\u001b[0m\u001b[1;33m(\u001b[0m\u001b[0mself\u001b[0m\u001b[1;33m)\u001b[0m\u001b[1;33m:\u001b[0m\u001b[1;33m\u001b[0m\u001b[1;33m\u001b[0m\u001b[0m\n\u001b[1;32m--> 268\u001b[1;33m         \u001b[0mline\u001b[0m \u001b[1;33m=\u001b[0m \u001b[0mstr\u001b[0m\u001b[1;33m(\u001b[0m\u001b[0mself\u001b[0m\u001b[1;33m.\u001b[0m\u001b[0mfp\u001b[0m\u001b[1;33m.\u001b[0m\u001b[0mreadline\u001b[0m\u001b[1;33m(\u001b[0m\u001b[0m_MAXLINE\u001b[0m \u001b[1;33m+\u001b[0m \u001b[1;36m1\u001b[0m\u001b[1;33m)\u001b[0m\u001b[1;33m,\u001b[0m \u001b[1;34m\"iso-8859-1\"\u001b[0m\u001b[1;33m)\u001b[0m\u001b[1;33m\u001b[0m\u001b[1;33m\u001b[0m\u001b[0m\n\u001b[0m\u001b[0;32m    269\u001b[0m         \u001b[1;32mif\u001b[0m \u001b[0mlen\u001b[0m\u001b[1;33m(\u001b[0m\u001b[0mline\u001b[0m\u001b[1;33m)\u001b[0m \u001b[1;33m>\u001b[0m \u001b[0m_MAXLINE\u001b[0m\u001b[1;33m:\u001b[0m\u001b[1;33m\u001b[0m\u001b[1;33m\u001b[0m\u001b[0m\n\u001b[0;32m    270\u001b[0m             \u001b[1;32mraise\u001b[0m \u001b[0mLineTooLong\u001b[0m\u001b[1;33m(\u001b[0m\u001b[1;34m\"status line\"\u001b[0m\u001b[1;33m)\u001b[0m\u001b[1;33m\u001b[0m\u001b[1;33m\u001b[0m\u001b[0m\n",
      "\u001b[1;32mD:\\Anaconda\\lib\\socket.py\u001b[0m in \u001b[0;36mreadinto\u001b[1;34m(self, b)\u001b[0m\n\u001b[0;32m    667\u001b[0m         \u001b[1;32mwhile\u001b[0m \u001b[1;32mTrue\u001b[0m\u001b[1;33m:\u001b[0m\u001b[1;33m\u001b[0m\u001b[1;33m\u001b[0m\u001b[0m\n\u001b[0;32m    668\u001b[0m             \u001b[1;32mtry\u001b[0m\u001b[1;33m:\u001b[0m\u001b[1;33m\u001b[0m\u001b[1;33m\u001b[0m\u001b[0m\n\u001b[1;32m--> 669\u001b[1;33m                 \u001b[1;32mreturn\u001b[0m \u001b[0mself\u001b[0m\u001b[1;33m.\u001b[0m\u001b[0m_sock\u001b[0m\u001b[1;33m.\u001b[0m\u001b[0mrecv_into\u001b[0m\u001b[1;33m(\u001b[0m\u001b[0mb\u001b[0m\u001b[1;33m)\u001b[0m\u001b[1;33m\u001b[0m\u001b[1;33m\u001b[0m\u001b[0m\n\u001b[0m\u001b[0;32m    670\u001b[0m             \u001b[1;32mexcept\u001b[0m \u001b[0mtimeout\u001b[0m\u001b[1;33m:\u001b[0m\u001b[1;33m\u001b[0m\u001b[1;33m\u001b[0m\u001b[0m\n\u001b[0;32m    671\u001b[0m                 \u001b[0mself\u001b[0m\u001b[1;33m.\u001b[0m\u001b[0m_timeout_occurred\u001b[0m \u001b[1;33m=\u001b[0m \u001b[1;32mTrue\u001b[0m\u001b[1;33m\u001b[0m\u001b[1;33m\u001b[0m\u001b[0m\n",
      "\u001b[1;31mKeyboardInterrupt\u001b[0m: "
     ]
    }
   ],
   "source": [
    "year = '2017'\n",
    "\n",
    "# Iterate through all months to get news\n",
    "titles_links = []\n",
    "for index, month in enumerate(month_options):\n",
    "    # Identify drop down menu for months \n",
    "    month_menu = Select(driver.find_element_by_id('inputMonth')) \n",
    "\n",
    "    # Select month by text if no duplicates present\n",
    "    if len(month_options) == len(set(month_options)): \n",
    "        month_menu.select_by_visible_text(month)\n",
    "    else:\n",
    "    # Select month by index if duplicates present\n",
    "        month_menu.select_by_index(index)\n",
    "\n",
    "    # Click submit button \n",
    "    driver.find_element_by_xpath(\"//button[@type='submit']\").click() \n",
    "\n",
    "    next_page = True \n",
    "    while next_page:\n",
    "        # If next button is available \n",
    "        if check_exists_by_xpath(\"//a[@class='page-link'][@rel='next']\"):\n",
    "            # Collect titles and urls of articles on present page\n",
    "            titles_links.extend(scrape_titles_links(year + '_' + month))\n",
    "\n",
    "            # Click the next button when it's clickable\n",
    "            next_button = WebDriverWait(driver, 10).until(\n",
    "                EC.element_to_be_clickable((By.XPATH, \"//a[@class='page-link'][@rel='next']\")))\n",
    "            action = ActionChains(driver)\n",
    "            action.click(next_button) \n",
    "            action.perform()\n",
    "            \n",
    "            # Navigate to the advertisement iframe if present\n",
    "            if check_exists_by_xpath(\"//iframe[@id='aswift_1']\"):\n",
    "                print('advertisement identified.')\n",
    "                frame = driver.find_element_by_xpath(\"//iframe[@id='aswift_1']\")\n",
    "                driver.switch_to.frame(frame)\n",
    "                print('driver switched to iframe.')\n",
    "\n",
    "                if check_exists_by_xpath(\"//div/div[@id='dismiss-button']\", 3):\n",
    "                    # Ad type 1: close button on top right\n",
    "                    driver.find_element_by_xpath((\"//div/div[@id='dismiss-button']\")).click()\n",
    "                    print('advertisement closed.')\n",
    "                elif check_exists_by_xpath(\"//iframe[@id='ad_iframe']\"):\n",
    "                    # Ad type 1: close button within the ad \n",
    "                    # Switch to iframe inside iframe\n",
    "                    frame = driver.find_element_by_xpath(\"//iframe[@id='ad_iframe']\")\n",
    "                    driver.switch_to.frame(frame)\n",
    "                    print('done step2')\n",
    "\n",
    "                    # Click the close button \n",
    "                    try:\n",
    "                        WebDriverWait(driver, 10).until(\n",
    "                            EC.element_to_be_clickable((By.XPATH, \"//div/div[@id='dismiss-button']\"))).click()\n",
    "                        #driver.find_element_by_xpath((\"//div/div[@id='dismiss-button']\")).click()\n",
    "                        print('done step3')\n",
    "                    except:\n",
    "                        pass\n",
    "                else:\n",
    "                    pass\n",
    "        else:\n",
    "            # Stop when there \n",
    "            print(month, 'last page.')\n",
    "\n",
    "            # Collect titles and urls of articles\n",
    "            titles_links.extend(scrape_titles_links(year + '_' + month))\n",
    "            print(month, 'No. of articles:', len(titles_links))\n",
    "\n",
    "            next_page = False"
   ]
  },
  {
   "cell_type": "code",
   "execution_count": 14,
   "id": "f6cc17d6-3c34-438a-bafe-b94f23b2f3cf",
   "metadata": {},
   "outputs": [
    {
     "data": {
      "text/plain": [
       "536"
      ]
     },
     "execution_count": 14,
     "metadata": {},
     "output_type": "execute_result"
    }
   ],
   "source": [
    "len(titles_links)"
   ]
  },
  {
   "cell_type": "code",
   "execution_count": 19,
   "id": "0547ff15-a763-4e1e-8201-d43bf461a1a9",
   "metadata": {},
   "outputs": [
    {
     "data": {
      "text/html": [
       "<div>\n",
       "<style scoped>\n",
       "    .dataframe tbody tr th:only-of-type {\n",
       "        vertical-align: middle;\n",
       "    }\n",
       "\n",
       "    .dataframe tbody tr th {\n",
       "        vertical-align: top;\n",
       "    }\n",
       "\n",
       "    .dataframe thead th {\n",
       "        text-align: right;\n",
       "    }\n",
       "</style>\n",
       "<table border=\"1\" class=\"dataframe\">\n",
       "  <thead>\n",
       "    <tr style=\"text-align: right;\">\n",
       "      <th></th>\n",
       "      <th>year_month</th>\n",
       "      <th>title</th>\n",
       "      <th>link</th>\n",
       "    </tr>\n",
       "  </thead>\n",
       "  <tbody>\n",
       "    <tr>\n",
       "      <th>0</th>\n",
       "      <td>2013_June</td>\n",
       "      <td>Syabas Zahid, KPN baru</td>\n",
       "      <td>https://www.malaymail.com/news/opinion/2013/06...</td>\n",
       "    </tr>\n",
       "    <tr>\n",
       "      <th>1</th>\n",
       "      <td>2013_June</td>\n",
       "      <td>Nusrat Fateh dan konsep muzik yang pelbagai</td>\n",
       "      <td>https://www.malaymail.com/news/opinion/2013/06...</td>\n",
       "    </tr>\n",
       "    <tr>\n",
       "      <th>2</th>\n",
       "      <td>2013_June</td>\n",
       "      <td>Expect thriller from Brazil and Spain</td>\n",
       "      <td>https://www.malaymail.com/news/opinion/2013/06...</td>\n",
       "    </tr>\n",
       "    <tr>\n",
       "      <th>3</th>\n",
       "      <td>2013_June</td>\n",
       "      <td>Man of Steel: Too much steel?</td>\n",
       "      <td>https://www.malaymail.com/news/opinion/2013/06...</td>\n",
       "    </tr>\n",
       "    <tr>\n",
       "      <th>4</th>\n",
       "      <td>2013_June</td>\n",
       "      <td>Paris’ gay community post-same-sex marriage law</td>\n",
       "      <td>https://www.malaymail.com/news/opinion/2013/06...</td>\n",
       "    </tr>\n",
       "    <tr>\n",
       "      <th>...</th>\n",
       "      <td>...</td>\n",
       "      <td>...</td>\n",
       "      <td>...</td>\n",
       "    </tr>\n",
       "    <tr>\n",
       "      <th>531</th>\n",
       "      <td>2013_December</td>\n",
       "      <td>Winner-takes-all Bangladesh looks for way forw...</td>\n",
       "      <td>https://www.malaymail.com/news/opinion/2013/12...</td>\n",
       "    </tr>\n",
       "    <tr>\n",
       "      <th>532</th>\n",
       "      <td>2013_December</td>\n",
       "      <td>Fight for your right to party!</td>\n",
       "      <td>https://www.malaymail.com/news/opinion/2013/12...</td>\n",
       "    </tr>\n",
       "    <tr>\n",
       "      <th>533</th>\n",
       "      <td>2013_December</td>\n",
       "      <td>You’ve got to be joking</td>\n",
       "      <td>https://www.malaymail.com/news/opinion/2013/12...</td>\n",
       "    </tr>\n",
       "    <tr>\n",
       "      <th>534</th>\n",
       "      <td>2013_December</td>\n",
       "      <td>After initial promise, Japan’s new economy ris...</td>\n",
       "      <td>https://www.malaymail.com/news/opinion/2013/12...</td>\n",
       "    </tr>\n",
       "    <tr>\n",
       "      <th>535</th>\n",
       "      <td>2013_December</td>\n",
       "      <td>Guns N Roses, Buckethead dan Bumblefoot</td>\n",
       "      <td>https://www.malaymail.com/news/opinion/2013/12...</td>\n",
       "    </tr>\n",
       "  </tbody>\n",
       "</table>\n",
       "<p>536 rows × 3 columns</p>\n",
       "</div>"
      ],
      "text/plain": [
       "        year_month                                              title  \\\n",
       "0        2013_June                             Syabas Zahid, KPN baru   \n",
       "1        2013_June        Nusrat Fateh dan konsep muzik yang pelbagai   \n",
       "2        2013_June              Expect thriller from Brazil and Spain   \n",
       "3        2013_June                      Man of Steel: Too much steel?   \n",
       "4        2013_June    Paris’ gay community post-same-sex marriage law   \n",
       "..             ...                                                ...   \n",
       "531  2013_December  Winner-takes-all Bangladesh looks for way forw...   \n",
       "532  2013_December                     Fight for your right to party!   \n",
       "533  2013_December                            You’ve got to be joking   \n",
       "534  2013_December  After initial promise, Japan’s new economy ris...   \n",
       "535  2013_December            Guns N Roses, Buckethead dan Bumblefoot   \n",
       "\n",
       "                                                  link  \n",
       "0    https://www.malaymail.com/news/opinion/2013/06...  \n",
       "1    https://www.malaymail.com/news/opinion/2013/06...  \n",
       "2    https://www.malaymail.com/news/opinion/2013/06...  \n",
       "3    https://www.malaymail.com/news/opinion/2013/06...  \n",
       "4    https://www.malaymail.com/news/opinion/2013/06...  \n",
       "..                                                 ...  \n",
       "531  https://www.malaymail.com/news/opinion/2013/12...  \n",
       "532  https://www.malaymail.com/news/opinion/2013/12...  \n",
       "533  https://www.malaymail.com/news/opinion/2013/12...  \n",
       "534  https://www.malaymail.com/news/opinion/2013/12...  \n",
       "535  https://www.malaymail.com/news/opinion/2013/12...  \n",
       "\n",
       "[536 rows x 3 columns]"
      ]
     },
     "execution_count": 19,
     "metadata": {},
     "output_type": "execute_result"
    }
   ],
   "source": [
    "df = pd.DataFrame(titles_links)\n",
    "df.columns = ['year_month', 'title', 'link']\n",
    "df"
   ]
  },
  {
   "cell_type": "code",
   "execution_count": 24,
   "id": "dae7660d-bbf9-438b-ae3f-351014db1ecb",
   "metadata": {},
   "outputs": [],
   "source": [
    "df.to_csv('data/malay_mail/opinion_' + year + '.csv', \n",
    "          index=False, encoding='utf-8-sig')\n",
    "\n",
    "# https://stackoverflow.com/questions/25788037/pandas-df-to-csvfile-csv-encode-utf-8-still-gives-trash-characters-for-min/43684587"
   ]
  },
  {
   "cell_type": "markdown",
   "id": "330e6305-3918-4711-8d3a-9b0649407682",
   "metadata": {
    "tags": []
   },
   "source": [
    "## Scrape text"
   ]
  },
  {
   "cell_type": "code",
   "execution_count": 10,
   "id": "6faf4665-2bf2-4584-8b91-f0e29220a0ff",
   "metadata": {},
   "outputs": [],
   "source": [
    "driver = webdriver.Chrome()"
   ]
  },
  {
   "cell_type": "code",
   "execution_count": 11,
   "id": "48cc53b5-b4f7-4773-9768-0e4a46d2bdc2",
   "metadata": {},
   "outputs": [
    {
     "data": {
      "text/plain": [
       "' KUALA LUMPUR, Jan 31 — Android TV boxes could be illegal in Malaysia as MCMC considers a move to ban the device. This, according to the commission, is on the premise to curb access to pirated content but it admits that the effort will need to involve other ministries and agencies. In addition, MCMC is prioritising its efforts on ways to prevent the download and streaming of pirated content rather than the out-and-out band of Android TV boxes. On the flipside, the ban could benefit Malaysia’s largest Pay-TV operator according to Maybank Investment Bank Research. The firm noted that Android TV boxes, which are gaining popularity in Malaysia, pose a huge problem for Pay-TV operators. “If Malaysia passes similar legislation, we believe that it would be a huge catalyst for Astro,” the firm told The Star when commenting on a similar ban being considered by the Singapore government. Singapore’s Law Ministry is looking to pass a law banning the sale of set-top boxes or media streaming boxes with services that allow consumers to access pirated content. In November 2018, the Singapore High Court ordered Internet service providers to cut Internet access to Android TV boxes. It’s not surprising that Astro is worried about the proliferation of Android TV boxes in Malaysia. In November 2018, Astro share prices fell to its lowest ever in five years at RM1.14 per share. While Astro’s share price has recovered somewhat to RM1.67 per share this month, it is still a far cry from the RM3.68 per share recorded by the company in August 2014. Closer to home, MCMC chairman Al-Ishsal Ishak said, the sale and ownership of set-top boxes with services that allow consumers to access pirated content is illegal in Malaysia, but he admits that the effort to pass a law banning Android TV boxes will require careful consideration and the involvement of various ministries and agencies. Difficult to enforce A ban on Android TV boxes would be difficult to enforce and should be the last resort in the fight against piracy. The commission is aware of this and is focusing its effort on exploring ways to limit or prevent the download of pirated content via the Android TV boxes before looking at a hard ban on the device. In any case, the widespread use of the Android operating system in smart TVs make the ban difficult to enforce. This is because there’s very little differentiating Android powered TVs and Android TV boxes in terms of features and functionality. If MCMC moves to ban Android TV boxes, does that mean Android powered smart TVs are banned too. At the same time, we are consuming content on our mobile devices more and more. If the ban does come to pass, would it be effective in preventing the consumption of pirated content in the country? Or would users just move to their mobile devices to access pirated content? While the move to better enforce the downloading and consumption of piracy content is a necessary and commendable one, it will be a tremendously challenging endeavour for MCMC. There is a multitude of factors for the commission to consider ensuring that any law that is passed on this matter directly benefits that content creators while not limiting the public’s freedom and right to access content freely and openly. — SoyaCincau'"
      ]
     },
     "execution_count": 11,
     "metadata": {},
     "output_type": "execute_result"
    }
   ],
   "source": [
    "driver.get('https://www.malaymail.com/news/malaysia/2019/01/31/mcmc-mulls-android-tv-box-ban-move-could-benefit-astro/1718651')\n",
    "\n",
    "# Click the consent button for collection of personal data\n",
    "consent_button = driver.find_element_by_xpath(\"//button[@class='fc-button fc-cta-consent fc-primary-button']\")\n",
    "ActionChains(driver).click(consent_button).perform()\n",
    "time.sleep(2)\n",
    "\n",
    "' '.join([text.text for text in driver.find_elements_by_xpath('//article/p')])"
   ]
  },
  {
   "cell_type": "code",
   "execution_count": 7,
   "id": "7b9710f1-17b6-40ca-86bb-df28f2f8e2c3",
   "metadata": {},
   "outputs": [],
   "source": [
    "# Click the consent button for collection of personal data\n",
    "consent_button = driver.find_element_by_xpath(\"//button[@class='fc-button fc-cta-consent fc-primary-button']\")\n",
    "ActionChains(driver).click(consent_button).perform()\n",
    "time.sleep(2)"
   ]
  },
  {
   "cell_type": "code",
   "execution_count": 14,
   "id": "8fd65b24-ab34-4462-8fdd-79ea9fe62931",
   "metadata": {},
   "outputs": [
    {
     "data": {
      "text/plain": [
       "['Wednesday, 31 Jul 2013 07:13 AM MYT', 'By Erna Mahyuni']"
      ]
     },
     "execution_count": 14,
     "metadata": {},
     "output_type": "execute_result"
    }
   ],
   "source": [
    "# Collect author and timestamp \n",
    "author_time = [text.text for text in driver.find_elements_by_xpath('//div[@class=\"byline\"]/p')]"
   ]
  },
  {
   "cell_type": "code",
   "execution_count": 8,
   "id": "63e6c340-7df0-4cd6-ad58-53cee63b7cc7",
   "metadata": {},
   "outputs": [
    {
     "data": {
      "text/plain": [
       "' KUALA LUMPUR, Jan 31 — Android TV boxes could be illegal in Malaysia as MCMC considers a move to ban the device. This, according to the commission, is on the premise to curb access to pirated content but it admits that the effort will need to involve other ministries and agencies. In addition, MCMC is prioritising its efforts on ways to prevent the download and streaming of pirated content rather than the out-and-out band of Android TV boxes. On the flipside, the ban could benefit Malaysia’s largest Pay-TV operator according to Maybank Investment Bank Research. The firm noted that Android TV boxes, which are gaining popularity in Malaysia, pose a huge problem for Pay-TV operators. “If Malaysia passes similar legislation, we believe that it would be a huge catalyst for Astro,” the firm told The Star when commenting on a similar ban being considered by the Singapore government. Singapore’s Law Ministry is looking to pass a law banning the sale of set-top boxes or media streaming boxes with services that allow consumers to access pirated content. In November 2018, the Singapore High Court ordered Internet service providers to cut Internet access to Android TV boxes. It’s not surprising that Astro is worried about the proliferation of Android TV boxes in Malaysia. In November 2018, Astro share prices fell to its lowest ever in five years at RM1.14 per share. While Astro’s share price has recovered somewhat to RM1.67 per share this month, it is still a far cry from the RM3.68 per share recorded by the company in August 2014. Closer to home, MCMC chairman Al-Ishsal Ishak said, the sale and ownership of set-top boxes with services that allow consumers to access pirated content is illegal in Malaysia, but he admits that the effort to pass a law banning Android TV boxes will require careful consideration and the involvement of various ministries and agencies. Difficult to enforce A ban on Android TV boxes would be difficult to enforce and should be the last resort in the fight against piracy. The commission is aware of this and is focusing its effort on exploring ways to limit or prevent the download of pirated content via the Android TV boxes before looking at a hard ban on the device. In any case, the widespread use of the Android operating system in smart TVs make the ban difficult to enforce. This is because there’s very little differentiating Android powered TVs and Android TV boxes in terms of features and functionality. If MCMC moves to ban Android TV boxes, does that mean Android powered smart TVs are banned too. At the same time, we are consuming content on our mobile devices more and more. If the ban does come to pass, would it be effective in preventing the consumption of pirated content in the country? Or would users just move to their mobile devices to access pirated content? While the move to better enforce the downloading and consumption of piracy content is a necessary and commendable one, it will be a tremendously challenging endeavour for MCMC. There is a multitude of factors for the commission to consider ensuring that any law that is passed on this matter directly benefits that content creators while not limiting the public’s freedom and right to access content freely and openly. — SoyaCincau'"
      ]
     },
     "execution_count": 8,
     "metadata": {},
     "output_type": "execute_result"
    }
   ],
   "source": [
    "' '.join([text.text for text in driver.find_elements_by_xpath('//article/p')])"
   ]
  },
  {
   "cell_type": "code",
   "execution_count": 19,
   "id": "498c0b09-6c24-4004-91e6-cbdc544fe4f5",
   "metadata": {},
   "outputs": [
    {
     "data": {
      "text/html": [
       "<div>\n",
       "<style scoped>\n",
       "    .dataframe tbody tr th:only-of-type {\n",
       "        vertical-align: middle;\n",
       "    }\n",
       "\n",
       "    .dataframe tbody tr th {\n",
       "        vertical-align: top;\n",
       "    }\n",
       "\n",
       "    .dataframe thead th {\n",
       "        text-align: right;\n",
       "    }\n",
       "</style>\n",
       "<table border=\"1\" class=\"dataframe\">\n",
       "  <thead>\n",
       "    <tr style=\"text-align: right;\">\n",
       "      <th></th>\n",
       "      <th>year_month</th>\n",
       "      <th>title</th>\n",
       "      <th>link</th>\n",
       "    </tr>\n",
       "  </thead>\n",
       "  <tbody>\n",
       "    <tr>\n",
       "      <th>0</th>\n",
       "      <td>2013_June</td>\n",
       "      <td>Syabas Zahid, KPN baru</td>\n",
       "      <td>https://www.malaymail.com/news/opinion/2013/06...</td>\n",
       "    </tr>\n",
       "    <tr>\n",
       "      <th>1</th>\n",
       "      <td>2013_June</td>\n",
       "      <td>Nusrat Fateh dan konsep muzik yang pelbagai</td>\n",
       "      <td>https://www.malaymail.com/news/opinion/2013/06...</td>\n",
       "    </tr>\n",
       "    <tr>\n",
       "      <th>2</th>\n",
       "      <td>2013_June</td>\n",
       "      <td>Expect thriller from Brazil and Spain</td>\n",
       "      <td>https://www.malaymail.com/news/opinion/2013/06...</td>\n",
       "    </tr>\n",
       "    <tr>\n",
       "      <th>3</th>\n",
       "      <td>2013_June</td>\n",
       "      <td>Man of Steel: Too much steel?</td>\n",
       "      <td>https://www.malaymail.com/news/opinion/2013/06...</td>\n",
       "    </tr>\n",
       "    <tr>\n",
       "      <th>4</th>\n",
       "      <td>2013_June</td>\n",
       "      <td>Paris’ gay community post-same-sex marriage law</td>\n",
       "      <td>https://www.malaymail.com/news/opinion/2013/06...</td>\n",
       "    </tr>\n",
       "    <tr>\n",
       "      <th>...</th>\n",
       "      <td>...</td>\n",
       "      <td>...</td>\n",
       "      <td>...</td>\n",
       "    </tr>\n",
       "    <tr>\n",
       "      <th>531</th>\n",
       "      <td>2013_December</td>\n",
       "      <td>Winner-takes-all Bangladesh looks for way forw...</td>\n",
       "      <td>https://www.malaymail.com/news/opinion/2013/12...</td>\n",
       "    </tr>\n",
       "    <tr>\n",
       "      <th>532</th>\n",
       "      <td>2013_December</td>\n",
       "      <td>Fight for your right to party!</td>\n",
       "      <td>https://www.malaymail.com/news/opinion/2013/12...</td>\n",
       "    </tr>\n",
       "    <tr>\n",
       "      <th>533</th>\n",
       "      <td>2013_December</td>\n",
       "      <td>You’ve got to be joking</td>\n",
       "      <td>https://www.malaymail.com/news/opinion/2013/12...</td>\n",
       "    </tr>\n",
       "    <tr>\n",
       "      <th>534</th>\n",
       "      <td>2013_December</td>\n",
       "      <td>After initial promise, Japan’s new economy ris...</td>\n",
       "      <td>https://www.malaymail.com/news/opinion/2013/12...</td>\n",
       "    </tr>\n",
       "    <tr>\n",
       "      <th>535</th>\n",
       "      <td>2013_December</td>\n",
       "      <td>Guns N Roses, Buckethead dan Bumblefoot</td>\n",
       "      <td>https://www.malaymail.com/news/opinion/2013/12...</td>\n",
       "    </tr>\n",
       "  </tbody>\n",
       "</table>\n",
       "<p>536 rows × 3 columns</p>\n",
       "</div>"
      ],
      "text/plain": [
       "        year_month                                              title  \\\n",
       "0        2013_June                             Syabas Zahid, KPN baru   \n",
       "1        2013_June        Nusrat Fateh dan konsep muzik yang pelbagai   \n",
       "2        2013_June              Expect thriller from Brazil and Spain   \n",
       "3        2013_June                      Man of Steel: Too much steel?   \n",
       "4        2013_June    Paris’ gay community post-same-sex marriage law   \n",
       "..             ...                                                ...   \n",
       "531  2013_December  Winner-takes-all Bangladesh looks for way forw...   \n",
       "532  2013_December                     Fight for your right to party!   \n",
       "533  2013_December                            You’ve got to be joking   \n",
       "534  2013_December  After initial promise, Japan’s new economy ris...   \n",
       "535  2013_December            Guns N Roses, Buckethead dan Bumblefoot   \n",
       "\n",
       "                                                  link  \n",
       "0    https://www.malaymail.com/news/opinion/2013/06...  \n",
       "1    https://www.malaymail.com/news/opinion/2013/06...  \n",
       "2    https://www.malaymail.com/news/opinion/2013/06...  \n",
       "3    https://www.malaymail.com/news/opinion/2013/06...  \n",
       "4    https://www.malaymail.com/news/opinion/2013/06...  \n",
       "..                                                 ...  \n",
       "531  https://www.malaymail.com/news/opinion/2013/12...  \n",
       "532  https://www.malaymail.com/news/opinion/2013/12...  \n",
       "533  https://www.malaymail.com/news/opinion/2013/12...  \n",
       "534  https://www.malaymail.com/news/opinion/2013/12...  \n",
       "535  https://www.malaymail.com/news/opinion/2013/12...  \n",
       "\n",
       "[536 rows x 3 columns]"
      ]
     },
     "execution_count": 19,
     "metadata": {},
     "output_type": "execute_result"
    }
   ],
   "source": [
    "pd.read_csv('data/malay_mail/opinion_2013.csv')"
   ]
  },
  {
   "cell_type": "markdown",
   "id": "9ea7a3bb-c676-4782-bb3e-0783a35f5be5",
   "metadata": {},
   "source": [
    "## Validation of texts"
   ]
  },
  {
   "cell_type": "code",
   "execution_count": 2,
   "id": "d2c740ca-5463-4ad2-93fc-828269284f24",
   "metadata": {},
   "outputs": [
    {
     "data": {
      "text/html": [
       "<div>\n",
       "<style scoped>\n",
       "    .dataframe tbody tr th:only-of-type {\n",
       "        vertical-align: middle;\n",
       "    }\n",
       "\n",
       "    .dataframe tbody tr th {\n",
       "        vertical-align: top;\n",
       "    }\n",
       "\n",
       "    .dataframe thead th {\n",
       "        text-align: right;\n",
       "    }\n",
       "</style>\n",
       "<table border=\"1\" class=\"dataframe\">\n",
       "  <thead>\n",
       "    <tr style=\"text-align: right;\">\n",
       "      <th></th>\n",
       "      <th>year_month</th>\n",
       "      <th>title</th>\n",
       "      <th>link</th>\n",
       "      <th>author</th>\n",
       "      <th>article</th>\n",
       "    </tr>\n",
       "  </thead>\n",
       "  <tbody>\n",
       "    <tr>\n",
       "      <th>0</th>\n",
       "      <td>2013_June</td>\n",
       "      <td>Syabas Zahid, KPN baru</td>\n",
       "      <td>https://www.malaymail.com/news/opinion/2013/06...</td>\n",
       "      <td>By Subky Abdul Latif</td>\n",
       "      <td>30 JUN — Syukur. Tahniah buat Blackout (Gelap)...</td>\n",
       "    </tr>\n",
       "    <tr>\n",
       "      <th>1</th>\n",
       "      <td>2013_June</td>\n",
       "      <td>Nusrat Fateh dan konsep muzik yang pelbagai</td>\n",
       "      <td>https://www.malaymail.com/news/opinion/2013/06...</td>\n",
       "      <td>By Meor Yusof Aziddin</td>\n",
       "      <td>30 JUN — Jika ditanya kepada saya siapa antara...</td>\n",
       "    </tr>\n",
       "    <tr>\n",
       "      <th>2</th>\n",
       "      <td>2013_June</td>\n",
       "      <td>Expect thriller from Brazil and Spain</td>\n",
       "      <td>https://www.malaymail.com/news/opinion/2013/06...</td>\n",
       "      <td>By Andy West</td>\n",
       "      <td>JUNE 29 — The Confederations Cup final between...</td>\n",
       "    </tr>\n",
       "    <tr>\n",
       "      <th>3</th>\n",
       "      <td>2013_June</td>\n",
       "      <td>Man of Steel: Too much steel?</td>\n",
       "      <td>https://www.malaymail.com/news/opinion/2013/06...</td>\n",
       "      <td>By Aidil Rusli</td>\n",
       "      <td>JUNE 29 — We tend to be a little bit possessiv...</td>\n",
       "    </tr>\n",
       "    <tr>\n",
       "      <th>4</th>\n",
       "      <td>2013_June</td>\n",
       "      <td>Paris’ gay community post-same-sex marriage law</td>\n",
       "      <td>https://www.malaymail.com/news/opinion/2013/06...</td>\n",
       "      <td>By Helen Hickey</td>\n",
       "      <td>JUNE 28 — How do they feel now? This is the qu...</td>\n",
       "    </tr>\n",
       "  </tbody>\n",
       "</table>\n",
       "</div>"
      ],
      "text/plain": [
       "  year_month                                            title  \\\n",
       "0  2013_June                           Syabas Zahid, KPN baru   \n",
       "1  2013_June      Nusrat Fateh dan konsep muzik yang pelbagai   \n",
       "2  2013_June            Expect thriller from Brazil and Spain   \n",
       "3  2013_June                    Man of Steel: Too much steel?   \n",
       "4  2013_June  Paris’ gay community post-same-sex marriage law   \n",
       "\n",
       "                                                link                 author  \\\n",
       "0  https://www.malaymail.com/news/opinion/2013/06...   By Subky Abdul Latif   \n",
       "1  https://www.malaymail.com/news/opinion/2013/06...  By Meor Yusof Aziddin   \n",
       "2  https://www.malaymail.com/news/opinion/2013/06...           By Andy West   \n",
       "3  https://www.malaymail.com/news/opinion/2013/06...         By Aidil Rusli   \n",
       "4  https://www.malaymail.com/news/opinion/2013/06...        By Helen Hickey   \n",
       "\n",
       "                                             article  \n",
       "0  30 JUN — Syukur. Tahniah buat Blackout (Gelap)...  \n",
       "1  30 JUN — Jika ditanya kepada saya siapa antara...  \n",
       "2  JUNE 29 — The Confederations Cup final between...  \n",
       "3  JUNE 29 — We tend to be a little bit possessiv...  \n",
       "4  JUNE 28 — How do they feel now? This is the qu...  "
      ]
     },
     "execution_count": 2,
     "metadata": {},
     "output_type": "execute_result"
    }
   ],
   "source": [
    "df = pd.read_csv('data/malay_mail/opinion_2013_complete.csv')\n",
    "df.head()"
   ]
  },
  {
   "cell_type": "code",
   "execution_count": 4,
   "id": "83c2eadd-29dc-4a76-864c-e0497c4aab53",
   "metadata": {},
   "outputs": [
    {
     "data": {
      "text/plain": [
       "year_month    0\n",
       "title         0\n",
       "link          0\n",
       "author        0\n",
       "article       0\n",
       "dtype: int64"
      ]
     },
     "execution_count": 4,
     "metadata": {},
     "output_type": "execute_result"
    }
   ],
   "source": [
    "df.isna().sum()"
   ]
  }
 ],
 "metadata": {
  "kernelspec": {
   "display_name": "Python 3",
   "language": "python",
   "name": "python3"
  },
  "language_info": {
   "codemirror_mode": {
    "name": "ipython",
    "version": 3
   },
   "file_extension": ".py",
   "mimetype": "text/x-python",
   "name": "python",
   "nbconvert_exporter": "python",
   "pygments_lexer": "ipython3",
   "version": "3.8.8"
  },
  "toc": {
   "base_numbering": 1,
   "nav_menu": {},
   "number_sections": true,
   "sideBar": true,
   "skip_h1_title": false,
   "title_cell": "Table of Contents",
   "title_sidebar": "Contents",
   "toc_cell": true,
   "toc_position": {},
   "toc_section_display": true,
   "toc_window_display": false
  }
 },
 "nbformat": 4,
 "nbformat_minor": 5
}
